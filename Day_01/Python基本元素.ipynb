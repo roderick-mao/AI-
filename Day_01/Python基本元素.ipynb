{
 "cells": [
  {
   "cell_type": "markdown",
   "id": "67724a85",
   "metadata": {},
   "source": [
    "# 基础语法元素\n",
    "## 1. 数据类型\n",
    "## 2. 变量\n",
    "## 3. 流程控制\n",
    "## 4. 输入输出\n",
    "## 5 .程序格式"
   ]
  },
  {
   "cell_type": "markdown",
   "id": "7d138282",
   "metadata": {},
   "source": [
    "## 1. 数据类型\n",
    "### 1.1 数字类型\n",
    "·int 整型\n",
    "\n",
    "·float 浮点型 （有小数点就是）\n",
    "\n",
    "·complex 复数（a+bj)"
   ]
  },
  {
   "cell_type": "markdown",
   "id": "267ca953",
   "metadata": {},
   "source": [
    "### 1.2字符串类型\n",
    "\n",
    "str字符串  视作文本 用\"\" 或者'' 表示\n"
   ]
  },
  {
   "cell_type": "markdown",
   "id": "4debe955",
   "metadata": {},
   "source": [
    "### 1.3 布尔类型\n",
    "bool 类型 主要用于逻辑运算\n",
    "True False"
   ]
  },
  {
   "cell_type": "markdown",
   "id": "bcce8a6b",
   "metadata": {},
   "source": [
    "### 1.4 组合类型：列表、元组、字典、集合"
   ]
  },
  {
   "cell_type": "markdown",
   "id": "be9c0651",
   "metadata": {},
   "source": [
    "##### 列表\n",
    "表示方式：[data1,data2....]"
   ]
  },
  {
   "cell_type": "code",
   "execution_count": 1,
   "id": "955df999",
   "metadata": {},
   "outputs": [],
   "source": [
    "a = [12, 34, 56]\n",
    "b = []  # 创建空列表\n",
    "# 在末尾添加\n",
    "a.append(43)\n",
    "# 在某个位置插入（第一个为0位置）\n",
    "a.insert(0, 432)   # 在列表索引 0 位置添加元素 432\n",
    "a.insert(0, 111)   # 在列表索引 0 位置添加元素 111\n",
    "# 列表方法 count(s) 会返回列表元素中 s 的数量\n",
    "a.count(43)   # 返回元素 43 的数量\n",
    "# 列表中移除任意指定值，你需要使用 remove() 方法\n",
    "a.remove(43)   # 删除的是元素\n",
    "# 反转整个列表\n",
    "a.reverse()\n",
    "# 将一个列表的所有元素添加到另一个列表的末尾\n",
    "b.append(43)\n",
    "a.extend(b)\n",
    "# 给列表排序，我们使用列表的 sort() 方法，排序的前提是列表的元素是可比较的\n",
    "a.sort()\n",
    "# 使用 del 关键字删除指定位置的列表元素\n",
    "del a[-1]   # 删除最后一位（倒数第一位）"
   ]
  },
  {
   "cell_type": "markdown",
   "id": "64dd7d0b",
   "metadata": {},
   "source": [
    "#### 元组\n",
    "表示方式 (data1,data2,....)\n",
    "\n",
    "元素不支持修改----“不可变的列表”\n"
   ]
  },
  {
   "cell_type": "code",
   "execution_count": null,
   "id": "c36fb069",
   "metadata": {},
   "outputs": [],
   "source": []
  },
  {
   "cell_type": "markdown",
   "id": "defc83ac",
   "metadata": {},
   "source": [
    "##### 字典\n",
    "dict 字典   映射类型： 通过 “键”-“值”的映射实现数据存储和查找\n",
    "\n",
    "表示方式：{key1:value1, key2:value2, .....}\n",
    "\n",
    "无序"
   ]
  },
  {
   "cell_type": "code",
   "execution_count": 2,
   "id": "c39db219",
   "metadata": {},
   "outputs": [
    {
     "name": "stdout",
     "output_type": "stream",
     "text": [
      "{'kushal': 'Fedora', 'kart_': 'Debian', 'Jace': 'Mac'}\n",
      "Debian\n"
     ]
    }
   ],
   "source": [
    "data = {'kushal':'Fedora', 'kart_':'Debian', 'Jace':'Mac'}\n",
    "print(data)\n",
    "print(data['kart_'])"
   ]
  },
  {
   "cell_type": "markdown",
   "id": "18d78f62",
   "metadata": {},
   "source": [
    "##### 集合\n",
    "set 集合 一系列互不相等的元素集合，无序的\n",
    "\n",
    "表示方式： {data1,data2,....}"
   ]
  },
  {
   "cell_type": "markdown",
   "id": "1eadd52f",
   "metadata": {},
   "source": [
    "## 2. 变量"
   ]
  },
  {
   "cell_type": "markdown",
   "id": "dc67790e",
   "metadata": {},
   "source": [
    "### 2.1 变量的命名\n",
    "\n",
    "字母，数字，下划线，汉字。。\n",
    "\n",
    "严格区分大小写\n",
    "\n",
    "首字符不能是数字\n",
    "\n",
    "变量名中间不能有空格\n",
    "\n",
    "不能使用33个python保留字"
   ]
  },
  {
   "cell_type": "markdown",
   "id": "bd55b21e",
   "metadata": {},
   "source": [
    "#### 命名技巧\n",
    "\n",
    "变量名尽可能有实际意义，表征数据的某种特征\n",
    "\n",
    "下划线（变量和函数名常用）\n",
    "age_of_students\n",
    "\n",
    "驼峰体（类名）\n",
    "AgeOfStudents\n",
    "\n",
    "大写（常量）\n",
    "MAXNUM "
   ]
  },
  {
   "cell_type": "markdown",
   "id": "8f4fbf6c",
   "metadata": {},
   "source": [
    "### 2.2 变量的赋值"
   ]
  },
  {
   "cell_type": "markdown",
   "id": "5be7ffe3",
   "metadata": {},
   "source": [
    "一般赋值"
   ]
  },
  {
   "cell_type": "code",
   "execution_count": 3,
   "id": "8674a8da",
   "metadata": {},
   "outputs": [
    {
     "data": {
      "text/plain": [
       "3"
      ]
     },
     "execution_count": 3,
     "metadata": {},
     "output_type": "execute_result"
    }
   ],
   "source": [
    "x = 1+2\n",
    "x"
   ]
  },
  {
   "cell_type": "markdown",
   "id": "3ddf07a5",
   "metadata": {},
   "source": [
    "增量复制"
   ]
  },
  {
   "cell_type": "code",
   "execution_count": 4,
   "id": "55069812",
   "metadata": {},
   "outputs": [
    {
     "data": {
      "text/plain": [
       "13"
      ]
     },
     "execution_count": 4,
     "metadata": {},
     "output_type": "execute_result"
    }
   ],
   "source": [
    "x += 10\n",
    "x"
   ]
  },
  {
   "cell_type": "markdown",
   "id": "2f51e193",
   "metadata": {},
   "source": [
    "打包赋值"
   ]
  },
  {
   "cell_type": "code",
   "execution_count": 6,
   "id": "9af3bdff",
   "metadata": {},
   "outputs": [
    {
     "name": "stdout",
     "output_type": "stream",
     "text": [
      "1 3\n",
      "3 1\n"
     ]
    }
   ],
   "source": [
    "x, y = 1, 3\n",
    "print(x,y)\n",
    "x, y = y, x\n",
    "print(x,y)"
   ]
  },
  {
   "cell_type": "markdown",
   "id": "327a21ad",
   "metadata": {},
   "source": [
    "## 3. 控制流程"
   ]
  },
  {
   "cell_type": "markdown",
   "id": "1371209b",
   "metadata": {},
   "source": [
    "### 3.1 顺序流程\n",
    "python默认就是顺序流程"
   ]
  },
  {
   "cell_type": "markdown",
   "id": "c33ebede",
   "metadata": {},
   "source": [
    "### 3.2 循环流程\n",
    "#### 遍历循环\n",
    "    for 元素 in 可迭代对象:\n",
    "        执行语句\n",
    "#### 无限循环\n",
    "    while 判断条件:\n",
    "        条件为真，执行语句\n",
    "    条件为假，while循环结束"
   ]
  },
  {
   "cell_type": "markdown",
   "id": "13e02cf3",
   "metadata": {},
   "source": [
    "### 3.3 分支流程\n",
    "    if 判断条件:\n",
    "        条件为真，执行语句\n",
    "    else:\n",
    "        条件为假，执行语句"
   ]
  },
  {
   "cell_type": "markdown",
   "id": "9fe90024",
   "metadata": {},
   "source": [
    "## 4. 输入输出"
   ]
  },
  {
   "cell_type": "markdown",
   "id": "f9215eca",
   "metadata": {},
   "source": [
    "### 4.1 数据输入方式\n",
    "#### 1，外部文件导入\n",
    "从本地硬盘，网络读入\n",
    "#### 2，程序中定义\n",
    "#### 3，动态交互输入 \n",
    "input() 得到一个字符串"
   ]
  },
  {
   "cell_type": "code",
   "execution_count": 9,
   "id": "3a9dd87b",
   "metadata": {},
   "outputs": [
    {
     "name": "stdout",
     "output_type": "stream",
     "text": [
      "请输入一个数字：4\n"
     ]
    },
    {
     "data": {
      "text/plain": [
       "'4'"
      ]
     },
     "execution_count": 9,
     "metadata": {},
     "output_type": "execute_result"
    }
   ],
   "source": [
    "x = input(\"请输入一个数字：\")\n",
    "x"
   ]
  },
  {
   "cell_type": "markdown",
   "id": "b896712c",
   "metadata": {},
   "source": [
    "eval(input()) 去掉引号，可以直接输入数字类型"
   ]
  },
  {
   "cell_type": "code",
   "execution_count": 11,
   "id": "54aede7a",
   "metadata": {},
   "outputs": [
    {
     "name": "stdout",
     "output_type": "stream",
     "text": [
      "请输入一个数字：4\n"
     ]
    }
   ],
   "source": [
    "y = eval(input(\"请输入一个数字：\"))"
   ]
  },
  {
   "cell_type": "markdown",
   "id": "b7ee7a7a",
   "metadata": {},
   "source": [
    "### 4.2 数据输出方式\n",
    "#### 1，存储到本地磁盘或者网络端\n",
    "\n",
    "#### 2，直接打印 print\n",
    "直接打印数据"
   ]
  },
  {
   "cell_type": "code",
   "execution_count": 14,
   "id": "cfc51b94",
   "metadata": {},
   "outputs": [
    {
     "name": "stdout",
     "output_type": "stream",
     "text": [
      "abc\n"
     ]
    }
   ],
   "source": [
    "print('abc')"
   ]
  },
  {
   "cell_type": "markdown",
   "id": "e7cfe6ca",
   "metadata": {},
   "source": [
    "打印变量"
   ]
  },
  {
   "cell_type": "code",
   "execution_count": 15,
   "id": "737685ea",
   "metadata": {},
   "outputs": [
    {
     "name": "stdout",
     "output_type": "stream",
     "text": [
      "4\n"
     ]
    }
   ],
   "source": [
    "print(x)"
   ]
  },
  {
   "cell_type": "markdown",
   "id": "37aca62f",
   "metadata": {},
   "source": [
    "控制换行  print(x,end='')"
   ]
  },
  {
   "cell_type": "code",
   "execution_count": 16,
   "id": "059a0c88",
   "metadata": {},
   "outputs": [
    {
     "name": "stdout",
     "output_type": "stream",
     "text": [
      "4 4不换行4\n"
     ]
    }
   ],
   "source": [
    "print(x,end=' ')\n",
    "print(x,end='不换行')\n",
    "print(x)"
   ]
  },
  {
   "cell_type": "markdown",
   "id": "b829f96a",
   "metadata": {},
   "source": [
    "##### 格式化输出方法 format\n",
    "基本格式： \"字符{0}字符{}字符\".format(v0,v1)"
   ]
  },
  {
   "cell_type": "code",
   "execution_count": 19,
   "id": "7608ae33",
   "metadata": {},
   "outputs": [
    {
     "name": "stdout",
     "output_type": "stream",
     "text": [
      "PI =  3.1415926 E =  2.71828\n",
      "PI = 3.1415926, E = 2.71828\n",
      "PI = 2.71828, E = 3.1415926\n",
      "PI = 3.1415926, E = 2.71828\n"
     ]
    }
   ],
   "source": [
    "PI = 3.1415926\n",
    "E = 2.71828\n",
    "print(\"PI = \", PI,\"E = \",E)\n",
    "print(\"PI = {0}, E = {1}\".format(PI,E))\n",
    "print(\"PI = {1}, E = {0}\".format(PI,E))\n",
    "print(\"PI = {}, E = {}\".format(PI,E))"
   ]
  },
  {
   "cell_type": "markdown",
   "id": "443dadf0",
   "metadata": {},
   "source": [
    "format填充"
   ]
  },
  {
   "cell_type": "code",
   "execution_count": 24,
   "id": "518a3df9",
   "metadata": {},
   "outputs": [
    {
     "name": "stdout",
     "output_type": "stream",
     "text": [
      "_____3.1415926______\n",
      "3.1415926___________\n",
      "___________3.1415926\n",
      "__________11,000,000\n"
     ]
    }
   ],
   "source": [
    "#_____3.1415926______ 进行填充\n",
    "print(\"{0:_^20}\".format(PI))  # 用\"_\" 填充 ^ 数据居中\n",
    "print(\"{0:_<20}\".format(PI))  # 用\"_\" 填充 < 数据左对齐\n",
    "print(\"{0:_>20}\".format(PI))  # 用\"_\" 填充 > 数据右对齐\n"
   ]
  },
  {
   "cell_type": "markdown",
   "id": "196849f9",
   "metadata": {},
   "source": [
    "千分位分割符号"
   ]
  },
  {
   "cell_type": "code",
   "execution_count": 43,
   "id": "c3113f3c",
   "metadata": {},
   "outputs": [
    {
     "name": "stdout",
     "output_type": "stream",
     "text": [
      "11,000,000\n"
     ]
    },
    {
     "ename": "ValueError",
     "evalue": "Format specifier missing precision",
     "output_type": "error",
     "traceback": [
      "\u001b[0;31m---------------------------------------------------------------------------\u001b[0m",
      "\u001b[0;31mValueError\u001b[0m                                Traceback (most recent call last)",
      "Input \u001b[0;32mIn [43]\u001b[0m, in \u001b[0;36m<cell line: 2>\u001b[0;34m()\u001b[0m\n\u001b[1;32m      1\u001b[0m \u001b[38;5;28mprint\u001b[39m(\u001b[38;5;124m\"\u001b[39m\u001b[38;5;132;01m{0:,}\u001b[39;00m\u001b[38;5;124m\"\u001b[39m\u001b[38;5;241m.\u001b[39mformat(\u001b[38;5;241m11000000\u001b[39m))  \u001b[38;5;66;03m# 千分位分割符为\",\"\u001b[39;00m\n\u001b[0;32m----> 2\u001b[0m \u001b[38;5;28mprint\u001b[39m(\u001b[38;5;124;43m\"\u001b[39;49m\u001b[38;5;124;43m{\u001b[39;49m\u001b[38;5;124;43m0:.}\u001b[39;49m\u001b[38;5;124;43m\"\u001b[39;49m\u001b[38;5;241;43m.\u001b[39;49m\u001b[43mformat\u001b[49m\u001b[43m(\u001b[49m\u001b[38;5;241;43m11000000\u001b[39;49m\u001b[43m)\u001b[49m)  \u001b[38;5;66;03m# 千分位分割符为\",\"\u001b[39;00m\n\u001b[1;32m      3\u001b[0m \u001b[38;5;28mprint\u001b[39m(\u001b[38;5;124m\"\u001b[39m\u001b[38;5;132;01m{0:_>20,}\u001b[39;00m\u001b[38;5;124m\"\u001b[39m\u001b[38;5;241m.\u001b[39mformat(\u001b[38;5;241m11000000\u001b[39m))\n",
      "\u001b[0;31mValueError\u001b[0m: Format specifier missing precision"
     ]
    }
   ],
   "source": [
    "print(\"{0:,}\".format(11000000))  # 设置千分位分割符\n",
    "print(\"{0:_>20,}\".format(11000000))  # 用\"_\" 填充 > 数据右对齐  并设置千分位分割符"
   ]
  },
  {
   "cell_type": "markdown",
   "id": "867d243a",
   "metadata": {},
   "source": [
    "留固定位小数"
   ]
  },
  {
   "cell_type": "code",
   "execution_count": 34,
   "id": "67b6f5d1",
   "metadata": {},
   "outputs": [
    {
     "name": "stdout",
     "output_type": "stream",
     "text": [
      "3.142\n"
     ]
    }
   ],
   "source": [
    "print(\"{0:.3f}\".format(PI))  #会自动五入四舍"
   ]
  },
  {
   "cell_type": "markdown",
   "id": "f40bea85",
   "metadata": {},
   "source": [
    "百分比输出"
   ]
  },
  {
   "cell_type": "code",
   "execution_count": 35,
   "id": "8a22257a",
   "metadata": {},
   "outputs": [
    {
     "name": "stdout",
     "output_type": "stream",
     "text": [
      "314.159%\n"
     ]
    }
   ],
   "source": [
    "print(\"{0:.3%}\".format(PI))"
   ]
  },
  {
   "cell_type": "markdown",
   "id": "6185f8d5",
   "metadata": {},
   "source": [
    "科学计数法"
   ]
  },
  {
   "cell_type": "code",
   "execution_count": 36,
   "id": "94a5ff62",
   "metadata": {},
   "outputs": [
    {
     "name": "stdout",
     "output_type": "stream",
     "text": [
      "1.324e+05\n"
     ]
    }
   ],
   "source": [
    "print(\"{0:.3e}\".format(132434))"
   ]
  },
  {
   "cell_type": "markdown",
   "id": "ecfe7f3b",
   "metadata": {},
   "source": [
    "整数进制转换"
   ]
  },
  {
   "cell_type": "code",
   "execution_count": 42,
   "id": "90ad7bf0",
   "metadata": {},
   "outputs": [
    {
     "name": "stdout",
     "output_type": "stream",
     "text": [
      "十进制=345 二进制=101011001 Unicode=ř 八进制=531 十六进制=159\n"
     ]
    }
   ],
   "source": [
    "print(\"十进制={0:d} 二进制={0:b} Unicode={0:c} 八进制={0:o} 十六进制={0:x}\".format(345))"
   ]
  },
  {
   "cell_type": "markdown",
   "id": "d9d3e825",
   "metadata": {},
   "source": [
    "### 格式化输出\n",
    "\"字符{0}字符{}字符\".format(v0,v1)\n",
    "### 以下严格按照顺序\n",
    "1, 引导符号\\\n",
    ":\n",
    "\n",
    "2, 填充\\\n",
    "用于填充* _ 0 等字符\\\n",
    "\n",
    "3, 对齐\\\n",
    "< 左对齐\\\n",
    "\\> 右对齐\\\n",
    "^ 居中对齐\n",
    "\n",
    "4, 宽度\\\n",
    "设定输出的宽度\n",
    "\n",
    "5, \",\" 是否设置千分位分隔符\n",
    "\n",
    "6, .精度\\\n",
    "浮点数为小数部分精度\\\n",
    "字符串为字符串长度\n",
    "\n",
    "7, 类型\\\n",
    "整数类型： b,c,d,o,x,X \\\n",
    "浮点类型：e,E,f,%"
   ]
  },
  {
   "cell_type": "markdown",
   "id": "16739043",
   "metadata": {},
   "source": [
    "## 5. 程序格式"
   ]
  },
  {
   "cell_type": "markdown",
   "id": "d2bf9bea",
   "metadata": {},
   "source": [
    "### 5.1 行最大长度79\n",
    "### 5.2 缩进\n",
    "### 5.3 使用空格\n",
    "> 二元运算符两边各加一个空格为好\n",
    ">> x = 2\\\n",
    ">> x + = 2\\\n",
    ">> x > 4\n",
    "\n",
    "> 计算优先级，在低优先级的运算符两边加空格\n",
    ">> x = x\\*2 - 1\\\n",
    ">> x = x\\*y + y\\*y\n",
    "\n",
    "> 逗号后使用空格\n",
    ">> x, y = 1, 2\\\n",
    ">> ls = [1, 2, 3]\n",
    "\n",
    "> 不要使用一个以上的逗号\n",
    "\n",
    "### 5.4 避免使用空格\n",
    "> 参数初始化时的\"=\"两侧不要使用空格\n",
    ">> def fun(n=1,m=2)\\\n",
    "    print(n,m)"
   ]
  },
  {
   "cell_type": "markdown",
   "id": "5d36853e",
   "metadata": {},
   "source": [
    "### 5.5 注释\n",
    "\\# 单行注释\\\n",
    "\"\"\"\\\n",
    "多行注释\\\n",
    "\"\"\""
   ]
  }
 ],
 "metadata": {
  "celltoolbar": "无",
  "kernelspec": {
   "display_name": "Python 3 (ipykernel)",
   "language": "python",
   "name": "python3"
  },
  "language_info": {
   "codemirror_mode": {
    "name": "ipython",
    "version": 3
   },
   "file_extension": ".py",
   "mimetype": "text/x-python",
   "name": "python",
   "nbconvert_exporter": "python",
   "pygments_lexer": "ipython3",
   "version": "3.9.13"
  }
 },
 "nbformat": 4,
 "nbformat_minor": 5
}
