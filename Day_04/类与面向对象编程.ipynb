{
 "cells": [
  {
   "cell_type": "markdown",
   "id": "f0b06cee",
   "metadata": {},
   "source": [
    "# 1. 类 —— 各个对象的共同属性"
   ]
  },
  {
   "cell_type": "markdown",
   "id": "c7c389de",
   "metadata": {},
   "source": [
    "## 类的三要素\n",
    "名称，属性，方法"
   ]
  },
  {
   "cell_type": "markdown",
   "id": "e6cc3259",
   "metadata": {},
   "source": [
    "### 1.1.1 命名\n",
    "    要有实际意义\n",
    "    驼峰命名法"
   ]
  },
  {
   "cell_type": "code",
   "execution_count": 1,
   "id": "bb92143a",
   "metadata": {},
   "outputs": [],
   "source": [
    "class car():\n",
    "    pass\n",
    "\n"
   ]
  },
  {
   "cell_type": "markdown",
   "id": "37255420",
   "metadata": {},
   "source": [
    "### 1.1.2 类的属性\n",
    "def __init__(self[,需要传的参数])：  初始化类"
   ]
  },
  {
   "cell_type": "markdown",
   "id": "a308f361",
   "metadata": {},
   "source": [
    "### 1.1.3 类的方法\n",
    "    定义类内部的函数"
   ]
  },
  {
   "cell_type": "code",
   "execution_count": 3,
   "id": "0dfeef85",
   "metadata": {},
   "outputs": [],
   "source": [
    "class Car():\n",
    "    \n",
    "    def __init__(self,brand,model,year):\n",
    "        self.brand = brand\n",
    "        self.model = model\n",
    "        self.year = year\n",
    "        self.mileage = 0\n",
    "        \n",
    "    def get_self_info(self):\n",
    "        print(\"品牌：{}    型号：{}    出厂年份：{}    \".format(self.brand, self.model, self.year))\n",
    "    \n",
    "    def get_mileage(self):\n",
    "        return \"行车总里程为：{} 公里\".format(self.mileage)"
   ]
  },
  {
   "cell_type": "markdown",
   "id": "342ccd8b",
   "metadata": {},
   "source": [
    "#### 类的实例化——创建对象"
   ]
  },
  {
   "cell_type": "code",
   "execution_count": 9,
   "id": "66be6a60",
   "metadata": {},
   "outputs": [
    {
     "name": "stdout",
     "output_type": "stream",
     "text": [
      "品牌：cadiliac    型号：ct4    出厂年份：2020    \n",
      "品牌：小鹏    型号：p7    出厂年份：2022    \n"
     ]
    }
   ],
   "source": [
    "my_old_car = Car('cadiliac','ct4',2020)\n",
    "my_old_car.get_self_info()\n",
    "my_new_car = Car(\"小鹏\", \"p7\", 2022)\n",
    "my_new_car.get_self_info()"
   ]
  },
  {
   "cell_type": "markdown",
   "id": "eb625e40",
   "metadata": {},
   "source": [
    "#### 修改对象属性"
   ]
  },
  {
   "cell_type": "markdown",
   "id": "bb979508",
   "metadata": {},
   "source": [
    "直接修改——重新实例化一个对象"
   ]
  },
  {
   "cell_type": "code",
   "execution_count": 10,
   "id": "848580fc",
   "metadata": {},
   "outputs": [],
   "source": [
    "my_new_car = Car(\"cadiliac\", \"ct6\", 2022)\n",
    "my_new_car.get_self_info()"
   ]
  },
  {
   "cell_type": "markdown",
   "id": "139f5272",
   "metadata": {},
   "source": [
    "访问属性修改"
   ]
  },
  {
   "cell_type": "code",
   "execution_count": 11,
   "id": "ca07c4fd",
   "metadata": {},
   "outputs": [
    {
     "name": "stdout",
     "output_type": "stream",
     "text": [
      "行车总里程为：100000 公里\n"
     ]
    }
   ],
   "source": [
    "my_old_car.mileage = 100000\n",
    "print(my_old_car.get_mileage())"
   ]
  },
  {
   "cell_type": "markdown",
   "id": "259611e8",
   "metadata": {},
   "source": [
    "通过类的方法修改"
   ]
  },
  {
   "cell_type": "code",
   "execution_count": 2,
   "id": "bd6a2e39",
   "metadata": {},
   "outputs": [],
   "source": [
    "class Car():\n",
    "    \n",
    "    def __init__(self,brand,model,year):\n",
    "        self.brand = brand\n",
    "        self.model = model\n",
    "        self.year = year\n",
    "        self.mileage = 0\n",
    "        \n",
    "    def get_self_info(self):\n",
    "        print(\"品牌：{}    型号：{}    出厂年份：{}    \".format(self.brand, self.model, self.year))\n",
    "    \n",
    "    def get_mileage(self):\n",
    "        return \"行车总里程为：{} 公里\".format(self.mileage)\n",
    "    \n",
    "    def set_mileage(self,mileage):\n",
    "        self.mileage = mileage\n",
    "\n"
   ]
  },
  {
   "cell_type": "code",
   "execution_count": 14,
   "id": "bb471300",
   "metadata": {},
   "outputs": [
    {
     "data": {
      "text/plain": [
       "'行车总里程为：12000 公里'"
      ]
     },
     "execution_count": 14,
     "metadata": {},
     "output_type": "execute_result"
    }
   ],
   "source": [
    "my_old_car = Car('cadiliac','ct4',2020)\n",
    "my_old_car.set_mileage(12000)\n",
    "my_old_car.get_mileage()"
   ]
  },
  {
   "cell_type": "markdown",
   "id": "77f4c2dd",
   "metadata": {},
   "source": [
    "## 1.2类的继承"
   ]
  },
  {
   "cell_type": "markdown",
   "id": "59956dd1",
   "metadata": {},
   "source": [
    "### 1.2.1简单的继承"
   ]
  },
  {
   "cell_type": "markdown",
   "id": "1d7d5e5b",
   "metadata": {},
   "source": [
    "class 子类名（父类名）："
   ]
  },
  {
   "cell_type": "code",
   "execution_count": 3,
   "id": "e99ca403",
   "metadata": {},
   "outputs": [],
   "source": [
    "class ElectricCar(Car):\n",
    "    \n",
    "    def __init__(self,brand,model,year):\n",
    "        super().__init__(brand,model,year)  # 声明继承父类的属性\n",
    "        "
   ]
  },
  {
   "cell_type": "markdown",
   "id": "dd574c72",
   "metadata": {},
   "source": [
    "自动继承父类的所有方法"
   ]
  },
  {
   "cell_type": "code",
   "execution_count": 5,
   "id": "449ae821",
   "metadata": {},
   "outputs": [
    {
     "name": "stdout",
     "output_type": "stream",
     "text": [
      "品牌：friday future    型号：FF91    出厂年份：2040    \n"
     ]
    }
   ],
   "source": [
    "my_electric_car = ElectricCar(\"friday future\",\"FF91\", 2040)\n",
    "my_electric_car.get_self_info()"
   ]
  },
  {
   "cell_type": "markdown",
   "id": "b9ca05fb",
   "metadata": {},
   "source": [
    "### 给子类添加属性和方法"
   ]
  },
  {
   "cell_type": "code",
   "execution_count": 6,
   "id": "dad51aa0",
   "metadata": {},
   "outputs": [],
   "source": [
    "class ElectricCar(Car):\n",
    "    \n",
    "    def __init__(self,brand,model,year,bettery_size):\n",
    "        super().__init__(brand,model,year)  # 声明继承父类的属性\n",
    "        self.bettery_size = bettery_size\n",
    "        self.electric_quantity = bettery_size\n",
    "        self.electric2distance_ratio = 5\n",
    "        self.remainder_range = self.electric_quantity * self.electric2distance_ratio\n",
    "        \n",
    "    def get_electric_quantity(self):\n",
    "        print(\"当前的剩余电量：{} kW.h\".format(self.electric_quantity))\n",
    "        \n",
    "    def set_electric_quantity(self, electric_quantity):\n",
    "        if electric_quantity >= 0 and electric_quantity <= self.bettery_size:\n",
    "            self.electric_quantity = electric_quantity\n",
    "            self.remainder_range = self.electric_quantity * self.electric2distance_ratio\n",
    "        else:\n",
    "            print(\"电量未设置在合理范围内！\")\n",
    "            \n",
    "    def get_remainder_range(self):\n",
    "        print(\"当前剩余电量可以继续行驶 {} 公里\".format(self.remainder_range))"
   ]
  },
  {
   "cell_type": "code",
   "execution_count": 7,
   "id": "2aaa1cfd",
   "metadata": {},
   "outputs": [
    {
     "name": "stdout",
     "output_type": "stream",
     "text": [
      "当前的剩余电量：100 kW.h\n",
      "当前的剩余电量：70 kW.h\n",
      "当前剩余电量可以继续行驶 350 公里\n"
     ]
    }
   ],
   "source": [
    "my_electric_car = ElectricCar(\"xiaopeng\",\"p7\",2022,100)\n",
    "my_electric_car.get_electric_quantity()\n",
    "my_electric_car.set_electric_quantity(70)\n",
    "my_electric_car.get_electric_quantity()\n",
    "my_electric_car.get_remainder_range()"
   ]
  },
  {
   "cell_type": "markdown",
   "id": "1f6895a4",
   "metadata": {},
   "source": [
    "### 重写父类方法——多态"
   ]
  },
  {
   "cell_type": "code",
   "execution_count": 9,
   "id": "cd6ace41",
   "metadata": {},
   "outputs": [],
   "source": [
    "class ElectricCar(Car):\n",
    "    \n",
    "    def __init__(self,brand,model,year,bettery_size):\n",
    "        super().__init__(brand,model,year)  # 声明继承父类的属性\n",
    "        self.bettery_size = bettery_size\n",
    "        self.electric_quantity = bettery_size\n",
    "        self.electric2distance_ratio = 5\n",
    "        self.remainder_range = self.electric_quantity * self.electric2distance_ratio\n",
    "        \n",
    "    def get_self_info(self):  # 重写父类方法\n",
    "        print(\"品牌：{}    型号：{}    出厂年份：{}   续航里程: {} KM \".format(self.brand, self.model, self.year, self.electric_quantity * self.electric2distance_ratio))\n",
    "        \n",
    "    def get_electric_quantity(self):\n",
    "        print(\"当前的剩余电量：{} kW.h\".format(self.electric_quantity))\n",
    "        \n",
    "    def set_electric_quantity(self, electric_quantity):\n",
    "        if electric_quantity >= 0 and electric_quantity <= self.bettery_size:\n",
    "            self.electric_quantity = electric_quantity\n",
    "            self.remainder_range = self.electric_quantity * self.electric2distance_ratio\n",
    "        else:\n",
    "            print(\"电量未设置在合理范围内！\")\n",
    "            \n",
    "    def get_remainder_range(self):\n",
    "        print(\"当前剩余电量可以继续行驶 {} 公里\".format(self.remainder_range))"
   ]
  },
  {
   "cell_type": "code",
   "execution_count": 10,
   "id": "52a70d67",
   "metadata": {},
   "outputs": [
    {
     "name": "stdout",
     "output_type": "stream",
     "text": [
      "品牌：xiaopeng    型号：p7    出厂年份：2022   续航里程: 500 KM \n"
     ]
    }
   ],
   "source": [
    "my_electric_car = ElectricCar(\"xiaopeng\",\"p7\",2022,100)\n",
    "my_electric_car.get_self_info()"
   ]
  },
  {
   "cell_type": "markdown",
   "id": "9dbc0916",
   "metadata": {},
   "source": [
    "### 用在类中的实例"
   ]
  },
  {
   "cell_type": "markdown",
   "id": "70301e48",
   "metadata": {},
   "source": [
    "    把电池抽象成一个对象"
   ]
  },
  {
   "cell_type": "code",
   "execution_count": 12,
   "id": "29393c71",
   "metadata": {},
   "outputs": [],
   "source": [
    "class Bettery():\n",
    "    \n",
    "    def __init__(self, bettery_size = 100):\n",
    "        self.bettery_size = bettery_size\n",
    "        self.electric_quantity = bettery_size\n",
    "        self.electric2distance_ratio = 5\n",
    "        self.remainder_range = self.electric_quantity * self.electric2distance_ratio\n",
    "    \n",
    "    def get_electric_quantity(self):\n",
    "        print(\"当前的剩余电量：{} kW.h\".format(self.electric_quantity))\n",
    "        \n",
    "    def set_electric_quantity(self, electric_quantity):\n",
    "        if electric_quantity >= 0 and electric_quantity <= self.bettery_size:\n",
    "            self.electric_quantity = electric_quantity\n",
    "            self.remainder_range = self.electric_quantity * self.electric2distance_ratio\n",
    "        else:\n",
    "            print(\"电量未设置在合理范围内！\")\n",
    "            \n",
    "    def get_remainder_range(self):\n",
    "        print(\"当前剩余电量可以继续行驶 {} 公里\".format(self.remainder_range))"
   ]
  },
  {
   "cell_type": "code",
   "execution_count": 17,
   "id": "f426ed6c",
   "metadata": {},
   "outputs": [],
   "source": [
    "class ElectricCar(Car):\n",
    "    \n",
    "    def __init__(self,brand,model,year,bettery_size):\n",
    "        super().__init__(brand,model,year)\n",
    "        self.bettery = Bettery(bettery_size)\n",
    "        \n",
    "    def get_self_info(self):  # 重写父类方法\n",
    "        print(\"品牌：{}    型号：{}    出厂年份：{}   续航里程: {} KM \".format(self.brand, self.model, self.year, self.bettery.electric_quantity * self.bettery.electric2distance_ratio))"
   ]
  },
  {
   "cell_type": "code",
   "execution_count": 18,
   "id": "3cd1c9d3",
   "metadata": {},
   "outputs": [],
   "source": [
    "my_electric_car = ElectricCar(\"xiaopeng\",\"p7\",2022,100)"
   ]
  },
  {
   "cell_type": "code",
   "execution_count": 19,
   "id": "1ad0fc0c",
   "metadata": {},
   "outputs": [
    {
     "name": "stdout",
     "output_type": "stream",
     "text": [
      "品牌：xiaopeng    型号：p7    出厂年份：2022   续航里程: 500 KM \n",
      "当前的剩余电量：100 kW.h\n",
      "当前的剩余电量：70 kW.h\n",
      "当前剩余电量可以继续行驶 350 公里\n"
     ]
    }
   ],
   "source": [
    "my_electric_car.get_self_info()\n",
    "my_electric_car.bettery.get_electric_quantity()\n",
    "my_electric_car.bettery.set_electric_quantity(70)\n",
    "my_electric_car.bettery.get_electric_quantity()\n",
    "my_electric_car.bettery.get_remainder_range()"
   ]
  }
 ],
 "metadata": {
  "kernelspec": {
   "display_name": "Python 3 (ipykernel)",
   "language": "python",
   "name": "python3"
  },
  "language_info": {
   "codemirror_mode": {
    "name": "ipython",
    "version": 3
   },
   "file_extension": ".py",
   "mimetype": "text/x-python",
   "name": "python",
   "nbconvert_exporter": "python",
   "pygments_lexer": "ipython3",
   "version": "3.9.13"
  }
 },
 "nbformat": 4,
 "nbformat_minor": 5
}
