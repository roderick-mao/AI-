{
 "cells": [
  {
   "cell_type": "markdown",
   "id": "ad57c67f",
   "metadata": {},
   "source": [
    "# 基础数据类型"
   ]
  },
  {
   "cell_type": "markdown",
   "id": "a6434792",
   "metadata": {},
   "source": [
    "## 1. 数字类型\n",
    ">分类\\\n",
    "操作符\\\n",
    "操作函数\n",
    "## 2. 字符串类型\n",
    ">基本性质\\\n",
    "操作符\\\n",
    "操作函数\n",
    "## 3. 布尔类型\n",
    ">逻辑运算\n",
    "## 4. 类型转换\n",
    ">类型判断\\\n",
    "类型转换"
   ]
  },
  {
   "cell_type": "markdown",
   "id": "160cd4c3",
   "metadata": {},
   "source": [
    "# 1.数字类型\n",
    "\n",
    "## 1.1 数字类型的组成\n",
    "\n",
    "### 1.1.1 整数-----不同进制转换\n",
    "\n",
    ">默认输入十进制\\\n",
    "二进制0b 、八进制0o、十六进制0x"
   ]
  },
  {
   "cell_type": "code",
   "execution_count": 1,
   "id": "ffcab199",
   "metadata": {},
   "outputs": [
    {
     "data": {
      "text/plain": [
       "True"
      ]
     },
     "execution_count": 1,
     "metadata": {},
     "output_type": "execute_result"
    }
   ],
   "source": [
    "16 == 0b10000 == 0o20 == 0x10"
   ]
  },
  {
   "cell_type": "markdown",
   "id": "bd0c9052",
   "metadata": {},
   "source": [
    "十进制与其他进制转换"
   ]
  },
  {
   "cell_type": "code",
   "execution_count": 2,
   "id": "3692a85e",
   "metadata": {},
   "outputs": [
    {
     "name": "stdout",
     "output_type": "stream",
     "text": [
      "0b10000 0o20 0x10\n"
     ]
    },
    {
     "data": {
      "text/plain": [
       "False"
      ]
     },
     "execution_count": 2,
     "metadata": {},
     "output_type": "execute_result"
    }
   ],
   "source": [
    "a = bin(16)  # 转换为2进制 \n",
    "b = oct(16)  # 转换为8进制\n",
    "c = hex(16)  # 转换为16进制\n",
    "\n",
    "print(a,b,c)\n",
    "\n",
    "a == b == c"
   ]
  },
  {
   "cell_type": "markdown",
   "id": "df552d3c",
   "metadata": {},
   "source": [
    "注意：经过上述函数转化后为字符串类型"
   ]
  },
  {
   "cell_type": "code",
   "execution_count": 3,
   "id": "f9af5dd1",
   "metadata": {},
   "outputs": [
    {
     "data": {
      "text/plain": [
       "str"
      ]
     },
     "execution_count": 3,
     "metadata": {},
     "output_type": "execute_result"
    }
   ],
   "source": [
    "type(a)"
   ]
  },
  {
   "cell_type": "markdown",
   "id": "1909f512",
   "metadata": {},
   "source": [
    "其他进制转换为十进制"
   ]
  },
  {
   "cell_type": "code",
   "execution_count": 5,
   "id": "9ea818c0",
   "metadata": {},
   "outputs": [
    {
     "name": "stdout",
     "output_type": "stream",
     "text": [
      "16 16 16\n"
     ]
    },
    {
     "data": {
      "text/plain": [
       "int"
      ]
     },
     "execution_count": 5,
     "metadata": {},
     "output_type": "execute_result"
    }
   ],
   "source": [
    "d = int(a,2)    # 二进制转十进制\n",
    "e = int(b,8)    # 八进制转十进制\n",
    "f = int(c,16)   # 十六进制转十进制\n",
    "print(d, e, f)\n",
    "type(d)"
   ]
  },
  {
   "cell_type": "markdown",
   "id": "3b8ea897",
   "metadata": {},
   "source": [
    "### 1.1.2 浮点数----不确定性\n",
    "\n",
    "不确定小数问题"
   ]
  },
  {
   "cell_type": "code",
   "execution_count": 6,
   "id": "40dddec7",
   "metadata": {},
   "outputs": [
    {
     "data": {
      "text/plain": [
       "False"
      ]
     },
     "execution_count": 6,
     "metadata": {},
     "output_type": "execute_result"
    }
   ],
   "source": [
    "(0.1+0.2) == 0.3\n"
   ]
  },
  {
   "cell_type": "code",
   "execution_count": 7,
   "id": "082d4799",
   "metadata": {},
   "outputs": [
    {
     "data": {
      "text/plain": [
       "0.30000000000000004"
      ]
     },
     "execution_count": 7,
     "metadata": {},
     "output_type": "execute_result"
    }
   ],
   "source": [
    "(0.1+0.2)"
   ]
  },
  {
   "cell_type": "markdown",
   "id": "7e8baa5a",
   "metadata": {},
   "source": [
    "#### 计算机采用二进制小数来表示浮点数的小数部分。所以导致部分小数无法使用二进制小数完全表示，需要通过一些值去近似十进制小数\n"
   ]
  },
  {
   "cell_type": "markdown",
   "id": "ea608053",
   "metadata": {},
   "source": [
    "计算机计算浮点数实际进位为 1/2 每进一位浮点数便大一倍\n",
    "\n",
    "使用round函数四舍五入获得精确值"
   ]
  },
  {
   "cell_type": "code",
   "execution_count": 20,
   "id": "d693484f",
   "metadata": {},
   "outputs": [
    {
     "name": "stdout",
     "output_type": "stream",
     "text": [
      "0.3\n"
     ]
    },
    {
     "data": {
      "text/plain": [
       "float"
      ]
     },
     "execution_count": 20,
     "metadata": {},
     "output_type": "execute_result"
    }
   ],
   "source": [
    "a = round(0.3,1)   # 第二个参数为保留的位数\n",
    "print(a)\n",
    "type(a)"
   ]
  },
  {
   "cell_type": "markdown",
   "id": "a50cbafb",
   "metadata": {},
   "source": [
    "### 1.1.3 复数----a+bj\n",
    "\n",
    "大写J或者小写j皆可"
   ]
  },
  {
   "cell_type": "code",
   "execution_count": 21,
   "id": "6ba7f678",
   "metadata": {},
   "outputs": [
    {
     "data": {
      "text/plain": [
       "(4+1j)"
      ]
     },
     "execution_count": 21,
     "metadata": {},
     "output_type": "execute_result"
    }
   ],
   "source": [
    "3+4j\n",
    "2+5J\n",
    "4+1j # j前系数为1 不能省略"
   ]
  },
  {
   "cell_type": "markdown",
   "id": "51937f0a",
   "metadata": {},
   "source": [
    "## 1.2 数字运算操作符"
   ]
  },
  {
   "cell_type": "code",
   "execution_count": 24,
   "id": "676abf86",
   "metadata": {},
   "outputs": [
    {
     "data": {
      "text/plain": [
       "0.8"
      ]
     },
     "execution_count": 24,
     "metadata": {},
     "output_type": "execute_result"
    }
   ],
   "source": [
    "# 加减乘除\n",
    "(1+2*4-5)/5  # 自动乘除优先"
   ]
  },
  {
   "cell_type": "code",
   "execution_count": 25,
   "id": "7a7a76e3",
   "metadata": {},
   "outputs": [
    {
     "data": {
      "text/plain": [
       "-2"
      ]
     },
     "execution_count": 25,
     "metadata": {},
     "output_type": "execute_result"
    }
   ],
   "source": [
    "# 取反\n",
    "x = 2\n",
    "-x"
   ]
  },
  {
   "cell_type": "code",
   "execution_count": 27,
   "id": "168abce7",
   "metadata": {},
   "outputs": [
    {
     "data": {
      "text/plain": [
       "0.17647058823529413"
      ]
     },
     "execution_count": 27,
     "metadata": {},
     "output_type": "execute_result"
    }
   ],
   "source": [
    "# 乘方   **\n",
    "3**5\n"
   ]
  },
  {
   "cell_type": "code",
   "execution_count": 29,
   "id": "ae646631",
   "metadata": {},
   "outputs": [
    {
     "name": "stdout",
     "output_type": "stream",
     "text": [
      "2\n"
     ]
    },
    {
     "data": {
      "text/plain": [
       "3"
      ]
     },
     "execution_count": 29,
     "metadata": {},
     "output_type": "execute_result"
    }
   ],
   "source": [
    "# 整数商   //\n",
    "print(13//5)\n",
    "# 模运算（余数）   %\n",
    "13 % 5 "
   ]
  },
  {
   "cell_type": "markdown",
   "id": "1412b89f",
   "metadata": {},
   "source": [
    "幂次方  pow(x,n) = x ** n\\\n",
    "绝对值  abs()\\\n",
    "五入四舍  round(x,n)  n为取小数的值 默认为0"
   ]
  },
  {
   "cell_type": "markdown",
   "id": "a5c4c1fb",
   "metadata": {},
   "source": [
    "#### 特殊计算函数\n",
    "整数商和模运算 divmod(x,y)\\\n",
    "等价于返回二元元组(x//y, x%y)   但计算速度更快\n",
    "\n",
    "pow(x,n,m)   =  x ** n % m   但计算速度更快"
   ]
  },
  {
   "cell_type": "code",
   "execution_count": 30,
   "id": "d76ac1cf",
   "metadata": {},
   "outputs": [
    {
     "name": "stdout",
     "output_type": "stream",
     "text": [
      "(2, 3)\n",
      "3\n"
     ]
    }
   ],
   "source": [
    "print(divmod(13,5))\n",
    "print(pow(3,5,6))"
   ]
  },
  {
   "cell_type": "markdown",
   "id": "ff768037",
   "metadata": {},
   "source": [
    "序列最大、最小值 max()  /   min()\\\n",
    "直接输入或者是元组，列表,集合都可以作为输入"
   ]
  },
  {
   "cell_type": "code",
   "execution_count": 31,
   "id": "a19bd5de",
   "metadata": {},
   "outputs": [
    {
     "data": {
      "text/plain": [
       "7"
      ]
     },
     "execution_count": 31,
     "metadata": {},
     "output_type": "execute_result"
    }
   ],
   "source": [
    "max(3,4,5,6,2,5,3,7)"
   ]
  },
  {
   "cell_type": "code",
   "execution_count": 36,
   "id": "8aa194cb",
   "metadata": {},
   "outputs": [
    {
     "name": "stdout",
     "output_type": "stream",
     "text": [
      "7 6 6\n",
      "2 2 2\n"
     ]
    }
   ],
   "source": [
    "a = [3,4,5,6,2,5,3,7]\n",
    "b = (4,3,5,2,5,6,3)\n",
    "c = {4,3,5,2,5,6,3}\n",
    "print(max(a),max(b),max(c))\n",
    "print(min(a),min(b),min(c))"
   ]
  },
  {
   "cell_type": "markdown",
   "id": "179b9b22",
   "metadata": {},
   "source": [
    "求和sum(x)  不能直接输入需要求和的值，需要输入为元素序列 元组，列表，集合"
   ]
  },
  {
   "cell_type": "code",
   "execution_count": 38,
   "id": "385f4f22",
   "metadata": {},
   "outputs": [
    {
     "name": "stdout",
     "output_type": "stream",
     "text": [
      "35 28 20\n",
      "18\n"
     ]
    }
   ],
   "source": [
    "print(sum(a),sum(b),sum(c))\n",
    "print(sum((2,4,5,2,5,)))"
   ]
  },
  {
   "cell_type": "markdown",
   "id": "e5b2749f",
   "metadata": {},
   "source": [
    "借助科学计算库 math/scipy/numpy"
   ]
  },
  {
   "cell_type": "code",
   "execution_count": 39,
   "id": "a10b68a6",
   "metadata": {},
   "outputs": [
    {
     "data": {
      "text/plain": [
       "2.0"
      ]
     },
     "execution_count": 39,
     "metadata": {},
     "output_type": "execute_result"
    }
   ],
   "source": [
    "import math\n",
    "math.exp(1)   #指数运算   e^x\n",
    "math.log2(2)  #对数运算\n",
    "math.sqrt(4)  # 开平方  等价与 4^0.5"
   ]
  },
  {
   "cell_type": "code",
   "execution_count": 41,
   "id": "f1cc3637",
   "metadata": {},
   "outputs": [
    {
     "data": {
      "text/plain": [
       "1.4142135623730951"
      ]
     },
     "execution_count": 41,
     "metadata": {},
     "output_type": "execute_result"
    }
   ],
   "source": [
    "import numpy as np\n",
    "a = [1,2,3,4,5]\n",
    "np.mean(a)   # 求均值\n",
    "np.median(a)  # 求中位数\n",
    "np.std(a)  # 求标准差"
   ]
  },
  {
   "cell_type": "markdown",
   "id": "1077ba91",
   "metadata": {},
   "source": [
    "# 2.字符串类型"
   ]
  },
  {
   "cell_type": "markdown",
   "id": "7895a30d",
   "metadata": {},
   "source": [
    "## 2.1 字符串的表达\n",
    "用 \" 或者 ' 括起来的部分"
   ]
  },
  {
   "cell_type": "code",
   "execution_count": 42,
   "id": "1488d32a",
   "metadata": {},
   "outputs": [
    {
     "name": "stdout",
     "output_type": "stream",
     "text": [
      "Python\n",
      "python\n"
     ]
    }
   ],
   "source": [
    "print(\"Python\")\n",
    "print('python')"
   ]
  },
  {
   "cell_type": "markdown",
   "id": "e649baaf",
   "metadata": {},
   "source": [
    "字符串有双引号或者单引号的情况"
   ]
  },
  {
   "cell_type": "code",
   "execution_count": 46,
   "id": "6ef3c000",
   "metadata": {},
   "outputs": [
    {
     "name": "stdout",
     "output_type": "stream",
     "text": [
      "I'm 18 years old\n",
      "\"Python is good\"\n",
      "\"Python\"is good\n",
      "'Python'is good\n"
     ]
    }
   ],
   "source": [
    "#双中有单\n",
    "print(\"I'm 18 years old\")\n",
    "#单中有双\n",
    "print('\"Python is good\"')\n",
    "#双中有双，单中有单需要用转义符\n",
    "print(\"\\\"Python\\\"is good\")\n",
    "print('\\'Python\\'is good')"
   ]
  },
  {
   "cell_type": "markdown",
   "id": "9e91bcd1",
   "metadata": {},
   "source": [
    "转义符可以用来换行继续输入\n"
   ]
  },
  {
   "cell_type": "code",
   "execution_count": 47,
   "id": "656dd7b7",
   "metadata": {},
   "outputs": [
    {
     "name": "stdout",
     "output_type": "stream",
     "text": [
      "python\n"
     ]
    }
   ],
   "source": [
    "s = \"py\\\n",
    "thon\"\n",
    "print(s)"
   ]
  },
  {
   "cell_type": "markdown",
   "id": "e618c8ec",
   "metadata": {},
   "source": [
    "## 2.2 字符串的性质"
   ]
  },
  {
   "cell_type": "markdown",
   "id": "f266a437",
   "metadata": {},
   "source": [
    "### 2.2.1 字符串的索引"
   ]
  },
  {
   "cell_type": "code",
   "execution_count": 49,
   "id": "6712ec9f",
   "metadata": {},
   "outputs": [
    {
     "name": "stdout",
     "output_type": "stream",
     "text": [
      "M a m\n",
      "g P  \n"
     ]
    }
   ],
   "source": [
    "# 按位置索引\n",
    "s = \"My name is Peppa Pig\"\n",
    "print(s[0],s[4],s[5]) # 正向索引，不能超过字符串的长度\n",
    "print(s[-1],s[-3],s[-4])  # 反向索引"
   ]
  },
  {
   "cell_type": "markdown",
   "id": "b6566818",
   "metadata": {},
   "source": [
    "## 2.2.2 字符串切片\n",
    "####  方式：变量名[开始位置:结束位置:切片间隔]\n",
    "> 切片间隔不设置默认为1，可省略\\\n",
    "切片范围不包含结束位置（开区间）\\\n",
    "起始位置默认为0可以省略\\\n",
    "结束位置省略即为到最后一个字符\\\n",
    "可以使用反向索引（倒叙最后需要: -1)"
   ]
  },
  {
   "cell_type": "code",
   "execution_count": 55,
   "id": "6595c299",
   "metadata": {},
   "outputs": [
    {
     "name": "stdout",
     "output_type": "stream",
     "text": [
      "Pytho\n",
      "Pytho\n",
      "Ph\n",
      "Pto\n",
      "thon_is_good\n",
      "Python_is_good\n",
      "\n",
      "doog\n",
      "doog\n",
      "doog_si_nohtyP\n",
      "doog_si_nohtyP\n"
     ]
    }
   ],
   "source": [
    "s = \"Python_is_good\"\n",
    "print(s[0:5])\n",
    "print(s[0:5:1])\n",
    "print(s[0:5:3])\n",
    "print(s[:5:2])\n",
    "print(s[2:])\n",
    "print(s[:])\n",
    "print(s[-1:-5])   # 无输出，不可省略切片间隔\n",
    "print(s[-1:-5:-1])\n",
    "print(s[:-5:-1])\n",
    "print(s[-1::-1])\n",
    "print(s[::-1])"
   ]
  },
  {
   "cell_type": "markdown",
   "id": "989dbdd3",
   "metadata": {},
   "source": [
    "## 2.3 字符串操作符"
   ]
  },
  {
   "cell_type": "markdown",
   "id": "df1e799d",
   "metadata": {},
   "source": [
    "### 2.3.1 字符串的拼接"
   ]
  },
  {
   "cell_type": "markdown",
   "id": "da611dc4",
   "metadata": {},
   "source": [
    "字符串1 + 字符串2"
   ]
  },
  {
   "cell_type": "markdown",
   "id": "a76a294f",
   "metadata": {},
   "source": [
    "### 2.3.2 字符串成倍的复制"
   ]
  },
  {
   "cell_type": "markdown",
   "id": "80bc1726",
   "metadata": {},
   "source": [
    "字符串 * n   n * 字符串"
   ]
  },
  {
   "cell_type": "markdown",
   "id": "1733642a",
   "metadata": {},
   "source": [
    "### 2.3.3 成员运算"
   ]
  },
  {
   "cell_type": "markdown",
   "id": "e0d36e8d",
   "metadata": {},
   "source": [
    "子集 in 全集 \n",
    "> 任何一个连续的切片都是原字符串的子集"
   ]
  },
  {
   "cell_type": "code",
   "execution_count": 57,
   "id": "a3cec3b6",
   "metadata": {},
   "outputs": [
    {
     "data": {
      "text/plain": [
       "True"
      ]
     },
     "execution_count": 57,
     "metadata": {},
     "output_type": "execute_result"
    }
   ],
   "source": [
    "folk_singers = 'Peter, Paul and Mary'\n",
    "\"Peter\" in folk_singers\n"
   ]
  },
  {
   "cell_type": "markdown",
   "id": "4250629b",
   "metadata": {},
   "source": [
    "遍历字符传字符 \n",
    "> for 字符 in 字符串"
   ]
  },
  {
   "cell_type": "code",
   "execution_count": 60,
   "id": "313b94cd",
   "metadata": {},
   "outputs": [
    {
     "name": "stdout",
     "output_type": "stream",
     "text": [
      "P\n",
      "y\n",
      "t\n",
      "h\n",
      "o\n",
      "n\n"
     ]
    }
   ],
   "source": [
    "for s in \"Python\":\n",
    "    print(s)"
   ]
  },
  {
   "cell_type": "markdown",
   "id": "052f5290",
   "metadata": {},
   "source": [
    "## 2.4字符串处理函数"
   ]
  },
  {
   "cell_type": "markdown",
   "id": "449984d0",
   "metadata": {},
   "source": [
    "### 2.4.1 字符串的长度"
   ]
  },
  {
   "cell_type": "markdown",
   "id": "85e011f7",
   "metadata": {},
   "source": [
    "所包含字符串的个数"
   ]
  },
  {
   "cell_type": "code",
   "execution_count": 61,
   "id": "ef6f0d60",
   "metadata": {},
   "outputs": [
    {
     "data": {
      "text/plain": [
       "6"
      ]
     },
     "execution_count": 61,
     "metadata": {},
     "output_type": "execute_result"
    }
   ],
   "source": [
    "s = \"Python\"\n",
    "len(s)"
   ]
  },
  {
   "cell_type": "markdown",
   "id": "fa557a45",
   "metadata": {},
   "source": [
    "### 2.4.2 字符编码"
   ]
  },
  {
   "cell_type": "markdown",
   "id": "52600002",
   "metadata": {},
   "source": [
    "#### 将中文字库，英文字母、数字、特殊字符等转化为计算机可以识别等二进制数\n",
    ">每个单一自负对应一个唯一的相互不重复的二进制编码\\\n",
    "python中使用的是unicode编码\n"
   ]
  },
  {
   "cell_type": "markdown",
   "id": "c411799c",
   "metadata": {},
   "source": [
    "#### 将字符转换为Unicode码————ord(字符)"
   ]
  },
  {
   "cell_type": "code",
   "execution_count": 83,
   "id": "302424d0",
   "metadata": {},
   "outputs": [
    {
     "name": "stdout",
     "output_type": "stream",
     "text": [
      "49\n",
      "97\n",
      "24819\n",
      "10\n"
     ]
    }
   ],
   "source": [
    "print(ord('1'))\n",
    "print(ord('a'))\n",
    "print(ord(\"想\"))\n",
    "print(ord(\"\\n\"))"
   ]
  },
  {
   "cell_type": "markdown",
   "id": "60ea74ed",
   "metadata": {},
   "source": [
    "#### 将unicode码转换为字符——chr(unicode码)"
   ]
  },
  {
   "cell_type": "code",
   "execution_count": 88,
   "id": "6012b403",
   "metadata": {},
   "outputs": [
    {
     "name": "stdout",
     "output_type": "stream",
     "text": [
      "\n",
      "\n",
      "媭\n",
      "㎽\n"
     ]
    }
   ],
   "source": [
    "print(chr(10))\n",
    "print(chr(23213))\n",
    "print(chr(13245))"
   ]
  },
  {
   "cell_type": "markdown",
   "id": "839ee9b8",
   "metadata": {},
   "source": [
    "## 2.5 字符串的处理方式\n",
    "### 2.5.1 字符串的分割——字符串.split(分割字符)\n",
    "> 返回一个列表\\\n",
    "愿字符串不变\n",
    "#### 上述特性适合一下所有字符串处理方式"
   ]
  },
  {
   "cell_type": "code",
   "execution_count": 89,
   "id": "7e9584f3",
   "metadata": {},
   "outputs": [
    {
     "name": "stdout",
     "output_type": "stream",
     "text": [
      "['Python', 'C', 'C++', 'Java', 'PHP', 'R']\n",
      "Python C C++ Java PHP R\n"
     ]
    }
   ],
   "source": [
    "languages = \"Python C C++ Java PHP R\"\n",
    "languages_list = languages.split(\" \")\n",
    "print(languages_list)\n",
    "print(languages)"
   ]
  },
  {
   "cell_type": "markdown",
   "id": "9d2ec969",
   "metadata": {},
   "source": [
    "### 3.5.2 字符串的聚合——“聚合字符”.join（可迭代数据类型）\n",
    ">聚合字符就是需要插入的字符，这个就是给每两个字符元素之间插入一个固定的字符\\\n",
    "可迭代的如字符串 列表等\\\n",
    "可迭代对象中的元素必须是字符类型"
   ]
  },
  {
   "cell_type": "code",
   "execution_count": 91,
   "id": "fc0d4b6f",
   "metadata": {},
   "outputs": [
    {
     "name": "stdout",
     "output_type": "stream",
     "text": [
      "1,2,3,3,4,5\n"
     ]
    }
   ],
   "source": [
    "s = '123345'\n",
    "s_join = ','.join(s)\n",
    "print(s_join)"
   ]
  },
  {
   "cell_type": "code",
   "execution_count": 94,
   "id": "83fc3803",
   "metadata": {},
   "outputs": [
    {
     "name": "stdout",
     "output_type": "stream",
     "text": [
      "1*2*3*4\n"
     ]
    }
   ],
   "source": [
    "s_ele = [\"1\", \"2\", \"3\", \"4\"] # 可迭代对象中的元素必须是字符类型\n",
    "s_ele_join = '*'.join(s_ele)\n",
    "print(s_ele_join)"
   ]
  },
  {
   "cell_type": "markdown",
   "id": "ce77705b",
   "metadata": {},
   "source": [
    "\n",
    "### 3.5.3 删除两端特定字符——字符串.strip(\"删除字符\")\n",
    "strip 从两端开始搜索， 遇到指定的字符执行删除，遇到非指定的字符，搜索停止\\\n",
    "类似的有 lstrip rstrip 分别为左删除和右删除\n"
   ]
  },
  {
   "cell_type": "code",
   "execution_count": 95,
   "id": "2647f85f",
   "metadata": {},
   "outputs": [
    {
     "name": "stdout",
     "output_type": "stream",
     "text": [
      " I have many dollar \n",
      " I have many dollar $$$$$$\n",
      "$$$$$$ I have many dollar \n"
     ]
    }
   ],
   "source": [
    "s = \"$$$$$$ I have many dollar $$$$$$\"\n",
    "print(s.strip(\"$\"))\n",
    "print(s.lstrip(\"$\"))\n",
    "print(s.rstrip(\"$\"))"
   ]
  },
  {
   "cell_type": "markdown",
   "id": "c38efe2f",
   "metadata": {},
   "source": [
    "### 3.5.4 字符串的替换——字符串.replace(\"被替换\"，“替换为”)"
   ]
  },
  {
   "cell_type": "code",
   "execution_count": 97,
   "id": "d1857a74",
   "metadata": {},
   "outputs": [
    {
     "name": "stdout",
     "output_type": "stream",
     "text": [
      "Russian is coming to you \n"
     ]
    }
   ],
   "source": [
    "s = \"python is coming to you \"\n",
    "s1 = s.replace(\"python\",\"Russian\")\n",
    "print(s1)"
   ]
  },
  {
   "cell_type": "markdown",
   "id": "30e49044",
   "metadata": {},
   "source": [
    "### 3.5.5 字符串统计——字符串.count(\"待统计字符串\")\n",
    "\n"
   ]
  },
  {
   "cell_type": "code",
   "execution_count": 100,
   "id": "c8cb07d5",
   "metadata": {},
   "outputs": [
    {
     "name": "stdout",
     "output_type": "stream",
     "text": [
      "an:  2\n",
      "e:  4\n"
     ]
    }
   ],
   "source": [
    "s = \"python is an excellent language\"\n",
    "print(\"an: \",s.count(\"an\"))\n",
    "print(\"e: \", s.count(\"e\"))"
   ]
  },
  {
   "cell_type": "markdown",
   "id": "da68b9df",
   "metadata": {},
   "source": [
    "### 3.3.6 字符串字母大小写\n",
    ">字符串.upper()字母全大写\\\n",
    ">字符串.lower()字母全小写\\\n",
    ">字符串.title()首字母大写(其他字母会全都改为小写）"
   ]
  },
  {
   "cell_type": "code",
   "execution_count": 104,
   "id": "7a5001e2",
   "metadata": {},
   "outputs": [
    {
     "name": "stdout",
     "output_type": "stream",
     "text": [
      "PYTHON IS A GOOD LANGUAGE\n",
      "python is a good language\n",
      "Python Is A Good Language\n"
     ]
    }
   ],
   "source": [
    "s = \"pyTHon is a gOOd lAnguaGE\"\n",
    "print(s.upper())\n",
    "print(s.lower())\n",
    "print(s.title())"
   ]
  },
  {
   "cell_type": "markdown",
   "id": "6b881c43",
   "metadata": {},
   "source": [
    "# 3. 布尔类型 True False"
   ]
  },
  {
   "cell_type": "markdown",
   "id": "3303fe1a",
   "metadata": {},
   "source": [
    "## 3.1逻辑运算结果"
   ]
  },
  {
   "cell_type": "code",
   "execution_count": 105,
   "id": "35da5457",
   "metadata": {},
   "outputs": [
    {
     "name": "stdout",
     "output_type": "stream",
     "text": [
      "True\n",
      "False\n",
      "False\n"
     ]
    }
   ],
   "source": [
    "a = 10\n",
    "print(a > 8)\n",
    "print(a == 12)\n",
    "print(a < 5)"
   ]
  },
  {
   "cell_type": "code",
   "execution_count": 107,
   "id": "63c18714",
   "metadata": {},
   "outputs": [
    {
     "name": "stdout",
     "output_type": "stream",
     "text": [
      "True\n",
      "False\n"
     ]
    }
   ],
   "source": [
    "#### any()  all()  输入容器\n",
    "print(any([False,1,0,None])) # False,0,None 都是无\n",
    "print(all([False,1,0,None]))"
   ]
  },
  {
   "cell_type": "markdown",
   "id": "8797c6be",
   "metadata": {},
   "source": [
    "## 3.2 判断条件\n",
    "\n",
    "给循环作为判断条件"
   ]
  },
  {
   "cell_type": "markdown",
   "id": "1cc9ab40",
   "metadata": {},
   "source": [
    "## 3.3 作为掩码"
   ]
  },
  {
   "cell_type": "code",
   "execution_count": 109,
   "id": "dd16619c",
   "metadata": {},
   "outputs": [
    {
     "name": "stdout",
     "output_type": "stream",
     "text": [
      "[[False False False  True  True]]\n"
     ]
    },
    {
     "data": {
      "text/plain": [
       "array([5, 7])"
      ]
     },
     "execution_count": 109,
     "metadata": {},
     "output_type": "execute_result"
    }
   ],
   "source": [
    "import numpy as np\n",
    "x = np.array([[1,3,2,5,7]])    # 定义 numpy 数组\n",
    "print(x > 3)   # x > 3 会自动生成对于np.array的掩码\n",
    "x[x > 3]  # 掩码可作为下表"
   ]
  },
  {
   "cell_type": "markdown",
   "id": "650b3b53",
   "metadata": {},
   "source": [
    "# 4. 数据类型的判别与类型转换\n",
    "## 4.1 类型判别\n",
    "type(变量)"
   ]
  },
  {
   "cell_type": "code",
   "execution_count": 111,
   "id": "b513072b",
   "metadata": {},
   "outputs": [
    {
     "name": "stdout",
     "output_type": "stream",
     "text": [
      "<class 'int'>\n",
      "<class 'str'>\n"
     ]
    }
   ],
   "source": [
    "age = 20\n",
    "name = \"ada\"\n",
    "print(type(age))\n",
    "print(type(name))"
   ]
  },
  {
   "cell_type": "markdown",
   "id": "150d1758",
   "metadata": {},
   "source": [
    "isinstance(变量，预判类型)  承认继承，判断变量是否为预判类型或其子类型"
   ]
  },
  {
   "cell_type": "code",
   "execution_count": 113,
   "id": "6331b5ff",
   "metadata": {},
   "outputs": [
    {
     "name": "stdout",
     "output_type": "stream",
     "text": [
      "True\n",
      "True\n"
     ]
    }
   ],
   "source": [
    "print(isinstance(age,int))\n",
    "print(isinstance(age,object))   #object 是老祖宗"
   ]
  },
  {
   "cell_type": "markdown",
   "id": "47cb9a43",
   "metadata": {},
   "source": [
    "字符串检查方法\n",
    "#### 字符串.isdigit() 判断字符是否是由数组组成"
   ]
  },
  {
   "cell_type": "code",
   "execution_count": 115,
   "id": "ec394c21",
   "metadata": {},
   "outputs": [
    {
     "data": {
      "text/plain": [
       "True"
      ]
     },
     "execution_count": 115,
     "metadata": {},
     "output_type": "execute_result"
    }
   ],
   "source": [
    "age = \"20\"\n",
    "age.isdigit()"
   ]
  },
  {
   "cell_type": "markdown",
   "id": "e3511175",
   "metadata": {},
   "source": [
    "#### 字符串.isalpha() 判断是否是只有字母组成"
   ]
  },
  {
   "cell_type": "code",
   "execution_count": 116,
   "id": "c421c6d5",
   "metadata": {},
   "outputs": [
    {
     "data": {
      "text/plain": [
       "True"
      ]
     },
     "execution_count": 116,
     "metadata": {},
     "output_type": "execute_result"
    }
   ],
   "source": [
    "name.isalpha()"
   ]
  },
  {
   "cell_type": "markdown",
   "id": "e54a48ac",
   "metadata": {},
   "source": [
    "#### 字符串.isalnum()  判断是否是只有数字和字母组成"
   ]
  },
  {
   "cell_type": "code",
   "execution_count": 117,
   "id": "1d9d5449",
   "metadata": {},
   "outputs": [
    {
     "data": {
      "text/plain": [
       "True"
      ]
     },
     "execution_count": 117,
     "metadata": {},
     "output_type": "execute_result"
    }
   ],
   "source": [
    "age.isalnum()"
   ]
  },
  {
   "cell_type": "code",
   "execution_count": 118,
   "id": "db3fbbd2",
   "metadata": {},
   "outputs": [
    {
     "data": {
      "text/plain": [
       "True"
      ]
     },
     "execution_count": 118,
     "metadata": {},
     "output_type": "execute_result"
    }
   ],
   "source": [
    "name.isalnum()"
   ]
  },
  {
   "cell_type": "code",
   "execution_count": 119,
   "id": "784c8117",
   "metadata": {},
   "outputs": [
    {
     "data": {
      "text/plain": [
       "False"
      ]
     },
     "execution_count": 119,
     "metadata": {},
     "output_type": "execute_result"
    }
   ],
   "source": [
    "\"ada2-\".isalnum()"
   ]
  },
  {
   "cell_type": "markdown",
   "id": "6385220a",
   "metadata": {},
   "source": [
    "## 4.2 类型转换\n",
    "\n",
    "数字类型转换成字符串   str(数字类型)"
   ]
  },
  {
   "cell_type": "code",
   "execution_count": 125,
   "id": "f0b7853f",
   "metadata": {},
   "outputs": [
    {
     "name": "stdout",
     "output_type": "stream",
     "text": [
      "My age is 20\n"
     ]
    }
   ],
   "source": [
    "age = 20\n",
    "print(\"My age is \" + str(age))\n"
   ]
  },
  {
   "cell_type": "markdown",
   "id": "76f21a00",
   "metadata": {},
   "source": [
    "仅有数字组成的字符串转数字  int()  float() eval()"
   ]
  },
  {
   "cell_type": "code",
   "execution_count": 129,
   "id": "b3e43d6d",
   "metadata": {},
   "outputs": [
    {
     "data": {
      "text/plain": [
       "20"
      ]
     },
     "execution_count": 129,
     "metadata": {},
     "output_type": "execute_result"
    }
   ],
   "source": [
    "s1 = \"20\"\n",
    "s2 = \"10.1\"\n",
    "int(s1)"
   ]
  },
  {
   "cell_type": "code",
   "execution_count": 130,
   "id": "3a238e6b",
   "metadata": {},
   "outputs": [
    {
     "data": {
      "text/plain": [
       "20.0"
      ]
     },
     "execution_count": 130,
     "metadata": {},
     "output_type": "execute_result"
    }
   ],
   "source": [
    "float(s1)"
   ]
  },
  {
   "cell_type": "code",
   "execution_count": 131,
   "id": "d52b52e1",
   "metadata": {},
   "outputs": [
    {
     "data": {
      "text/plain": [
       "10.1"
      ]
     },
     "execution_count": 131,
     "metadata": {},
     "output_type": "execute_result"
    }
   ],
   "source": [
    "float(s2)"
   ]
  },
  {
   "cell_type": "code",
   "execution_count": 136,
   "id": "8de3f739",
   "metadata": {},
   "outputs": [
    {
     "data": {
      "text/plain": [
       "20"
      ]
     },
     "execution_count": 136,
     "metadata": {},
     "output_type": "execute_result"
    }
   ],
   "source": [
    "eval(s1)\n"
   ]
  }
 ],
 "metadata": {
  "kernelspec": {
   "display_name": "Python 3 (ipykernel)",
   "language": "python",
   "name": "python3"
  },
  "language_info": {
   "codemirror_mode": {
    "name": "ipython",
    "version": 3
   },
   "file_extension": ".py",
   "mimetype": "text/x-python",
   "name": "python",
   "nbconvert_exporter": "python",
   "pygments_lexer": "ipython3",
   "version": "3.9.13"
  }
 },
 "nbformat": 4,
 "nbformat_minor": 5
}
