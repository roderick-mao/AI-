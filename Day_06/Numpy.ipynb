{
 "cells": [
  {
   "cell_type": "markdown",
   "id": "58939dbe",
   "metadata": {},
   "source": [
    "## Numpy数组的创建"
   ]
  },
  {
   "cell_type": "markdown",
   "id": "eb3a6c7d",
   "metadata": {},
   "source": [
    "### 从列表开始创建"
   ]
  },
  {
   "cell_type": "code",
   "execution_count": 2,
   "id": "3ecc564d",
   "metadata": {},
   "outputs": [
    {
     "name": "stdout",
     "output_type": "stream",
     "text": [
      "[1 2 3 4 5]\n",
      "<class 'numpy.ndarray'>\n",
      "<class 'numpy.int64'>\n",
      "(5,)\n"
     ]
    }
   ],
   "source": [
    "import numpy as np\n",
    "\n",
    "x = np.array([1,2,3,4,5])\n",
    "print(x)\n",
    "print(type(x))\n",
    "print(type(x[0]))\n",
    "print(x.shape)"
   ]
  },
  {
   "cell_type": "markdown",
   "id": "b429ceb5",
   "metadata": {},
   "source": [
    "设置数组的数据类型"
   ]
  },
  {
   "cell_type": "code",
   "execution_count": 3,
   "id": "afebb797",
   "metadata": {},
   "outputs": [
    {
     "name": "stdout",
     "output_type": "stream",
     "text": [
      "[1. 2. 3. 4. 5.]\n",
      "<class 'numpy.float32'>\n"
     ]
    }
   ],
   "source": [
    "x = np.array([1,2,3,4,5], dtype='float32')\n",
    "print(x)\n",
    "print(type(x[0]))"
   ]
  },
  {
   "cell_type": "markdown",
   "id": "d1380b05",
   "metadata": {},
   "source": [
    "#### 二维数组"
   ]
  },
  {
   "cell_type": "code",
   "execution_count": 5,
   "id": "47e7bac4",
   "metadata": {},
   "outputs": [
    {
     "name": "stdout",
     "output_type": "stream",
     "text": [
      "[[ 1  2  3]\n",
      " [ 4  5  6]\n",
      " [ 7  8  9]\n",
      " [10 11 13]]\n",
      "(4, 3)\n"
     ]
    }
   ],
   "source": [
    "x = np.array([[1,2,3],[4,5,6],[7,8,9],[10,11,13]])\n",
    "\n",
    "print(x)\n",
    "print(x.shape)"
   ]
  },
  {
   "cell_type": "markdown",
   "id": "2106f844",
   "metadata": {},
   "source": [
    "### 从头创建数组"
   ]
  },
  {
   "cell_type": "markdown",
   "id": "f644048a",
   "metadata": {},
   "source": [
    "#### 创建长度为5的数组，值都为0"
   ]
  },
  {
   "cell_type": "code",
   "execution_count": 6,
   "id": "1d6a261b",
   "metadata": {},
   "outputs": [
    {
     "data": {
      "text/plain": [
       "array([0, 0, 0, 0, 0])"
      ]
     },
     "execution_count": 6,
     "metadata": {},
     "output_type": "execute_result"
    }
   ],
   "source": [
    "np.zeros(5,dtype=int)"
   ]
  },
  {
   "cell_type": "markdown",
   "id": "bfa2b5c0",
   "metadata": {},
   "source": [
    "#### 创建一个2\\*4的浮点型数组，值都为1"
   ]
  },
  {
   "cell_type": "code",
   "execution_count": 7,
   "id": "9b1fc197",
   "metadata": {},
   "outputs": [
    {
     "data": {
      "text/plain": [
       "array([[1., 1., 1., 1.],\n",
       "       [1., 1., 1., 1.]])"
      ]
     },
     "execution_count": 7,
     "metadata": {},
     "output_type": "execute_result"
    }
   ],
   "source": [
    "np.ones((2,4),dtype=float)"
   ]
  },
  {
   "cell_type": "markdown",
   "id": "c21b03f3",
   "metadata": {},
   "source": [
    "#### 创建一个3*5数组，值都为8.8"
   ]
  },
  {
   "cell_type": "code",
   "execution_count": 8,
   "id": "ace1a702",
   "metadata": {},
   "outputs": [
    {
     "data": {
      "text/plain": [
       "array([[8.8, 8.8, 8.8, 8.8, 8.8],\n",
       "       [8.8, 8.8, 8.8, 8.8, 8.8],\n",
       "       [8.8, 8.8, 8.8, 8.8, 8.8]])"
      ]
     },
     "execution_count": 8,
     "metadata": {},
     "output_type": "execute_result"
    }
   ],
   "source": [
    "np.full((3,5), 8.8)"
   ]
  },
  {
   "cell_type": "markdown",
   "id": "50dd5d1a",
   "metadata": {},
   "source": [
    "#### 创建3*3的单位矩阵"
   ]
  },
  {
   "cell_type": "code",
   "execution_count": 9,
   "id": "94116034",
   "metadata": {},
   "outputs": [
    {
     "data": {
      "text/plain": [
       "array([[1., 0., 0.],\n",
       "       [0., 1., 0.],\n",
       "       [0., 0., 1.]])"
      ]
     },
     "execution_count": 9,
     "metadata": {},
     "output_type": "execute_result"
    }
   ],
   "source": [
    "np.eye(3)"
   ]
  },
  {
   "cell_type": "markdown",
   "id": "4e44d2ec",
   "metadata": {},
   "source": [
    "#### 创建一个线性序列数组，从1开始，到15结束，步长为2"
   ]
  },
  {
   "cell_type": "code",
   "execution_count": 10,
   "id": "d39f9031",
   "metadata": {},
   "outputs": [
    {
     "data": {
      "text/plain": [
       "array([ 1,  3,  5,  7,  9, 11, 13])"
      ]
     },
     "execution_count": 10,
     "metadata": {},
     "output_type": "execute_result"
    }
   ],
   "source": [
    "np.arange(1,15,2)"
   ]
  },
  {
   "cell_type": "markdown",
   "id": "8e50f2a9",
   "metadata": {},
   "source": [
    "#### 创建一个4个元素的数组，这四个数均匀分配到0~1"
   ]
  },
  {
   "cell_type": "code",
   "execution_count": 11,
   "id": "6bdd5ee9",
   "metadata": {},
   "outputs": [
    {
     "data": {
      "text/plain": [
       "array([0.        , 0.33333333, 0.66666667, 1.        ])"
      ]
     },
     "execution_count": 11,
     "metadata": {},
     "output_type": "execute_result"
    }
   ],
   "source": [
    "np.linspace(0, 1, 4)"
   ]
  },
  {
   "cell_type": "markdown",
   "id": "65451d38",
   "metadata": {},
   "source": [
    "#### 创建一个10元素的数组，形成1~10^9的等比数列"
   ]
  },
  {
   "cell_type": "code",
   "execution_count": 18,
   "id": "9739bdd7",
   "metadata": {},
   "outputs": [
    {
     "data": {
      "text/plain": [
       "array([1.e+00, 1.e+01, 1.e+02, 1.e+03, 1.e+04, 1.e+05, 1.e+06, 1.e+07,\n",
       "       1.e+08, 1.e+09])"
      ]
     },
     "execution_count": 18,
     "metadata": {},
     "output_type": "execute_result"
    }
   ],
   "source": [
    "np.logspace(0,9,10)"
   ]
  },
  {
   "cell_type": "markdown",
   "id": "bfacfa7f",
   "metadata": {},
   "source": [
    "#### np.logspace(start, stop, num=50, endpoint=True, base=10.0, dtype=None, axis=0):\n",
    "            \n",
    "    start：代表序列的起始值。\n",
    "    stop：代表序列的终止值。\n",
    "    num：生成的序列数个数。\n",
    "    endpoint：布尔类型值，默认是true。如果为true, 'stop'是最后一个样本；否则，它不包括在内。\n",
    "    base：代表序列空间的底数，默认基底为10。\n",
    "    dtype：代表序列数组项的数据类型。"
   ]
  },
  {
   "cell_type": "code",
   "execution_count": 21,
   "id": "ec915d26",
   "metadata": {
    "scrolled": true
   },
   "outputs": [
    {
     "data": {
      "text/plain": [
       "array([3.00000000e+00, 1.73986384e+01, 1.00904206e+02, 5.85198599e+02,\n",
       "       3.39388627e+03, 1.96830000e+04])"
      ]
     },
     "execution_count": 21,
     "metadata": {},
     "output_type": "execute_result"
    }
   ],
   "source": [
    "np.logspace(1,9,6,base=3)\n",
    "# 3^1 ~ 3^9 6个数的等比数列"
   ]
  },
  {
   "cell_type": "markdown",
   "id": "bf643816",
   "metadata": {},
   "source": [
    "#### 创建一个在0~1之间均匀分布的随机数构成的数组"
   ]
  },
  {
   "cell_type": "code",
   "execution_count": 22,
   "id": "62849130",
   "metadata": {},
   "outputs": [
    {
     "data": {
      "text/plain": [
       "array([[0.68070529, 0.86629335, 0.56719954, 0.28270892],\n",
       "       [0.00498064, 0.92472319, 0.93388505, 0.38362164],\n",
       "       [0.26320921, 0.01036221, 0.02428903, 0.59789368]])"
      ]
     },
     "execution_count": 22,
     "metadata": {},
     "output_type": "execute_result"
    }
   ],
   "source": [
    "np.random.random((3,4))"
   ]
  },
  {
   "cell_type": "markdown",
   "id": "920d58e4",
   "metadata": {},
   "source": [
    "#### 创建一个均值为0，标准差为1的正态分布的随机数构成的数组"
   ]
  },
  {
   "cell_type": "code",
   "execution_count": 28,
   "id": "00c79f56",
   "metadata": {},
   "outputs": [
    {
     "data": {
      "text/plain": [
       "array([-4.67435347e-01,  5.75817385e-03, -2.87145309e-01,  9.60928320e-01,\n",
       "        3.59341877e-01, -1.79695529e-02, -1.03940841e+00,  6.81753575e-01,\n",
       "        7.83003802e-01,  8.36809617e-04])"
      ]
     },
     "execution_count": 28,
     "metadata": {},
     "output_type": "execute_result"
    }
   ],
   "source": [
    "np.random.normal(0,1,(10,))"
   ]
  },
  {
   "cell_type": "markdown",
   "id": "dad2d9e2",
   "metadata": {},
   "source": [
    "#### 创建随机整数"
   ]
  },
  {
   "cell_type": "code",
   "execution_count": 29,
   "id": "67de693b",
   "metadata": {},
   "outputs": [
    {
     "data": {
      "text/plain": [
       "array([[3, 5, 6],\n",
       "       [7, 8, 0],\n",
       "       [0, 8, 0]])"
      ]
     },
     "execution_count": 29,
     "metadata": {},
     "output_type": "execute_result"
    }
   ],
   "source": [
    "np.random.randint(0,10,(3,3))"
   ]
  },
  {
   "cell_type": "markdown",
   "id": "78cc9501",
   "metadata": {},
   "source": [
    "#### 随机重排列"
   ]
  },
  {
   "cell_type": "code",
   "execution_count": 32,
   "id": "022c8d3a",
   "metadata": {},
   "outputs": [
    {
     "name": "stdout",
     "output_type": "stream",
     "text": [
      "[10 20 30 40] [10 40 20 30]\n",
      "[30 40 20 10]\n"
     ]
    }
   ],
   "source": [
    "x = np.array([10, 20, 30, 40])\n",
    "y = np.random.permutation(x)  # 产生新数组\n",
    "print(x,y)\n",
    "np.random.shuffle(x)\n",
    "print(x)  # 改变原数组"
   ]
  },
  {
   "cell_type": "markdown",
   "id": "669b7b76",
   "metadata": {},
   "source": [
    "#### 随机采样"
   ]
  },
  {
   "cell_type": "markdown",
   "id": "60cb0da8",
   "metadata": {},
   "source": [
    "按指定形状采样"
   ]
  },
  {
   "cell_type": "code",
   "execution_count": 33,
   "id": "48ce5699",
   "metadata": {},
   "outputs": [
    {
     "data": {
      "text/plain": [
       "array([10., 11., 12., 13., 14., 15., 16., 17., 18., 19., 20., 21., 22.,\n",
       "       23., 24.])"
      ]
     },
     "execution_count": 33,
     "metadata": {},
     "output_type": "execute_result"
    }
   ],
   "source": [
    "x = np.arange(10, 25, dtype = float)\n",
    "x"
   ]
  },
  {
   "cell_type": "code",
   "execution_count": 34,
   "id": "1065e6a6",
   "metadata": {},
   "outputs": [
    {
     "data": {
      "text/plain": [
       "array([[24., 20., 14.],\n",
       "       [11., 11., 24.],\n",
       "       [21., 13., 21.],\n",
       "       [15., 11., 21.]])"
      ]
     },
     "execution_count": 34,
     "metadata": {},
     "output_type": "execute_result"
    }
   ],
   "source": [
    "np.random.choice(x, size=(4,3))"
   ]
  },
  {
   "cell_type": "markdown",
   "id": "a3d52fd6",
   "metadata": {},
   "source": [
    "按概率采样"
   ]
  },
  {
   "cell_type": "code",
   "execution_count": 35,
   "id": "52566acb",
   "metadata": {},
   "outputs": [
    {
     "data": {
      "text/plain": [
       "array([[19., 21., 22.],\n",
       "       [17., 10., 20.],\n",
       "       [11., 16., 24.],\n",
       "       [19., 14., 19.]])"
      ]
     },
     "execution_count": 35,
     "metadata": {},
     "output_type": "execute_result"
    }
   ],
   "source": [
    "np.random.choice(x, size=(4,3), p=x/np.sum(x))"
   ]
  },
  {
   "cell_type": "markdown",
   "id": "fd9e6a3a",
   "metadata": {},
   "source": [
    "## 11.3 Numpy数组的性质"
   ]
  },
  {
   "cell_type": "markdown",
   "id": "9a205228",
   "metadata": {},
   "source": [
    "### 数组的属性"
   ]
  },
  {
   "cell_type": "markdown",
   "id": "a790a0c3",
   "metadata": {},
   "source": [
    "#### 数组的形状  shape"
   ]
  },
  {
   "cell_type": "code",
   "execution_count": 38,
   "id": "29b30523",
   "metadata": {},
   "outputs": [
    {
     "data": {
      "text/plain": [
       "(15,)"
      ]
     },
     "execution_count": 38,
     "metadata": {},
     "output_type": "execute_result"
    }
   ],
   "source": [
    "x.shape"
   ]
  },
  {
   "cell_type": "markdown",
   "id": "9dfe1b4a",
   "metadata": {},
   "source": [
    "#### 数组的维度 ndim"
   ]
  },
  {
   "cell_type": "code",
   "execution_count": 39,
   "id": "bab5ab04",
   "metadata": {},
   "outputs": [
    {
     "data": {
      "text/plain": [
       "1"
      ]
     },
     "execution_count": 39,
     "metadata": {},
     "output_type": "execute_result"
    }
   ],
   "source": [
    "x.ndim"
   ]
  },
  {
   "cell_type": "markdown",
   "id": "2feb167a",
   "metadata": {},
   "source": [
    "#### 数组的大小 size"
   ]
  },
  {
   "cell_type": "code",
   "execution_count": 40,
   "id": "1b002cdb",
   "metadata": {},
   "outputs": [
    {
     "data": {
      "text/plain": [
       "15"
      ]
     },
     "execution_count": 40,
     "metadata": {},
     "output_type": "execute_result"
    }
   ],
   "source": [
    "x.size"
   ]
  },
  {
   "cell_type": "markdown",
   "id": "3594e82a",
   "metadata": {},
   "source": [
    "#### 数据类型  dtype"
   ]
  },
  {
   "cell_type": "code",
   "execution_count": 41,
   "id": "7f1cafff",
   "metadata": {},
   "outputs": [
    {
     "data": {
      "text/plain": [
       "dtype('float64')"
      ]
     },
     "execution_count": 41,
     "metadata": {},
     "output_type": "execute_result"
    }
   ],
   "source": [
    "x.dtype"
   ]
  },
  {
   "cell_type": "markdown",
   "id": "5851d25c",
   "metadata": {},
   "source": [
    "### 数组索引"
   ]
  },
  {
   "cell_type": "markdown",
   "id": "1376e275",
   "metadata": {},
   "source": [
    "#### 一维数组索引"
   ]
  },
  {
   "cell_type": "code",
   "execution_count": 42,
   "id": "88533544",
   "metadata": {},
   "outputs": [
    {
     "data": {
      "text/plain": [
       "array([0, 1, 2, 3, 4, 5, 6, 7, 8, 9])"
      ]
     },
     "execution_count": 42,
     "metadata": {},
     "output_type": "execute_result"
    }
   ],
   "source": [
    "x1 = np.arange(10)\n",
    "x1"
   ]
  },
  {
   "cell_type": "code",
   "execution_count": 44,
   "id": "577f16cc",
   "metadata": {},
   "outputs": [
    {
     "data": {
      "text/plain": [
       "0"
      ]
     },
     "execution_count": 44,
     "metadata": {},
     "output_type": "execute_result"
    }
   ],
   "source": [
    "x1[0]"
   ]
  },
  {
   "cell_type": "code",
   "execution_count": 45,
   "id": "4a5116ce",
   "metadata": {},
   "outputs": [
    {
     "data": {
      "text/plain": [
       "9"
      ]
     },
     "execution_count": 45,
     "metadata": {},
     "output_type": "execute_result"
    }
   ],
   "source": [
    "x1[-1]"
   ]
  },
  {
   "cell_type": "markdown",
   "id": "5f6c2d8d",
   "metadata": {},
   "source": [
    "#### 多维数组的索引，以二维数组为例"
   ]
  },
  {
   "cell_type": "code",
   "execution_count": 46,
   "id": "b5f97df8",
   "metadata": {},
   "outputs": [
    {
     "data": {
      "text/plain": [
       "array([[17, 17,  3],\n",
       "       [12,  8, 17]])"
      ]
     },
     "execution_count": 46,
     "metadata": {},
     "output_type": "execute_result"
    }
   ],
   "source": [
    "x2 = np.random.randint(0, 20, (2,3))\n",
    "x2"
   ]
  },
  {
   "cell_type": "code",
   "execution_count": 47,
   "id": "b04c7202",
   "metadata": {},
   "outputs": [
    {
     "data": {
      "text/plain": [
       "17"
      ]
     },
     "execution_count": 47,
     "metadata": {},
     "output_type": "execute_result"
    }
   ],
   "source": [
    "x2[0,0]"
   ]
  },
  {
   "cell_type": "code",
   "execution_count": 48,
   "id": "05549c7e",
   "metadata": {},
   "outputs": [
    {
     "data": {
      "text/plain": [
       "17"
      ]
     },
     "execution_count": 48,
     "metadata": {},
     "output_type": "execute_result"
    }
   ],
   "source": [
    "x2[0][0]"
   ]
  },
  {
   "cell_type": "markdown",
   "id": "efa9b1a7",
   "metadata": {},
   "source": [
    "注意：numpy数组类型是固定的，向一个整数数组插入一个浮点值，浮点值回向下进行取整"
   ]
  },
  {
   "cell_type": "code",
   "execution_count": 49,
   "id": "813a035c",
   "metadata": {},
   "outputs": [
    {
     "data": {
      "text/plain": [
       "array([[17, 17,  3],\n",
       "       [12,  8,  1]])"
      ]
     },
     "execution_count": 49,
     "metadata": {},
     "output_type": "execute_result"
    }
   ],
   "source": [
    "x2[1,2] = 1.34\n",
    "x2"
   ]
  },
  {
   "cell_type": "markdown",
   "id": "be3fdd28",
   "metadata": {},
   "source": [
    "### 数组的切片"
   ]
  },
  {
   "cell_type": "markdown",
   "id": "7f6cbdb7",
   "metadata": {},
   "source": [
    "#### 一维数组"
   ]
  },
  {
   "cell_type": "code",
   "execution_count": 51,
   "id": "5f3ed5de",
   "metadata": {},
   "outputs": [
    {
     "data": {
      "text/plain": [
       "array([0, 1, 2, 3, 4, 5, 6, 7, 8, 9])"
      ]
     },
     "execution_count": 51,
     "metadata": {},
     "output_type": "execute_result"
    }
   ],
   "source": [
    "x1 = np.arange(10)\n",
    "x1"
   ]
  },
  {
   "cell_type": "code",
   "execution_count": 52,
   "id": "459725f1",
   "metadata": {},
   "outputs": [
    {
     "data": {
      "text/plain": [
       "array([0, 1, 2])"
      ]
     },
     "execution_count": 52,
     "metadata": {},
     "output_type": "execute_result"
    }
   ],
   "source": [
    "x1[:3]"
   ]
  },
  {
   "cell_type": "code",
   "execution_count": 53,
   "id": "349fd9a5",
   "metadata": {},
   "outputs": [
    {
     "data": {
      "text/plain": [
       "array([3, 4, 5, 6, 7, 8, 9])"
      ]
     },
     "execution_count": 53,
     "metadata": {},
     "output_type": "execute_result"
    }
   ],
   "source": [
    "x1[3:]"
   ]
  },
  {
   "cell_type": "code",
   "execution_count": 65,
   "id": "9f105790",
   "metadata": {},
   "outputs": [
    {
     "data": {
      "text/plain": [
       "array([3, 2, 1, 0])"
      ]
     },
     "execution_count": 65,
     "metadata": {},
     "output_type": "execute_result"
    }
   ],
   "source": [
    "x1[3::-1]  # 开始：结束：间隔(-1为倒叙，则前面的开始和结束也要倒过来)"
   ]
  },
  {
   "cell_type": "markdown",
   "id": "13770c25",
   "metadata": {},
   "source": [
    "#### 多维数组"
   ]
  },
  {
   "cell_type": "code",
   "execution_count": 55,
   "id": "bee2d0c4",
   "metadata": {},
   "outputs": [
    {
     "data": {
      "text/plain": [
       "array([[ 3, 16, 19,  6],\n",
       "       [ 4, 15, 14, 14],\n",
       "       [ 5,  6,  7, 14]])"
      ]
     },
     "execution_count": 55,
     "metadata": {},
     "output_type": "execute_result"
    }
   ],
   "source": [
    "x2 = np.random.randint(20,size=(3,4))\n",
    "x2"
   ]
  },
  {
   "cell_type": "code",
   "execution_count": 66,
   "id": "71a7a379",
   "metadata": {},
   "outputs": [
    {
     "data": {
      "text/plain": [
       "array([[14, 15,  4],\n",
       "       [19, 16,  3]])"
      ]
     },
     "execution_count": 66,
     "metadata": {},
     "output_type": "execute_result"
    }
   ],
   "source": [
    "x2[1::-1, 2::-1]"
   ]
  },
  {
   "cell_type": "code",
   "execution_count": 67,
   "id": "9fc9689c",
   "metadata": {},
   "outputs": [
    {
     "data": {
      "text/plain": [
       "array([[14,  7,  6],\n",
       "       [14, 14, 15]])"
      ]
     },
     "execution_count": 67,
     "metadata": {},
     "output_type": "execute_result"
    }
   ],
   "source": [
    "x2[2:0:-1, 3:0:-1]"
   ]
  },
  {
   "cell_type": "markdown",
   "id": "07145999",
   "metadata": {},
   "source": [
    "#### 获取数组行与列"
   ]
  },
  {
   "cell_type": "code",
   "execution_count": 68,
   "id": "ed168cc5",
   "metadata": {},
   "outputs": [
    {
     "data": {
      "text/plain": [
       "array([[11,  8, 16, 15],\n",
       "       [19, 12,  9,  1],\n",
       "       [ 4, 17,  3, 15]])"
      ]
     },
     "execution_count": 68,
     "metadata": {},
     "output_type": "execute_result"
    }
   ],
   "source": [
    "x3 = np.random.randint(20, size=(3,4))\n",
    "x3"
   ]
  },
  {
   "cell_type": "code",
   "execution_count": 69,
   "id": "72103ea2",
   "metadata": {},
   "outputs": [
    {
     "data": {
      "text/plain": [
       "array([19, 12,  9,  1])"
      ]
     },
     "execution_count": 69,
     "metadata": {},
     "output_type": "execute_result"
    }
   ],
   "source": [
    "x3[1,:] # 第一行 所有列\n",
    "x3[1]  # 简写"
   ]
  },
  {
   "cell_type": "code",
   "execution_count": 71,
   "id": "025e525c",
   "metadata": {},
   "outputs": [
    {
     "data": {
      "text/plain": [
       "array([16,  9,  3])"
      ]
     },
     "execution_count": 71,
     "metadata": {},
     "output_type": "execute_result"
    }
   ],
   "source": [
    "x3[:, 2]  # 第二列 所有行"
   ]
  },
  {
   "cell_type": "markdown",
   "id": "2287e2cf",
   "metadata": {},
   "source": [
    "#### 注意： 切片是数组的视图，如果对切片的某个元素进行修改，则原数组对应元素也会发生改变"
   ]
  },
  {
   "cell_type": "code",
   "execution_count": 78,
   "id": "b3b79392",
   "metadata": {},
   "outputs": [
    {
     "data": {
      "text/plain": [
       "array([[11,  8, 16, 15],\n",
       "       [19,  1,  9,  1],\n",
       "       [ 4, 17,  3, 15]])"
      ]
     },
     "execution_count": 78,
     "metadata": {},
     "output_type": "execute_result"
    }
   ],
   "source": [
    "x4 = x3[:, 1]\n",
    "x4[1] = 1\n",
    "x3"
   ]
  },
  {
   "cell_type": "markdown",
   "id": "f8f3fcb9",
   "metadata": {},
   "source": [
    "#### 修改切片的安全方式  copy"
   ]
  },
  {
   "cell_type": "code",
   "execution_count": 81,
   "id": "bd4f7de3",
   "metadata": {},
   "outputs": [
    {
     "data": {
      "text/plain": [
       "array([[11,  8, 16, 15],\n",
       "       [19,  1,  9,  1],\n",
       "       [ 4, 17,  3, 15]])"
      ]
     },
     "execution_count": 81,
     "metadata": {},
     "output_type": "execute_result"
    }
   ],
   "source": [
    "x4 = x3[:, 1].copy()\n",
    "x4[1] = 5\n",
    "x3"
   ]
  },
  {
   "cell_type": "markdown",
   "id": "8cb419b2",
   "metadata": {},
   "source": [
    "### 数组的变形"
   ]
  },
  {
   "cell_type": "code",
   "execution_count": 83,
   "id": "32801527",
   "metadata": {},
   "outputs": [
    {
     "data": {
      "text/plain": [
       "array([7, 5, 7, 7, 9, 1, 7, 6, 7, 0, 0, 8])"
      ]
     },
     "execution_count": 83,
     "metadata": {},
     "output_type": "execute_result"
    }
   ],
   "source": [
    "x5 = np.random.randint(0,10,(12,))\n",
    "x5"
   ]
  },
  {
   "cell_type": "code",
   "execution_count": 84,
   "id": "dbccb33d",
   "metadata": {},
   "outputs": [
    {
     "data": {
      "text/plain": [
       "(12,)"
      ]
     },
     "execution_count": 84,
     "metadata": {},
     "output_type": "execute_result"
    }
   ],
   "source": [
    "x5.shape"
   ]
  },
  {
   "cell_type": "code",
   "execution_count": 85,
   "id": "0434baed",
   "metadata": {},
   "outputs": [
    {
     "data": {
      "text/plain": [
       "array([[7, 5, 7, 7],\n",
       "       [9, 1, 7, 6],\n",
       "       [7, 0, 0, 8]])"
      ]
     },
     "execution_count": 85,
     "metadata": {},
     "output_type": "execute_result"
    }
   ],
   "source": [
    "x6 = x5.reshape(3,4)\n",
    "x6"
   ]
  },
  {
   "cell_type": "markdown",
   "id": "b04cbf3f",
   "metadata": {},
   "source": [
    "#### 注意： reshape 返回的 是 视图，而非副本"
   ]
  },
  {
   "cell_type": "code",
   "execution_count": 87,
   "id": "abd027b5",
   "metadata": {},
   "outputs": [
    {
     "data": {
      "text/plain": [
       "array([[7, 5, 7, 7],\n",
       "       [9, 1, 7, 6],\n",
       "       [7, 0, 0, 8]])"
      ]
     },
     "execution_count": 87,
     "metadata": {},
     "output_type": "execute_result"
    }
   ],
   "source": [
    "x6 = x5.reshape(3,4).copy()  # 同样可以转为副本\n",
    "x6"
   ]
  },
  {
   "cell_type": "markdown",
   "id": "0d5806e6",
   "metadata": {},
   "source": [
    "#### 一维数组转行向量"
   ]
  },
  {
   "cell_type": "code",
   "execution_count": 89,
   "id": "4af426e6",
   "metadata": {},
   "outputs": [
    {
     "data": {
      "text/plain": [
       "array([[7, 5, 7, 7, 9, 1, 7, 6, 7, 0, 0, 8]])"
      ]
     },
     "execution_count": 89,
     "metadata": {},
     "output_type": "execute_result"
    }
   ],
   "source": [
    "x7 = x5.reshape(1,x5.shape[0])\n",
    "x7"
   ]
  },
  {
   "cell_type": "code",
   "execution_count": 90,
   "id": "6258ba3b",
   "metadata": {},
   "outputs": [
    {
     "data": {
      "text/plain": [
       "array([[7, 5, 7, 7, 9, 1, 7, 6, 7, 0, 0, 8]])"
      ]
     },
     "execution_count": 90,
     "metadata": {},
     "output_type": "execute_result"
    }
   ],
   "source": [
    "x7 = x5[np.newaxis, :]\n",
    "x7"
   ]
  },
  {
   "cell_type": "markdown",
   "id": "034d54c1",
   "metadata": {},
   "source": [
    "#### 一维数组转列向量"
   ]
  },
  {
   "cell_type": "code",
   "execution_count": 91,
   "id": "bbafbfc7",
   "metadata": {},
   "outputs": [
    {
     "data": {
      "text/plain": [
       "array([[7],\n",
       "       [5],\n",
       "       [7],\n",
       "       [7],\n",
       "       [9],\n",
       "       [1],\n",
       "       [7],\n",
       "       [6],\n",
       "       [7],\n",
       "       [0],\n",
       "       [0],\n",
       "       [8]])"
      ]
     },
     "execution_count": 91,
     "metadata": {},
     "output_type": "execute_result"
    }
   ],
   "source": [
    "x8 = x5.reshape(x5.shape[0],1)\n",
    "x8"
   ]
  },
  {
   "cell_type": "code",
   "execution_count": 93,
   "id": "194ad5f2",
   "metadata": {},
   "outputs": [
    {
     "data": {
      "text/plain": [
       "array([[7],\n",
       "       [5],\n",
       "       [7],\n",
       "       [7],\n",
       "       [9],\n",
       "       [1],\n",
       "       [7],\n",
       "       [6],\n",
       "       [7],\n",
       "       [0],\n",
       "       [0],\n",
       "       [8]])"
      ]
     },
     "execution_count": 93,
     "metadata": {},
     "output_type": "execute_result"
    }
   ],
   "source": [
    "x8 = x5[:,np.newaxis]\n",
    "x8"
   ]
  },
  {
   "cell_type": "markdown",
   "id": "e10f9991",
   "metadata": {},
   "source": [
    "#### 多维转一维"
   ]
  },
  {
   "cell_type": "code",
   "execution_count": 94,
   "id": "1ad0a3ff",
   "metadata": {},
   "outputs": [
    {
     "data": {
      "text/plain": [
       "array([[0, 9, 0, 5],\n",
       "       [0, 0, 5, 0],\n",
       "       [2, 6, 2, 2]])"
      ]
     },
     "execution_count": 94,
     "metadata": {},
     "output_type": "execute_result"
    }
   ],
   "source": [
    "x6 = np.random.randint(0,10,(3,4))\n",
    "x6"
   ]
  },
  {
   "cell_type": "code",
   "execution_count": 95,
   "id": "f4ab6649",
   "metadata": {},
   "outputs": [
    {
     "data": {
      "text/plain": [
       "array([0, 9, 0, 5, 0, 0, 5, 0, 2, 6, 2, 2])"
      ]
     },
     "execution_count": 95,
     "metadata": {},
     "output_type": "execute_result"
    }
   ],
   "source": [
    "x9 = x6.flatten()\n",
    "x9"
   ]
  },
  {
   "cell_type": "markdown",
   "id": "a84c5492",
   "metadata": {},
   "source": [
    "flatten  返回的是副本"
   ]
  },
  {
   "cell_type": "code",
   "execution_count": 96,
   "id": "cb015146",
   "metadata": {},
   "outputs": [
    {
     "data": {
      "text/plain": [
       "array([0, 9, 0, 5, 0, 0, 5, 0, 2, 6, 2, 2])"
      ]
     },
     "execution_count": 96,
     "metadata": {},
     "output_type": "execute_result"
    }
   ],
   "source": [
    "x10 = x6.ravel()\n",
    "x10"
   ]
  },
  {
   "cell_type": "markdown",
   "id": "8821c34d",
   "metadata": {},
   "source": [
    "ravel 返回视图"
   ]
  },
  {
   "cell_type": "code",
   "execution_count": 97,
   "id": "e8565ac6",
   "metadata": {},
   "outputs": [
    {
     "data": {
      "text/plain": [
       "array([0, 9, 0, 5, 0, 0, 5, 0, 2, 6, 2, 2])"
      ]
     },
     "execution_count": 97,
     "metadata": {},
     "output_type": "execute_result"
    }
   ],
   "source": [
    "x11 = x6.reshape(-1)\n",
    "x11"
   ]
  },
  {
   "cell_type": "markdown",
   "id": "c031edd3",
   "metadata": {},
   "source": [
    "### 数组的拼接"
   ]
  },
  {
   "cell_type": "code",
   "execution_count": 99,
   "id": "b7b13193",
   "metadata": {},
   "outputs": [],
   "source": [
    "x1 = np.array([[1,2,3],\n",
    "              [4,5,6]])\n",
    "x2 = np.array([[7,8,9],\n",
    "              [0,1,2]])"
   ]
  },
  {
   "cell_type": "markdown",
   "id": "77124f48",
   "metadata": {},
   "source": [
    "#### 水平拼接 —— 非视图"
   ]
  },
  {
   "cell_type": "code",
   "execution_count": 100,
   "id": "857510ac",
   "metadata": {},
   "outputs": [
    {
     "data": {
      "text/plain": [
       "array([[1, 2, 3, 7, 8, 9],\n",
       "       [4, 5, 6, 0, 1, 2]])"
      ]
     },
     "execution_count": 100,
     "metadata": {},
     "output_type": "execute_result"
    }
   ],
   "source": [
    "x3 = np.hstack([x1,x2])\n",
    "x3"
   ]
  },
  {
   "cell_type": "code",
   "execution_count": 101,
   "id": "a66f045d",
   "metadata": {},
   "outputs": [
    {
     "data": {
      "text/plain": [
       "array([[1, 2, 3],\n",
       "       [4, 5, 6]])"
      ]
     },
     "execution_count": 101,
     "metadata": {},
     "output_type": "execute_result"
    }
   ],
   "source": [
    "x3[0,0] = 0\n",
    "x1"
   ]
  },
  {
   "cell_type": "code",
   "execution_count": 103,
   "id": "f245b5dc",
   "metadata": {},
   "outputs": [
    {
     "data": {
      "text/plain": [
       "array([[1, 2, 3, 7, 8, 9],\n",
       "       [4, 5, 6, 0, 1, 2]])"
      ]
     },
     "execution_count": 103,
     "metadata": {},
     "output_type": "execute_result"
    }
   ],
   "source": [
    "x4 = np.c_[x1,x2]\n",
    "x4"
   ]
  },
  {
   "cell_type": "markdown",
   "id": "bb5daf7e",
   "metadata": {},
   "source": [
    "#### 直拼接 —— 非视图"
   ]
  },
  {
   "cell_type": "code",
   "execution_count": 105,
   "id": "685c65c7",
   "metadata": {},
   "outputs": [
    {
     "data": {
      "text/plain": [
       "array([[1, 2, 3],\n",
       "       [4, 5, 6],\n",
       "       [7, 8, 9],\n",
       "       [0, 1, 2]])"
      ]
     },
     "execution_count": 105,
     "metadata": {},
     "output_type": "execute_result"
    }
   ],
   "source": [
    "x5 = np.vstack([x1, x2])\n",
    "x5"
   ]
  },
  {
   "cell_type": "code",
   "execution_count": 106,
   "id": "0a570cda",
   "metadata": {},
   "outputs": [
    {
     "data": {
      "text/plain": [
       "array([[1, 2, 3],\n",
       "       [4, 5, 6],\n",
       "       [7, 8, 9],\n",
       "       [0, 1, 2]])"
      ]
     },
     "execution_count": 106,
     "metadata": {},
     "output_type": "execute_result"
    }
   ],
   "source": [
    "x6 = np.r_[x1, x2]\n",
    "x6"
   ]
  },
  {
   "cell_type": "markdown",
   "id": "87143e92",
   "metadata": {},
   "source": [
    "### 数组的分裂"
   ]
  },
  {
   "cell_type": "markdown",
   "id": "13768695",
   "metadata": {},
   "source": [
    "#### split 的用法"
   ]
  },
  {
   "cell_type": "code",
   "execution_count": 111,
   "id": "40422903",
   "metadata": {},
   "outputs": [
    {
     "data": {
      "text/plain": [
       "array([9, 8, 7, 6, 5, 4, 3, 2, 1])"
      ]
     },
     "execution_count": 111,
     "metadata": {},
     "output_type": "execute_result"
    }
   ],
   "source": [
    "x6 = np.arange(9,0,-1)\n",
    "x6"
   ]
  },
  {
   "cell_type": "code",
   "execution_count": 112,
   "id": "8ede6859",
   "metadata": {},
   "outputs": [
    {
     "name": "stdout",
     "output_type": "stream",
     "text": [
      "[9 8] [7 6 5 4 3] [2 1]\n"
     ]
    }
   ],
   "source": [
    "x1, x2, x3 = np.split(x6, [2, 7])\n",
    "print(x1,x2,x3)"
   ]
  },
  {
   "cell_type": "markdown",
   "id": "2d9fc167",
   "metadata": {},
   "source": [
    "#### hsplit 的用法"
   ]
  },
  {
   "cell_type": "code",
   "execution_count": 113,
   "id": "1772ae3c",
   "metadata": {},
   "outputs": [
    {
     "data": {
      "text/plain": [
       "array([[ 1,  2,  3,  4,  5],\n",
       "       [ 6,  7,  8,  9, 10],\n",
       "       [11, 12, 13, 14, 15],\n",
       "       [16, 17, 18, 19, 20],\n",
       "       [21, 22, 23, 24, 25]])"
      ]
     },
     "execution_count": 113,
     "metadata": {},
     "output_type": "execute_result"
    }
   ],
   "source": [
    "x7 = np.arange(1, 26).reshape(5, 5)\n",
    "x7"
   ]
  },
  {
   "cell_type": "code",
   "execution_count": 116,
   "id": "72b47be6",
   "metadata": {},
   "outputs": [
    {
     "name": "stdout",
     "output_type": "stream",
     "text": [
      "[[ 1  2]\n",
      " [ 6  7]\n",
      " [11 12]\n",
      " [16 17]\n",
      " [21 22]] \n",
      "\n",
      " [[ 3  4]\n",
      " [ 8  9]\n",
      " [13 14]\n",
      " [18 19]\n",
      " [23 24]] \n",
      "\n",
      " [[ 5]\n",
      " [10]\n",
      " [15]\n",
      " [20]\n",
      " [25]]\n"
     ]
    }
   ],
   "source": [
    "left, mid, right = np.hsplit(x7, [2,4])\n",
    "print(left,'\\n\\n',mid,'\\n\\n',right)"
   ]
  },
  {
   "cell_type": "markdown",
   "id": "a471bb12",
   "metadata": {},
   "source": [
    "#### vsplit 的方法"
   ]
  },
  {
   "cell_type": "code",
   "execution_count": 117,
   "id": "3437f41e",
   "metadata": {},
   "outputs": [
    {
     "name": "stdout",
     "output_type": "stream",
     "text": [
      "[[1 2 3 4 5]] \n",
      "\n",
      " [[ 6  7  8  9 10]\n",
      " [11 12 13 14 15]] \n",
      "\n",
      " [[16 17 18 19 20]\n",
      " [21 22 23 24 25]]\n"
     ]
    }
   ],
   "source": [
    "upper,middle,lower = np.vsplit(x7,[1,3])\n",
    "print(upper,'\\n\\n',middle,'\\n\\n',lower)"
   ]
  },
  {
   "cell_type": "markdown",
   "id": "45188883",
   "metadata": {},
   "source": [
    "## Numpy 四大运算"
   ]
  },
  {
   "cell_type": "markdown",
   "id": "28ebfa89",
   "metadata": {},
   "source": [
    "### 向量化运算"
   ]
  },
  {
   "cell_type": "markdown",
   "id": "a00ffd58",
   "metadata": {},
   "source": [
    "#### 与数组的加减乘除"
   ]
  },
  {
   "cell_type": "code",
   "execution_count": 118,
   "id": "ba4b8efb",
   "metadata": {},
   "outputs": [
    {
     "data": {
      "text/plain": [
       "array([1, 2, 3, 4, 5])"
      ]
     },
     "execution_count": 118,
     "metadata": {},
     "output_type": "execute_result"
    }
   ],
   "source": [
    "x1 = np.arange(1,6)\n",
    "x1 "
   ]
  },
  {
   "cell_type": "code",
   "execution_count": 119,
   "id": "7c593b62",
   "metadata": {},
   "outputs": [
    {
     "name": "stdout",
     "output_type": "stream",
     "text": [
      "x1+5 [ 6  7  8  9 10]\n",
      "x1-5 [-4 -3 -2 -1  0]\n",
      "x1*5 [ 5 10 15 20 25]\n",
      "x1/5 [0.2 0.4 0.6 0.8 1. ]\n",
      "-x1 [-1 -2 -3 -4 -5]\n",
      "x1**2 [ 1  4  9 16 25]\n",
      "x1//2 [0 1 1 2 2]\n",
      "x1%2 [1 0 1 0 1]\n"
     ]
    }
   ],
   "source": [
    "print(\"x1+5\",x1+5)\n",
    "print(\"x1-5\",x1-5)\n",
    "print(\"x1*5\",x1*5)\n",
    "print(\"x1/5\",x1/5)\n",
    "print(\"-x1\",-x1)\n",
    "print(\"x1**2\",x1**2)\n",
    "print(\"x1//2\",x1//2)\n",
    "print(\"x1%2\",x1%2)"
   ]
  },
  {
   "cell_type": "markdown",
   "id": "5d5d4525",
   "metadata": {},
   "source": [
    "#### 绝对值"
   ]
  },
  {
   "cell_type": "code",
   "execution_count": 120,
   "id": "77caa560",
   "metadata": {},
   "outputs": [
    {
     "data": {
      "text/plain": [
       "array([1, 1, 2, 2, 0])"
      ]
     },
     "execution_count": 120,
     "metadata": {},
     "output_type": "execute_result"
    }
   ],
   "source": [
    "x2 = np.array([1,-1,2,-2,0])\n",
    "abs(x2)"
   ]
  },
  {
   "cell_type": "code",
   "execution_count": 121,
   "id": "74c0efc0",
   "metadata": {},
   "outputs": [
    {
     "data": {
      "text/plain": [
       "array([1, 1, 2, 2, 0])"
      ]
     },
     "execution_count": 121,
     "metadata": {},
     "output_type": "execute_result"
    }
   ],
   "source": [
    "np.abs(x2)"
   ]
  },
  {
   "cell_type": "markdown",
   "id": "1593bcd7",
   "metadata": {},
   "source": [
    "#### 三角函数"
   ]
  },
  {
   "cell_type": "code",
   "execution_count": 123,
   "id": "c29657bf",
   "metadata": {},
   "outputs": [],
   "source": [
    "theta = np.linspace(0,np.pi,3)"
   ]
  },
  {
   "cell_type": "code",
   "execution_count": 124,
   "id": "16d9c9b3",
   "metadata": {},
   "outputs": [
    {
     "name": "stdout",
     "output_type": "stream",
     "text": [
      "sin(theta) [0.0000000e+00 1.0000000e+00 1.2246468e-16]\n",
      "con(theta) [ 1.000000e+00  6.123234e-17 -1.000000e+00]\n",
      "tan(theta) [ 0.00000000e+00  1.63312394e+16 -1.22464680e-16]\n"
     ]
    }
   ],
   "source": [
    "print(\"sin(theta)\", np.sin(theta))\n",
    "print(\"con(theta)\", np.cos(theta))\n",
    "print(\"tan(theta)\", np.tan(theta))"
   ]
  },
  {
   "cell_type": "code",
   "execution_count": 126,
   "id": "4274cc4a",
   "metadata": {},
   "outputs": [
    {
     "name": "stdout",
     "output_type": "stream",
     "text": [
      "arcsin(x) [ 1.57079633  0.         -1.57079633]\n",
      "arccos(x) [0.         1.57079633 3.14159265]\n",
      "arctan(x) [ 0.78539816  0.         -0.78539816]\n"
     ]
    }
   ],
   "source": [
    "x = [1, 0, -1]\n",
    "print(\"arcsin(x)\",np.arcsin(x))\n",
    "print(\"arccos(x)\",np.arccos(x))\n",
    "print(\"arctan(x)\",np.arctan(x))"
   ]
  },
  {
   "cell_type": "markdown",
   "id": "91c8a6b2",
   "metadata": {},
   "source": [
    "#### 指数函数"
   ]
  },
  {
   "cell_type": "code",
   "execution_count": 128,
   "id": "d10cd621",
   "metadata": {},
   "outputs": [
    {
     "data": {
      "text/plain": [
       "array([0, 1, 2])"
      ]
     },
     "execution_count": 128,
     "metadata": {},
     "output_type": "execute_result"
    }
   ],
   "source": [
    "x = np.arange(3)\n",
    "x"
   ]
  },
  {
   "cell_type": "code",
   "execution_count": 129,
   "id": "49113d63",
   "metadata": {},
   "outputs": [
    {
     "data": {
      "text/plain": [
       "array([1.        , 2.71828183, 7.3890561 ])"
      ]
     },
     "execution_count": 129,
     "metadata": {},
     "output_type": "execute_result"
    }
   ],
   "source": [
    "np.exp(x)"
   ]
  },
  {
   "cell_type": "markdown",
   "id": "3ae6f80e",
   "metadata": {},
   "source": [
    "#### 对数运算"
   ]
  },
  {
   "cell_type": "code",
   "execution_count": 131,
   "id": "f8a43e4f",
   "metadata": {},
   "outputs": [
    {
     "name": "stdout",
     "output_type": "stream",
     "text": [
      "ln(x) [0.         0.69314718 1.38629436 2.07944154 2.30258509]\n",
      "log2(x) [0.         1.         2.         3.         3.32192809]\n",
      "log10(x) [0.         0.30103    0.60205999 0.90308999 1.        ]\n"
     ]
    }
   ],
   "source": [
    "x = np.array([1,2,4,8,10])\n",
    "print(\"ln(x)\", np.log(x))\n",
    "print(\"log2(x)\", np.log2(x))\n",
    "print(\"log10(x)\", np.log10(x))"
   ]
  },
  {
   "cell_type": "markdown",
   "id": "9f1256cc",
   "metadata": {},
   "source": [
    "#### 两个数组运算"
   ]
  },
  {
   "cell_type": "code",
   "execution_count": 133,
   "id": "3d8ad537",
   "metadata": {},
   "outputs": [
    {
     "data": {
      "text/plain": [
       "array([1, 2, 3, 4, 5])"
      ]
     },
     "execution_count": 133,
     "metadata": {},
     "output_type": "execute_result"
    }
   ],
   "source": [
    "x1 = np.arange(1,6)\n",
    "x1"
   ]
  },
  {
   "cell_type": "code",
   "execution_count": 134,
   "id": "b3166c31",
   "metadata": {},
   "outputs": [
    {
     "data": {
      "text/plain": [
       "array([ 6,  7,  8,  9, 10])"
      ]
     },
     "execution_count": 134,
     "metadata": {},
     "output_type": "execute_result"
    }
   ],
   "source": [
    "x2 = np.arange(6,11)\n",
    "x2"
   ]
  },
  {
   "cell_type": "code",
   "execution_count": 135,
   "id": "9742777d",
   "metadata": {},
   "outputs": [
    {
     "name": "stdout",
     "output_type": "stream",
     "text": [
      "x1+x2 [ 7  9 11 13 15]\n",
      "x1-x2 [-5 -5 -5 -5 -5]\n",
      "x1*x2 [ 6 14 24 36 50]\n",
      "x1/x2 [0.16666667 0.28571429 0.375      0.44444444 0.5       ]\n",
      "x1//x2 [0 0 0 0 0]\n",
      "x1%x2 [1 2 3 4 5]\n"
     ]
    }
   ],
   "source": [
    "print(\"x1+x2\", x1+x2)\n",
    "print(\"x1-x2\", x1-x2)\n",
    "print(\"x1*x2\", x1*x2)\n",
    "print(\"x1/x2\", x1/x2)\n",
    "print(\"x1//x2\", x1//x2)\n",
    "print(\"x1%x2\", x1%x2)"
   ]
  },
  {
   "cell_type": "markdown",
   "id": "2b45f89c",
   "metadata": {},
   "source": [
    "### 矩阵运算"
   ]
  },
  {
   "cell_type": "code",
   "execution_count": 136,
   "id": "efcdd098",
   "metadata": {},
   "outputs": [],
   "source": [
    "x = np.array([[1,2,3],\n",
    "             [4,5,6],\n",
    "             [7,8,9]])"
   ]
  },
  {
   "cell_type": "markdown",
   "id": "0ac4e9c7",
   "metadata": {},
   "source": [
    "#### 矩阵转置"
   ]
  },
  {
   "cell_type": "code",
   "execution_count": 137,
   "id": "6177b29e",
   "metadata": {},
   "outputs": [
    {
     "data": {
      "text/plain": [
       "array([[1, 4, 7],\n",
       "       [2, 5, 8],\n",
       "       [3, 6, 9]])"
      ]
     },
     "execution_count": 137,
     "metadata": {},
     "output_type": "execute_result"
    }
   ],
   "source": [
    "y = x.T\n",
    "y"
   ]
  },
  {
   "cell_type": "markdown",
   "id": "66e03147",
   "metadata": {},
   "source": [
    "#### 矩阵乘法"
   ]
  },
  {
   "cell_type": "code",
   "execution_count": 138,
   "id": "ca55ff3b",
   "metadata": {},
   "outputs": [
    {
     "data": {
      "text/plain": [
       "array([[ 14,  32,  50],\n",
       "       [ 32,  77, 122],\n",
       "       [ 50, 122, 194]])"
      ]
     },
     "execution_count": 138,
     "metadata": {},
     "output_type": "execute_result"
    }
   ],
   "source": [
    "x.dot(y)"
   ]
  },
  {
   "cell_type": "code",
   "execution_count": 140,
   "id": "0c97db3e",
   "metadata": {},
   "outputs": [
    {
     "data": {
      "text/plain": [
       "array([[ 14,  32,  50],\n",
       "       [ 32,  77, 122],\n",
       "       [ 50, 122, 194]])"
      ]
     },
     "execution_count": 140,
     "metadata": {},
     "output_type": "execute_result"
    }
   ],
   "source": [
    "np.dot(x,y)"
   ]
  },
  {
   "cell_type": "markdown",
   "id": "67b71bec",
   "metadata": {},
   "source": [
    "### 广播运算"
   ]
  },
  {
   "cell_type": "markdown",
   "id": "9c91cee2",
   "metadata": {},
   "source": [
    "    规则：\n",
    "    如果两个数组形状不匹配，则数组会沿着维度为1（且仅为1）的维度进行扩展，来匹配另外一个数组，如果两个数组扩展后依然无法匹配则无法进行运算"
   ]
  },
  {
   "cell_type": "code",
   "execution_count": 141,
   "id": "4406a3d3",
   "metadata": {},
   "outputs": [
    {
     "data": {
      "text/plain": [
       "array([[1., 1., 1.],\n",
       "       [1., 1., 1.],\n",
       "       [1., 1., 1.]])"
      ]
     },
     "execution_count": 141,
     "metadata": {},
     "output_type": "execute_result"
    }
   ],
   "source": [
    "x1 = np.ones((3,3))\n",
    "x1"
   ]
  },
  {
   "cell_type": "code",
   "execution_count": 142,
   "id": "6e741ed4",
   "metadata": {},
   "outputs": [
    {
     "data": {
      "text/plain": [
       "array([0, 1, 2])"
      ]
     },
     "execution_count": 142,
     "metadata": {},
     "output_type": "execute_result"
    }
   ],
   "source": [
    "x2 = np.arange(3)\n",
    "x2"
   ]
  },
  {
   "cell_type": "code",
   "execution_count": 144,
   "id": "402c4723",
   "metadata": {},
   "outputs": [
    {
     "data": {
      "text/plain": [
       "array([[1., 2., 3.],\n",
       "       [1., 2., 3.],\n",
       "       [1., 2., 3.]])"
      ]
     },
     "execution_count": 144,
     "metadata": {},
     "output_type": "execute_result"
    }
   ],
   "source": [
    "x1+x2"
   ]
  },
  {
   "cell_type": "code",
   "execution_count": 148,
   "id": "f2e5d6bd",
   "metadata": {},
   "outputs": [
    {
     "data": {
      "text/plain": [
       "array([[0],\n",
       "       [1],\n",
       "       [2],\n",
       "       [3]])"
      ]
     },
     "execution_count": 148,
     "metadata": {},
     "output_type": "execute_result"
    }
   ],
   "source": [
    "x3 = np.arange(4).reshape(4,1)\n",
    "x3"
   ]
  },
  {
   "cell_type": "code",
   "execution_count": 149,
   "id": "35256fe8",
   "metadata": {},
   "outputs": [
    {
     "data": {
      "text/plain": [
       "array([[0, 0, 0],\n",
       "       [0, 1, 2],\n",
       "       [0, 2, 4],\n",
       "       [0, 3, 6]])"
      ]
     },
     "execution_count": 149,
     "metadata": {},
     "output_type": "execute_result"
    }
   ],
   "source": [
    "x2*x3"
   ]
  },
  {
   "cell_type": "markdown",
   "id": "eba2f509",
   "metadata": {},
   "source": [
    "### 比较运算与掩码"
   ]
  },
  {
   "cell_type": "markdown",
   "id": "f96c84cc",
   "metadata": {},
   "source": [
    "#### 比较运算"
   ]
  },
  {
   "cell_type": "code",
   "execution_count": 150,
   "id": "7e3bc039",
   "metadata": {},
   "outputs": [
    {
     "data": {
      "text/plain": [
       "array([[26, 39, 29, 89, 77, 15, 38, 72, 48, 98],\n",
       "       [65, 70, 44, 98, 51, 26, 59, 79, 61, 63],\n",
       "       [41, 28, 51, 59, 45, 26, 80, 15, 33, 86],\n",
       "       [75,  5, 89, 83,  1, 59, 84, 16, 50, 71],\n",
       "       [31, 32, 58, 10, 80, 11, 51, 68,  3, 38],\n",
       "       [38, 70, 59, 73, 99, 62, 37, 50, 19, 20],\n",
       "       [18, 19,  5, 35, 75, 20, 75, 63, 59, 71],\n",
       "       [19, 37, 36,  7, 53, 13, 21, 10,  9, 16],\n",
       "       [20, 81, 39, 47, 72, 13, 77, 91, 43, 67],\n",
       "       [13, 92, 59,  0, 23, 87, 63,  8, 98, 49]])"
      ]
     },
     "execution_count": 150,
     "metadata": {},
     "output_type": "execute_result"
    }
   ],
   "source": [
    "x1 = np.random.randint(0,100,(10,10))\n",
    "x1"
   ]
  },
  {
   "cell_type": "code",
   "execution_count": 151,
   "id": "f5792fd9",
   "metadata": {
    "scrolled": true
   },
   "outputs": [
    {
     "data": {
      "text/plain": [
       "array([[False, False, False,  True,  True, False, False,  True, False,\n",
       "         True],\n",
       "       [ True,  True, False,  True,  True, False,  True,  True,  True,\n",
       "         True],\n",
       "       [False, False,  True,  True, False, False,  True, False, False,\n",
       "         True],\n",
       "       [ True, False,  True,  True, False,  True,  True, False, False,\n",
       "         True],\n",
       "       [False, False,  True, False,  True, False,  True,  True, False,\n",
       "        False],\n",
       "       [False,  True,  True,  True,  True,  True, False, False, False,\n",
       "        False],\n",
       "       [False, False, False, False,  True, False,  True,  True,  True,\n",
       "         True],\n",
       "       [False, False, False, False,  True, False, False, False, False,\n",
       "        False],\n",
       "       [False,  True, False, False,  True, False,  True,  True, False,\n",
       "         True],\n",
       "       [False,  True,  True, False, False,  True,  True, False,  True,\n",
       "        False]])"
      ]
     },
     "execution_count": 151,
     "metadata": {},
     "output_type": "execute_result"
    }
   ],
   "source": [
    "x1 > 50"
   ]
  },
  {
   "cell_type": "code",
   "execution_count": 153,
   "id": "8ac208e4",
   "metadata": {},
   "outputs": [
    {
     "data": {
      "text/plain": [
       "True"
      ]
     },
     "execution_count": 153,
     "metadata": {},
     "output_type": "execute_result"
    }
   ],
   "source": [
    "np.all(x1 >= 0)"
   ]
  },
  {
   "cell_type": "code",
   "execution_count": 154,
   "id": "a1bb8bfb",
   "metadata": {},
   "outputs": [
    {
     "data": {
      "text/plain": [
       "False"
      ]
     },
     "execution_count": 154,
     "metadata": {},
     "output_type": "execute_result"
    }
   ],
   "source": [
    "np.any(x1 < 0)"
   ]
  },
  {
   "cell_type": "code",
   "execution_count": 156,
   "id": "be28ba3c",
   "metadata": {},
   "outputs": [
    {
     "data": {
      "text/plain": [
       "array([False, False, False, False, False, False, False, False, False,\n",
       "        True])"
      ]
     },
     "execution_count": 156,
     "metadata": {},
     "output_type": "execute_result"
    }
   ],
   "source": [
    "np.any(x1 == 0, axis=1)"
   ]
  },
  {
   "cell_type": "code",
   "execution_count": 157,
   "id": "9ce79953",
   "metadata": {},
   "outputs": [
    {
     "data": {
      "text/plain": [
       "41"
      ]
     },
     "execution_count": 157,
     "metadata": {},
     "output_type": "execute_result"
    }
   ],
   "source": [
    "np.sum((x1 < 90) & (x1 > 50))"
   ]
  },
  {
   "cell_type": "markdown",
   "id": "460f30d7",
   "metadata": {},
   "source": [
    "#### 将布尔数组作为掩码"
   ]
  },
  {
   "cell_type": "code",
   "execution_count": 159,
   "id": "f10552da",
   "metadata": {},
   "outputs": [
    {
     "data": {
      "text/plain": [
       "array([89, 77, 72, 98, 65, 70, 98, 51, 59, 79, 61, 63, 51, 59, 80, 86, 75,\n",
       "       89, 83, 59, 84, 71, 58, 80, 51, 68, 70, 59, 73, 99, 62, 75, 75, 63,\n",
       "       59, 71, 53, 81, 72, 77, 91, 67, 92, 59, 87, 63, 98])"
      ]
     },
     "execution_count": 159,
     "metadata": {},
     "output_type": "execute_result"
    }
   ],
   "source": [
    "x1[x1>50]"
   ]
  },
  {
   "cell_type": "markdown",
   "id": "07871b4a",
   "metadata": {},
   "source": [
    "### 索引"
   ]
  },
  {
   "cell_type": "markdown",
   "id": "e215c8f9",
   "metadata": {},
   "source": [
    "#### 一维数组"
   ]
  },
  {
   "cell_type": "code",
   "execution_count": 160,
   "id": "6b99d8aa",
   "metadata": {},
   "outputs": [
    {
     "data": {
      "text/plain": [
       "array([15, 19, 72, 10, 74, 33, 89, 37, 29, 39])"
      ]
     },
     "execution_count": 160,
     "metadata": {},
     "output_type": "execute_result"
    }
   ],
   "source": [
    "x = np.random.randint(100,size=10)\n",
    "x"
   ]
  },
  {
   "cell_type": "code",
   "execution_count": 161,
   "id": "9e200847",
   "metadata": {},
   "outputs": [
    {
     "data": {
      "text/plain": [
       "array([72, 89, 39])"
      ]
     },
     "execution_count": 161,
     "metadata": {},
     "output_type": "execute_result"
    }
   ],
   "source": [
    "ind = [2, 6, 9]\n",
    "x[ind]"
   ]
  },
  {
   "cell_type": "markdown",
   "id": "c6301ab0",
   "metadata": {},
   "source": [
    "#### 结果形状与索引数组ind一致"
   ]
  },
  {
   "cell_type": "code",
   "execution_count": 162,
   "id": "0a316686",
   "metadata": {},
   "outputs": [
    {
     "data": {
      "text/plain": [
       "array([[19, 15],\n",
       "       [72, 10]])"
      ]
     },
     "execution_count": 162,
     "metadata": {},
     "output_type": "execute_result"
    }
   ],
   "source": [
    "ind = np.array([[1,0],\n",
    "               [2,3]])\n",
    "x[ind]"
   ]
  }
 ],
 "metadata": {
  "kernelspec": {
   "display_name": "Python 3 (ipykernel)",
   "language": "python",
   "name": "python3"
  },
  "language_info": {
   "codemirror_mode": {
    "name": "ipython",
    "version": 3
   },
   "file_extension": ".py",
   "mimetype": "text/x-python",
   "name": "python",
   "nbconvert_exporter": "python",
   "pygments_lexer": "ipython3",
   "version": "3.9.13"
  }
 },
 "nbformat": 4,
 "nbformat_minor": 5
}
