{
 "cells": [
  {
   "cell_type": "markdown",
   "id": "9abdd2a3",
   "metadata": {},
   "source": [
    "## 数据结构底层实现"
   ]
  },
  {
   "cell_type": "markdown",
   "id": "79e8ffb2",
   "metadata": {},
   "source": [
    "### 列表的拷贝 —— 浅拷贝"
   ]
  },
  {
   "cell_type": "code",
   "execution_count": 4,
   "id": "4e4aac17",
   "metadata": {},
   "outputs": [
    {
     "name": "stdout",
     "output_type": "stream",
     "text": [
      "list1:   [1, [34, 54, 23, 34], (4, 5, 2), {'name': 'ric'}]\n",
      "list2:   [1, [34, 54, 23, 34], (4, 5, 2), {'name': 'ric'}]\n"
     ]
    }
   ],
   "source": [
    "ls_1 = [1,[34,54,23],(4,5,2),{\"name\":\"ric\"}]\n",
    "ls_2 = ls_1.copy()\n",
    "ls_2[1].append(34)\n",
    "print(\"list1:  \",ls_1)\n",
    "print(\"list2:  \",ls_2)"
   ]
  },
  {
   "cell_type": "markdown",
   "id": "f9b39d63",
   "metadata": {},
   "source": [
    "### 列表的底层实现\n",
    "#### 引用数组的概念\n",
    "    列表内的元素可以分散存储再内存中\n",
    "    列表存储的实际上是这些元素的地址 —— 地址的存储再内存中是连续的"
   ]
  },
  {
   "cell_type": "markdown",
   "id": "3d6771fe",
   "metadata": {},
   "source": [
    "#### 列表浅拷贝时，如果列表中的元素也是列表，则时拷贝的列表的地址，而不是列表中的元素或元素地址"
   ]
  },
  {
   "cell_type": "markdown",
   "id": "b8e37ed3",
   "metadata": {},
   "source": [
    "### 列表中元组的拷贝"
   ]
  },
  {
   "cell_type": "code",
   "execution_count": 11,
   "id": "8236e455",
   "metadata": {},
   "outputs": [
    {
     "name": "stdout",
     "output_type": "stream",
     "text": [
      "list1:   [1, [34, 54, 23, 34], (4, 5, 2), {'name': 'ric'}]\n",
      "list2:   [1, [34, 54, 23, 34], (4, 5, 2, 7, 8), {'name': 'ric'}]\n"
     ]
    }
   ],
   "source": [
    "ls_2[2] = (4,5,2)\n",
    "ls_2[2] += (7,8)\n",
    "print(\"list1:  \",ls_1)\n",
    "print(\"list2:  \",ls_2)"
   ]
  },
  {
   "cell_type": "markdown",
   "id": "4d7801e8",
   "metadata": {},
   "source": [
    "#### 拷贝元组时由于元组时不可变类型，执行 += 操作时，会创建一个新的元组给列表中的元组进行替换"
   ]
  },
  {
   "cell_type": "code",
   "execution_count": 13,
   "id": "512c598c",
   "metadata": {},
   "outputs": [
    {
     "ename": "TypeError",
     "evalue": "unsupported operand type(s) for -=: 'tuple' and 'tuple'",
     "output_type": "error",
     "traceback": [
      "\u001b[0;31m---------------------------------------------------------------------------\u001b[0m",
      "\u001b[0;31mTypeError\u001b[0m                                 Traceback (most recent call last)",
      "Input \u001b[0;32mIn [13]\u001b[0m, in \u001b[0;36m<cell line: 1>\u001b[0;34m()\u001b[0m\n\u001b[0;32m----> 1\u001b[0m ls_2[\u001b[38;5;241m2\u001b[39m] \u001b[38;5;241m-\u001b[39m\u001b[38;5;241m=\u001b[39m (\u001b[38;5;241m7\u001b[39m,\u001b[38;5;241m8\u001b[39m)\n",
      "\u001b[0;31mTypeError\u001b[0m: unsupported operand type(s) for -=: 'tuple' and 'tuple'"
     ]
    }
   ],
   "source": [
    "ls_2[2] -= (7,8)   # 元组可以执行 += 但是不能执行 -="
   ]
  },
  {
   "cell_type": "markdown",
   "id": "9cd4d03e",
   "metadata": {},
   "source": [
    "### 列表中字典的拷贝 —— 与列表相似"
   ]
  },
  {
   "cell_type": "code",
   "execution_count": 14,
   "id": "86662058",
   "metadata": {},
   "outputs": [
    {
     "name": "stdout",
     "output_type": "stream",
     "text": [
      "list1:   [1, [34, 54, 23, 34], (4, 5, 2), {'name': 'ric', 'math': 34}]\n",
      "list2:   [1, [34, 54, 23, 34], (4, 5, 2, 7, 8), {'name': 'ric', 'math': 34}]\n"
     ]
    }
   ],
   "source": [
    "ls_2[3]['math'] = 34\n",
    "\n",
    "print(\"list1:  \",ls_1)\n",
    "print(\"list2:  \",ls_2)"
   ]
  },
  {
   "cell_type": "markdown",
   "id": "cda13d53",
   "metadata": {},
   "source": [
    "### 引入深拷贝"
   ]
  },
  {
   "cell_type": "code",
   "execution_count": 16,
   "id": "074138e1",
   "metadata": {},
   "outputs": [
    {
     "name": "stdout",
     "output_type": "stream",
     "text": [
      "list1:   [1, [34, 54, 23], (4, 5, 2), {'name': 'ric'}]\n",
      "list2:   [1, [34, 54, 23, 34], (4, 5, 2), {'name': 'ric', 'math': 43}]\n"
     ]
    }
   ],
   "source": [
    "import copy\n",
    "\n",
    "list_1 = [1,[34,54,23],(4,5,2),{\"name\":\"ric\"}]\n",
    "list_2 = copy.deepcopy(list_1)\n",
    "list_2[1].append(34)\n",
    "list_2[-1][\"math\"] = 43\n",
    "\n",
    "print(\"list1:  \",list_1)\n",
    "print(\"list2:  \",list_2)"
   ]
  },
  {
   "cell_type": "markdown",
   "id": "9f8b3ac1",
   "metadata": {},
   "source": [
    "## 字典"
   ]
  },
  {
   "cell_type": "markdown",
   "id": "3b038ae4",
   "metadata": {},
   "source": [
    "### 快速查找"
   ]
  },
  {
   "cell_type": "code",
   "execution_count": 25,
   "id": "8c6d6844",
   "metadata": {},
   "outputs": [
    {
     "name": "stdout",
     "output_type": "stream",
     "text": [
      "查找1000个元组，在ls_1中有500个，共用时22.14秒\n"
     ]
    }
   ],
   "source": [
    "\"\"\"普通列表方法\"\"\"\n",
    "import time\n",
    "ls_1 = list(range(10000000))\n",
    "ls_2 = list(range(500))+[-10]*500\n",
    "\n",
    "start = time.time()\n",
    "count = 0\n",
    "for n in ls_2:\n",
    "    if n in ls_1:\n",
    "        count += 1\n",
    "end = time.time()\n",
    "print(\"查找{}个元组，在ls_1中有{}个，共用时{}秒\".format(len(ls_2),count,round(end-start,2)))\n",
    "            "
   ]
  },
  {
   "cell_type": "code",
   "execution_count": 26,
   "id": "4ddf76f4",
   "metadata": {},
   "outputs": [
    {
     "name": "stdout",
     "output_type": "stream",
     "text": [
      "查找1000个元组，在ls_1中有500个，共用时0.01秒\n"
     ]
    }
   ],
   "source": [
    "\"\"\"字典法\"\"\"\n",
    "import time\n",
    "d = {i:i for i in range(10000000)}  # 字典键和值一一对应\n",
    "ls_2 = list(range(500)) + [-10]*500\n",
    "\n",
    "start = time.time()\n",
    "count = 0\n",
    "for n in ls_2:\n",
    "    try:\n",
    "        d[n]   # 检验字典中的元素是否存在\n",
    "    except:\n",
    "        pass\n",
    "    else:\n",
    "        count += 1\n",
    "end = time.time()\n",
    "print(\"查找{}个元组，在ls_1中有{}个，共用时{}秒\".format(len(ls_2),count,round(end-start,2)))"
   ]
  },
  {
   "cell_type": "markdown",
   "id": "6a117982",
   "metadata": {},
   "source": [
    "#### 字典是使用hash算法直接计算出散列值来找字典的，字典是一个稀疏数组，可以进行快速查找\n",
    "通过空间换时间，字典需要较大的内存"
   ]
  },
  {
   "cell_type": "markdown",
   "id": "3a37b176",
   "metadata": {},
   "source": [
    "### 字符串是紧凑数组\n",
    "元素直接挨在一起"
   ]
  },
  {
   "cell_type": "markdown",
   "id": "28360408",
   "metadata": {},
   "source": [
    "### 元组不总是不可变的"
   ]
  },
  {
   "cell_type": "markdown",
   "id": "e5389114",
   "metadata": {},
   "source": [
    "#### 1. 不可变类型 ：数字，字符串，元组\n",
    "    在生命周期中，元素内容保持不变\n",
    "    但是可以通过 += 操作符创建一个新的元组，给原来的元组变量符号赋值"
   ]
  },
  {
   "cell_type": "code",
   "execution_count": 28,
   "id": "399917d9",
   "metadata": {},
   "outputs": [
    {
     "name": "stdout",
     "output_type": "stream",
     "text": [
      "x id: 140466813307184\n",
      "y id: 140466671348080\n",
      "x id: 140466813307248\n",
      "y id: 140466188999664\n"
     ]
    }
   ],
   "source": [
    "x = 1\n",
    "y = \"python\"\n",
    "\n",
    "print(\"x id:\",id(x))\n",
    "print(\"y id:\",id(y))\n",
    "\n",
    "x += 2\n",
    "y += \"3.7\"\n",
    "print(\"x id:\",id(x))\n",
    "print(\"y id:\",id(y))"
   ]
  },
  {
   "cell_type": "markdown",
   "id": "6edf1eec",
   "metadata": {},
   "source": [
    "####  2.可变类型：列表，字典，集合\n",
    "    id保持不变\n",
    "    内容可变"
   ]
  },
  {
   "cell_type": "code",
   "execution_count": 31,
   "id": "9bb7274b",
   "metadata": {},
   "outputs": [
    {
     "data": {
      "text/plain": [
       "[3, 'd', 'd']"
      ]
     },
     "execution_count": 31,
     "metadata": {},
     "output_type": "execute_result"
    }
   ],
   "source": [
    "alist = [\"d\",3,\"d\",\"d\"]\n",
    "alist.remove(alist[2])  # remove 删除操作是删除列表中第一次出现的特定元素\n",
    "# 不会直接删除对应下表的元素\n",
    "alist"
   ]
  },
  {
   "cell_type": "code",
   "execution_count": 33,
   "id": "c3593487",
   "metadata": {},
   "outputs": [
    {
     "name": "stdout",
     "output_type": "stream",
     "text": [
      "[3, '5', 3, '7']\n"
     ]
    }
   ],
   "source": [
    "\"\"\"所以使用remove进行遍历删除的时候，需要使用负向索引的方式，否则容易跳过\"\"\"\n",
    "# 不能直接使用 for i in list 进行遍历\n",
    "alist = [\"d\",3,\"d\",\"5\",\"d\",3,\"7\",\"d\"]\n",
    "for i in range(-len(alist), 0):\n",
    "    if alist[i] == \"d\":\n",
    "        alist.remove(\"d\")\n",
    "print(alist)"
   ]
  },
  {
   "cell_type": "markdown",
   "id": "2de291eb",
   "metadata": {},
   "source": [
    "##  多维数组的创建"
   ]
  },
  {
   "cell_type": "code",
   "execution_count": 39,
   "id": "5e55f325",
   "metadata": {},
   "outputs": [
    {
     "data": {
      "text/plain": [
       "[[0, 0, 0, 0, 0],\n",
       " [0, 0, 0, 0, 0],\n",
       " [0, 0, 0, 0, 0],\n",
       " [0, 0, 0, 0, 0],\n",
       " [0, 0, 0, 0, 0]]"
      ]
     },
     "execution_count": 39,
     "metadata": {},
     "output_type": "execute_result"
    }
   ],
   "source": [
    "ls = [[0]*5]*5\n",
    "ls"
   ]
  },
  {
   "cell_type": "code",
   "execution_count": 40,
   "id": "9284efae",
   "metadata": {},
   "outputs": [
    {
     "data": {
      "text/plain": [
       "[[1, 0, 0, 0, 0],\n",
       " [1, 0, 0, 0, 0],\n",
       " [1, 0, 0, 0, 0],\n",
       " [1, 0, 0, 0, 0],\n",
       " [1, 0, 0, 0, 0]]"
      ]
     },
     "execution_count": 40,
     "metadata": {},
     "output_type": "execute_result"
    }
   ],
   "source": [
    "ls[0][0] = 1\n",
    "ls\n",
    "# 这样创建会导致多行列表都指向同一个一维列表"
   ]
  },
  {
   "cell_type": "markdown",
   "id": "a5b79b15",
   "metadata": {},
   "source": [
    "## 解析语法"
   ]
  },
  {
   "cell_type": "markdown",
   "id": "2af56e22",
   "metadata": {},
   "source": [
    "#### 以列表推导为例 也称为列表推导式\n",
    "    [expression for value in iterable if condition]\n",
    "    三要素：表达式，可迭代对象，条件【可选】"
   ]
  },
  {
   "cell_type": "markdown",
   "id": "764439d1",
   "metadata": {},
   "source": [
    "#### 执行过程\n",
    "    1.从可迭代对象中拿出一个元素\n",
    "    2.通过if条件，对元素进行筛选\n",
    "        若通过筛选，则把元素传递给表达式\n",
    "        若未通过则进入下一次迭代\n",
    "    3.将传递给表达式的元素，代入表达式进行处理，产生一个结果\n",
    "    4.将3.产生的结果作为列表的一个元素进行存储\n"
   ]
  },
  {
   "cell_type": "code",
   "execution_count": 41,
   "id": "0243e8a5",
   "metadata": {},
   "outputs": [
    {
     "data": {
      "text/plain": [
       "[[0, 0, 0, 0, 0, 0, 0, 0, 0, 0],\n",
       " [0, 0, 0, 0, 0, 0, 0, 0, 0, 0],\n",
       " [0, 0, 0, 0, 0, 0, 0, 0, 0, 0],\n",
       " [0, 0, 0, 0, 0, 0, 0, 0, 0, 0],\n",
       " [0, 0, 0, 0, 0, 0, 0, 0, 0, 0]]"
      ]
     },
     "execution_count": 41,
     "metadata": {},
     "output_type": "execute_result"
    }
   ],
   "source": [
    "ls = [[0]*10 for i in range(5)]\n",
    "ls"
   ]
  },
  {
   "cell_type": "code",
   "execution_count": 43,
   "id": "1c3267bc",
   "metadata": {},
   "outputs": [
    {
     "data": {
      "text/plain": [
       "[[1, 0, 0, 0, 0, 0, 0, 0, 0, 0],\n",
       " [0, 0, 0, 0, 0, 0, 0, 0, 0, 0],\n",
       " [0, 0, 0, 0, 0, 0, 0, 0, 0, 0],\n",
       " [0, 0, 0, 0, 0, 0, 0, 0, 0, 0],\n",
       " [0, 0, 0, 0, 0, 0, 0, 0, 0, 0]]"
      ]
     },
     "execution_count": 43,
     "metadata": {},
     "output_type": "execute_result"
    }
   ],
   "source": [
    "ls[0][0] = 1\n",
    "ls"
   ]
  },
  {
   "cell_type": "markdown",
   "id": "105a07c7",
   "metadata": {},
   "source": [
    "#### 除了列表推导式还是有"
   ]
  },
  {
   "cell_type": "code",
   "execution_count": 44,
   "id": "fb6f6c82",
   "metadata": {},
   "outputs": [
    {
     "data": {
      "text/plain": [
       "{0, 1, 4, 9, 16}"
      ]
     },
     "execution_count": 44,
     "metadata": {},
     "output_type": "execute_result"
    }
   ],
   "source": [
    "# 集合推导\n",
    "squares = {i**2 for i in range(5)}\n",
    "squares"
   ]
  },
  {
   "cell_type": "code",
   "execution_count": 45,
   "id": "a026dbe8",
   "metadata": {},
   "outputs": [
    {
     "data": {
      "text/plain": [
       "{0: 0, 1: 1, 2: 4, 3: 9, 4: 16}"
      ]
     },
     "execution_count": 45,
     "metadata": {},
     "output_type": "execute_result"
    }
   ],
   "source": [
    "# 字典推导\n",
    "squares = {i:i**2 for i in range(5)}\n",
    "squares"
   ]
  },
  {
   "cell_type": "code",
   "execution_count": 46,
   "id": "48d5fbe3",
   "metadata": {},
   "outputs": [
    {
     "name": "stdout",
     "output_type": "stream",
     "text": [
      "0\n",
      "1\n",
      "4\n",
      "9\n",
      "16\n"
     ]
    }
   ],
   "source": [
    "# 生成器推导\n",
    "squares = (i**2 for i in range(5))\n",
    "for i in squares:\n",
    "    print(i)"
   ]
  },
  {
   "cell_type": "code",
   "execution_count": 48,
   "id": "279da9ba",
   "metadata": {},
   "outputs": [
    {
     "name": "stdout",
     "output_type": "stream",
     "text": [
      "[1, 4, 9]\n"
     ]
    },
    {
     "data": {
      "text/plain": [
       "['black S', 'black M', 'black L', 'white S', 'white M', 'white L']"
      ]
     },
     "execution_count": 48,
     "metadata": {},
     "output_type": "execute_result"
    }
   ],
   "source": [
    "# 支持多变量以及循环嵌套\n",
    "x = [1,2,3]\n",
    "y = [1,2,3]\n",
    "results = [i*j for i,j in zip(x,y)]\n",
    "print(results)\n",
    "\n",
    "colors = [\"black\",\"white\"]\n",
    "sizes = [\"S\",\"M\",\"L\"]\n",
    "tshirts = [\"{} {}\".format(color,size) for color in colors for size in sizes ]\n",
    "tshirts"
   ]
  },
  {
   "cell_type": "markdown",
   "id": "da765eaa",
   "metadata": {},
   "source": [
    "### 条件表达式\n",
    "    expr1 if condition else expr2"
   ]
  },
  {
   "cell_type": "code",
   "execution_count": 49,
   "id": "74a8a614",
   "metadata": {},
   "outputs": [
    {
     "data": {
      "text/plain": [
       "10"
      ]
     },
     "execution_count": 49,
     "metadata": {},
     "output_type": "execute_result"
    }
   ],
   "source": [
    "n = -10\n",
    "if n >= 0:\n",
    "    x = n\n",
    "else:\n",
    "    x = -n\n",
    "x"
   ]
  },
  {
   "cell_type": "code",
   "execution_count": 50,
   "id": "69ef7dd5",
   "metadata": {},
   "outputs": [
    {
     "data": {
      "text/plain": [
       "10"
      ]
     },
     "execution_count": 50,
     "metadata": {},
     "output_type": "execute_result"
    }
   ],
   "source": [
    "n = -10\n",
    "x = n if n >= 0 else -n\n",
    "x"
   ]
  },
  {
   "cell_type": "markdown",
   "id": "bbe3106f",
   "metadata": {},
   "source": [
    "## 三大神器"
   ]
  },
  {
   "cell_type": "markdown",
   "id": "3774fcc6",
   "metadata": {},
   "source": [
    "### 生成器"
   ]
  },
  {
   "cell_type": "code",
   "execution_count": 51,
   "id": "146cdc9b",
   "metadata": {},
   "outputs": [
    {
     "data": {
      "text/plain": [
       "<generator object <genexpr> at 0x7fc0b3dfca50>"
      ]
     },
     "execution_count": 51,
     "metadata": {},
     "output_type": "execute_result"
    }
   ],
   "source": [
    "ls = (i**2 for i in range(1000))\n",
    "ls"
   ]
  },
  {
   "cell_type": "markdown",
   "id": "02c89d8d",
   "metadata": {},
   "source": [
    "### 生成器函数 —— yield\n",
    "    相当于return 但是函数收到迭代信号或者 next()的时候会继续进行下去"
   ]
  },
  {
   "cell_type": "code",
   "execution_count": 59,
   "id": "3f7da2df",
   "metadata": {},
   "outputs": [],
   "source": [
    "def fab(max):\n",
    "    a, b, n = 1, 1, 1\n",
    "    while n<=max:\n",
    "        if n > 2:\n",
    "            a, b = b, a+b\n",
    "            yield b\n",
    "            n += 1\n",
    "        elif n <= 2:\n",
    "            yield 1\n",
    "            n += 1\n"
   ]
  },
  {
   "cell_type": "code",
   "execution_count": 61,
   "id": "472d38cc",
   "metadata": {},
   "outputs": [
    {
     "name": "stdout",
     "output_type": "stream",
     "text": [
      "1\n",
      "1\n",
      "2\n",
      "3\n",
      "5\n",
      "8\n",
      "13\n",
      "21\n",
      "34\n"
     ]
    }
   ],
   "source": [
    "for i in fab(9):\n",
    "    print(i)"
   ]
  },
  {
   "cell_type": "markdown",
   "id": "2a9b992f",
   "metadata": {},
   "source": [
    "### 迭代器\n",
    "    可以不断被 next() 函数迭代，最后抛出 StopIterateion 的对象就是迭代器\n",
    "    生成器，生成器函数都是迭代器"
   ]
  },
  {
   "cell_type": "markdown",
   "id": "2e824dc1",
   "metadata": {},
   "source": [
    "#### 列表、元组、字符串、字典、集合不是迭代器，只是可迭代对象"
   ]
  },
  {
   "cell_type": "code",
   "execution_count": 67,
   "id": "467b22cf",
   "metadata": {},
   "outputs": [
    {
     "data": {
      "text/plain": [
       "False"
      ]
     },
     "execution_count": 67,
     "metadata": {},
     "output_type": "execute_result"
    }
   ],
   "source": [
    "from collections.abc import Iterator\n",
    "isinstance([1,2,3], Iterator)\n"
   ]
  },
  {
   "cell_type": "markdown",
   "id": "fa921815",
   "metadata": {},
   "source": [
    "range() 不是迭代器 xrange() 是生成器"
   ]
  },
  {
   "cell_type": "markdown",
   "id": "d7438069",
   "metadata": {},
   "source": [
    "for item in iterable 等价于：\n",
    "\n",
    "    先通过iter() 函数获取可迭代对象的迭代器\n",
    "    然后对获取到的迭代器不断调用next()方法来获取下一个值并赋予item\n",
    "    当遇到StopIteration的异常的时候结束循环"
   ]
  },
  {
   "cell_type": "markdown",
   "id": "048c65c3",
   "metadata": {},
   "source": [
    "itertools 里的函数迭代器 zip enumerate"
   ]
  },
  {
   "cell_type": "markdown",
   "id": "d699eb4b",
   "metadata": {},
   "source": [
    "文件也是迭代器"
   ]
  },
  {
   "cell_type": "code",
   "execution_count": null,
   "id": "be92f4b7",
   "metadata": {},
   "outputs": [],
   "source": []
  },
  {
   "cell_type": "markdown",
   "id": "8526dee1",
   "metadata": {},
   "source": [
    "### 装饰器\n",
    "    需要对已开发上线的程序添加某些功能\n",
    "    不能对程序中的源码进行更改\n",
    "    不能改变程序中函数的调用方式"
   ]
  },
  {
   "cell_type": "code",
   "execution_count": 90,
   "id": "84ca6324",
   "metadata": {},
   "outputs": [
    {
     "name": "stdout",
     "output_type": "stream",
     "text": [
      "f1 run\n",
      "f1 函数运行用时1.00秒\n"
     ]
    },
    {
     "data": {
      "text/plain": [
       "<function __main__.f1()>"
      ]
     },
     "execution_count": 90,
     "metadata": {},
     "output_type": "execute_result"
    }
   ],
   "source": [
    "import time\n",
    "\n",
    "def timer(func): \n",
    "        start = time.time()\n",
    "        func()\n",
    "        end = time.time()\n",
    "        print(\"{} 函数运行用时{:.2f}秒\".format(func.__name__, (end-start)))\n",
    "        return func\n",
    "    \n",
    "def f1():\n",
    "    print(\"f1 run\")\n",
    "    time.sleep(1)\n",
    "    \n",
    "    \n",
    "timer(f1)"
   ]
  },
  {
   "cell_type": "code",
   "execution_count": 83,
   "id": "f3b79393",
   "metadata": {},
   "outputs": [
    {
     "name": "stdout",
     "output_type": "stream",
     "text": [
      "f1 run\n",
      "f1 函数运行用时1.00秒\n",
      "f1 run\n"
     ]
    }
   ],
   "source": [
    "def timer_test(func):\n",
    "    \n",
    "   # func不需要传参可以直接return func 不需要添加中间层\n",
    "    start = time.time()\n",
    "    func()\n",
    "    end = time.time()\n",
    "    print(\"{} 函数运行用时{:.2f}秒\".format(func.__name__, (end-start)))\n",
    "    return func\n",
    "\n",
    "@timer_test\n",
    "def f1():\n",
    "    print(\"f1 run\")\n",
    "    time.sleep(1)\n",
    "\n",
    "f1()"
   ]
  },
  {
   "cell_type": "markdown",
   "id": "3c0178bf",
   "metadata": {},
   "source": [
    "定义inner 函数以后，可以防止执行timer()的时候直接调用func，而是返回一个函数的指针，并且增加传参功能"
   ]
  },
  {
   "cell_type": "code",
   "execution_count": 71,
   "id": "ac8eaa4d",
   "metadata": {},
   "outputs": [
    {
     "data": {
      "text/plain": [
       "<function __main__.timer.<locals>.inner()>"
      ]
     },
     "execution_count": 71,
     "metadata": {},
     "output_type": "execute_result"
    }
   ],
   "source": [
    "\n",
    "def timer(func):\n",
    "    \n",
    "    def inner(*args, **kwargs):   # 定义inner 函数以后，可以防止执行timer()的时候直接调用func，而是返回一个函数的指针,并且增加传参功能\n",
    "        start = time.time()\n",
    "        func(*args, **kwargs)\n",
    "        end = time.time()\n",
    "        print(\"{} 函数运行用时{:.2f}秒\".format(func.__name__, (end-start)))\n",
    "    return inner\n",
    "    \n",
    "def f2(n):\n",
    "    print(\"f1 run\")\n",
    "    time.sleep(n)\n",
    "    \n",
    "    \n",
    "timer(f2)"
   ]
  },
  {
   "cell_type": "markdown",
   "id": "de302a30",
   "metadata": {},
   "source": [
    "用装饰器方式表达"
   ]
  },
  {
   "cell_type": "code",
   "execution_count": 72,
   "id": "58362d93",
   "metadata": {},
   "outputs": [
    {
     "name": "stdout",
     "output_type": "stream",
     "text": [
      "f2 run\n",
      "f2 函数运行用时1.00秒\n"
     ]
    }
   ],
   "source": [
    "# 用装饰器方式表达\n",
    "@timer\n",
    "def f2():\n",
    "    print(\"f2 run\")\n",
    "    time.sleep(1)\n",
    "\n",
    "# 相当于这里省略了 f2 = timer(f2)\n",
    "f2()  "
   ]
  },
  {
   "cell_type": "markdown",
   "id": "3be6df9d",
   "metadata": {},
   "source": [
    "#### 装饰器所有功能：\n",
    "    装饰的函数需要传参\n",
    "    装饰的函数需要返回值\n",
    "    装饰器本身需要传参\n",
    "    装饰器需要多种返回值"
   ]
  },
  {
   "cell_type": "code",
   "execution_count": 76,
   "id": "88f845ba",
   "metadata": {},
   "outputs": [
    {
     "name": "stdout",
     "output_type": "stream",
     "text": [
      "double inner run\n",
      "f2 sleep\n",
      "f2 函数运行双倍用时4.00秒\n"
     ]
    },
    {
     "data": {
      "text/plain": [
       "2"
      ]
     },
     "execution_count": 76,
     "metadata": {},
     "output_type": "execute_result"
    }
   ],
   "source": [
    "def timer(method):    # 装饰器本身需要传参\n",
    "    \n",
    "    \n",
    "    def single(func): # 在这里另外加一层嵌套\n",
    "        def single_inner(*args, **kwargs):  #这一层开始和不加参数的相似\n",
    "            print(\"single inner run\")\n",
    "            start = time.time()\n",
    "            res = func(*args, **kwargs)\n",
    "            end = time.time()\n",
    "            print(\"{} 函数运行用时{:.2f}秒\".format(func.__name__, (end-start)))\n",
    "            return res\n",
    "        return single_inner\n",
    "    \n",
    "    def double(func):\n",
    "        def double_inner(*args, **kwargs):\n",
    "            print(\"double inner run\")\n",
    "            start = time.time()\n",
    "            res = func(*args, **kwargs)\n",
    "            end = time.time()\n",
    "            print(\"{} 函数运行双倍用时{:.2f}秒\".format(func.__name__, 2*(end-start)))\n",
    "            return res\n",
    "        return double_inner\n",
    "    \n",
    "    if method == \"origin\":   # 可以在所有中间嵌套定义结束后选择需要根据参数返回中间嵌套函数\n",
    "        return single    \n",
    "    elif method == \"double\":\n",
    "        return double\n",
    "        \n",
    "@timer(method=\"double\")  # 默认执行了初步的函数转换  timer = timer(method)  再接下来  f2 = timer(f2) 装饰 f2函数， 所以创造装饰器时也需要多一层\n",
    "def f2(n):\n",
    "    print(\"f2 sleep\")\n",
    "    time.sleep(n)\n",
    "    return n\n",
    "    \n",
    "f2(2)"
   ]
  }
 ],
 "metadata": {
  "kernelspec": {
   "display_name": "Python 3 (ipykernel)",
   "language": "python",
   "name": "python3"
  },
  "language_info": {
   "codemirror_mode": {
    "name": "ipython",
    "version": 3
   },
   "file_extension": ".py",
   "mimetype": "text/x-python",
   "name": "python",
   "nbconvert_exporter": "python",
   "pygments_lexer": "ipython3",
   "version": "3.9.13"
  }
 },
 "nbformat": 4,
 "nbformat_minor": 5
}
