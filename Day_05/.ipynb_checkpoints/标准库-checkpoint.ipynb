{
 "cells": [
  {
   "cell_type": "markdown",
   "id": "c8991350",
   "metadata": {},
   "source": [
    "#  python 标准库"
   ]
  },
  {
   "cell_type": "markdown",
   "id": "4ffb2155",
   "metadata": {},
   "source": [
    "\n",
    "## time 时间\n",
    "## random 随机数\n",
    "## itertools 迭代器\n",
    "## collections 容器"
   ]
  },
  {
   "cell_type": "markdown",
   "id": "2d6d5fc5",
   "metadata": {},
   "source": [
    "##  time\n",
    "### 获取现在的时间"
   ]
  },
  {
   "cell_type": "code",
   "execution_count": 2,
   "id": "c24f2353",
   "metadata": {},
   "outputs": [
    {
     "name": "stdout",
     "output_type": "stream",
     "text": [
      "time.struct_time(tm_year=2022, tm_mon=9, tm_mday=8, tm_hour=23, tm_min=57, tm_sec=45, tm_wday=3, tm_yday=251, tm_isdst=0)\n",
      "time.struct_time(tm_year=2022, tm_mon=9, tm_mday=8, tm_hour=15, tm_min=57, tm_sec=45, tm_wday=3, tm_yday=251, tm_isdst=0)\n"
     ]
    }
   ],
   "source": [
    "import time\n",
    "\n",
    "t_local = time.localtime()\n",
    "t_UTC = time.gmtime()\n",
    "print(t_local)\n",
    "print(t_UTC)"
   ]
  },
  {
   "cell_type": "code",
   "execution_count": 3,
   "id": "bc904720",
   "metadata": {},
   "outputs": [
    {
     "data": {
      "text/plain": [
       "'Thu Sep  8 23:59:20 2022'"
      ]
     },
     "execution_count": 3,
     "metadata": {},
     "output_type": "execute_result"
    }
   ],
   "source": [
    "time.ctime()"
   ]
  },
  {
   "cell_type": "markdown",
   "id": "60772837",
   "metadata": {},
   "source": [
    "### 时间戳与计时器\n",
    "    time.time()  返回自妓院以来的秒数，记录sleep\n",
    "    time.perf_counter()  随机选取一个时间点，记录现在时间到该时间点的间隔秒数，记录sleep\n",
    "    time.process_time()  随机选取一个时间点，记录现在时间到该时间点的间隔秒数，不记录sleep\n",
    "    perf_counter()  精度比 time() 更高一些"
   ]
  },
  {
   "cell_type": "code",
   "execution_count": 6,
   "id": "971f80b8",
   "metadata": {},
   "outputs": [
    {
     "name": "stdout",
     "output_type": "stream",
     "text": [
      "time方法：5.081秒\n",
      "perf_counter方法：5.081秒\n",
      "process_time方法：0.074秒\n"
     ]
    }
   ],
   "source": [
    "t_1_start = time.time()\n",
    "t_2_start = time.perf_counter()\n",
    "t_3_start = time.process_time()\n",
    "\n",
    "res = 0\n",
    "for i in range(1000000):\n",
    "    res += i\n",
    "    \n",
    "time.sleep(5)\n",
    "t_1_end = time.time()\n",
    "t_2_end = time.perf_counter()\n",
    "t_3_end = time.process_time()\n",
    "\n",
    "print(\"time方法：{:.3f}秒\".format(t_1_end-t_1_start))\n",
    "print(\"perf_counter方法：{:.3f}秒\".format(t_2_end-t_2_start))\n",
    "print(\"process_time方法：{:.3f}秒\".format(t_3_end-t_3_start))"
   ]
  },
  {
   "cell_type": "markdown",
   "id": "c2ef4e59",
   "metadata": {},
   "source": [
    " ### 格式化输出\n",
    "     time.strftime 自定义格式输出\n",
    "     %Y  年\n",
    "     %m  月\n",
    "     %d  日\n",
    "     %A  星期\n",
    "     %H  小时\n",
    "     %M  分钟\n",
    "     %S  秒"
   ]
  },
  {
   "cell_type": "code",
   "execution_count": 10,
   "id": "93526794",
   "metadata": {},
   "outputs": [
    {
     "name": "stdout",
     "output_type": "stream",
     "text": [
      "2022-09-28-Wednesday-20-14-54\n",
      "time.struct_time(tm_year=2022, tm_mon=9, tm_mday=28, tm_hour=20, tm_min=14, tm_sec=54, tm_wday=2, tm_yday=271, tm_isdst=0)\n"
     ]
    }
   ],
   "source": [
    "lctime = time.localtime()\n",
    "stftime = time.strftime(\"%Y-%m-%d-%A-%H-%M-%S\",lctime)\n",
    "print(stftime)\n",
    "print(lctime)"
   ]
  },
  {
   "cell_type": "markdown",
   "id": "4cf2b6e0",
   "metadata": {},
   "source": [
    "### 暂停"
   ]
  },
  {
   "cell_type": "code",
   "execution_count": 13,
   "id": "6c934b1e",
   "metadata": {},
   "outputs": [],
   "source": [
    "time.sleep(1)"
   ]
  },
  {
   "cell_type": "markdown",
   "id": "3798da68",
   "metadata": {},
   "source": [
    "## random库\n",
    "    提供伪随机数"
   ]
  },
  {
   "cell_type": "markdown",
   "id": "36deae5d",
   "metadata": {},
   "source": [
    "### 1、随机种子—— seed(a=None)\n",
    "    （1）相同种子会产生相同的随机数\n",
    "    （2）如果不设置随机种子，以当前系统时间为默认值\n",
    "    （3）只对接下来的random函数生效一次"
   ]
  },
  {
   "cell_type": "code",
   "execution_count": 18,
   "id": "e688b819",
   "metadata": {},
   "outputs": [
    {
     "name": "stdout",
     "output_type": "stream",
     "text": [
      "0.5714025946899135\n",
      "0.5714025946899135\n",
      "0.4288890546751146\n"
     ]
    }
   ],
   "source": [
    "from random import *\n",
    "\n",
    "seed(10)\n",
    "print(random())\n",
    "seed(10)\n",
    "print(random())\n",
    "print(random())"
   ]
  },
  {
   "cell_type": "markdown",
   "id": "5c62d737",
   "metadata": {},
   "source": [
    "### 2、产生随机整数"
   ]
  },
  {
   "cell_type": "markdown",
   "id": "54cea15b",
   "metadata": {},
   "source": [
    "#### （1）randint(a, b)——产生[a, b]之间的随机整数\n",
    "#### （2）randrange(a)——产生[0,a)之间的随机整数\n",
    "#### （3）randrange(a, b, step)——产生[a,b)之间以step为步长的随机整数"
   ]
  },
  {
   "cell_type": "code",
   "execution_count": 19,
   "id": "a79ccac6",
   "metadata": {},
   "outputs": [
    {
     "data": {
      "text/plain": [
       "[10, 1, 4, 8, 8, 5, 3, 1, 9, 8]"
      ]
     },
     "execution_count": 19,
     "metadata": {},
     "output_type": "execute_result"
    }
   ],
   "source": [
    "numbers = [randint(1,10) for i in range(10)]\n",
    "numbers"
   ]
  },
  {
   "cell_type": "code",
   "execution_count": 21,
   "id": "5c49e140",
   "metadata": {},
   "outputs": [
    {
     "data": {
      "text/plain": [
       "[6, 4, 4, 7, 2, 4, 5, 2, 7, 3]"
      ]
     },
     "execution_count": 21,
     "metadata": {},
     "output_type": "execute_result"
    }
   ],
   "source": [
    "numbers = [randrange(10) for i in range(10)]\n",
    "numbers"
   ]
  },
  {
   "cell_type": "code",
   "execution_count": 23,
   "id": "bb301d06",
   "metadata": {},
   "outputs": [
    {
     "data": {
      "text/plain": [
       "[8, 4, 2, 4, 8, 6, 6, 6, 0, 8]"
      ]
     },
     "execution_count": 23,
     "metadata": {},
     "output_type": "execute_result"
    }
   ],
   "source": [
    "numbers = [randrange(0,10,2) for i in range(10)]\n",
    "numbers"
   ]
  },
  {
   "cell_type": "markdown",
   "id": "05f9ae83",
   "metadata": {},
   "source": [
    "### 产生随机浮点数"
   ]
  },
  {
   "cell_type": "markdown",
   "id": "8bc1b9c7",
   "metadata": {},
   "source": [
    "#### （1）random() —— 产生 [0, 1.0) 之间的随机浮点数 \n",
    "#### （2）uniform(a, b) —— 产生[a, b]之间的随机浮点数"
   ]
  },
  {
   "cell_type": "code",
   "execution_count": 24,
   "id": "e87f3812",
   "metadata": {},
   "outputs": [
    {
     "data": {
      "text/plain": [
       "[0.32468828442743336,\n",
       " 0.501917020651839,\n",
       " 0.8421751128457409,\n",
       " 0.9697836444740757,\n",
       " 0.23837400255296282,\n",
       " 0.03174668920489765,\n",
       " 0.30116425319003204,\n",
       " 0.6066772167227487,\n",
       " 0.07203477273496783,\n",
       " 0.9242676783734988]"
      ]
     },
     "execution_count": 24,
     "metadata": {},
     "output_type": "execute_result"
    }
   ],
   "source": [
    "numbers = [random() for i in range(10)]\n",
    "numbers"
   ]
  },
  {
   "cell_type": "code",
   "execution_count": 26,
   "id": "b2c3edfc",
   "metadata": {},
   "outputs": [
    {
     "data": {
      "text/plain": [
       "[5.415779505568302,\n",
       " 7.405557213165303,\n",
       " 5.725943261277243,\n",
       " 6.478526622645935,\n",
       " 4.759242287093467,\n",
       " 5.969942240201483,\n",
       " 7.067624285685599,\n",
       " 5.1544866193708145,\n",
       " 5.268224100230642,\n",
       " 6.413349405496712]"
      ]
     },
     "execution_count": 26,
     "metadata": {},
     "output_type": "execute_result"
    }
   ],
   "source": [
    "numbers = [uniform(4.3, 7.5) for i in range(10)]\n",
    "numbers"
   ]
  },
  {
   "cell_type": "markdown",
   "id": "c788fb97",
   "metadata": {},
   "source": [
    "### 随机序列"
   ]
  },
  {
   "cell_type": "markdown",
   "id": "b2f4e50e",
   "metadata": {},
   "source": [
    "#### （1）choice(seq) —— 从序列中随机返回一个元素\n",
    "#### （2）choices(seq, weights=None, k) —— 对序列类型进行k次重复采样，可以设置权重\n",
    "#### （3）shuffle(seq) —— 将序列类型中元素随机排列， 返回打乱后的序列\n",
    "#### （4）sample(pop, k)  —— 从序列中随机选取k个元素，选中后弹出本身序列，以列表类型返回，k不能大于序列长度"
   ]
  },
  {
   "cell_type": "code",
   "execution_count": 27,
   "id": "6f0c6806",
   "metadata": {},
   "outputs": [
    {
     "data": {
      "text/plain": [
       "'win'"
      ]
     },
     "execution_count": 27,
     "metadata": {},
     "output_type": "execute_result"
    }
   ],
   "source": [
    "choice(['win','lose','draw'])"
   ]
  },
  {
   "cell_type": "code",
   "execution_count": 29,
   "id": "11017a5c",
   "metadata": {},
   "outputs": [
    {
     "data": {
      "text/plain": [
       "'h'"
      ]
     },
     "execution_count": 29,
     "metadata": {},
     "output_type": "execute_result"
    }
   ],
   "source": [
    "choice(\"python\")"
   ]
  },
  {
   "cell_type": "code",
   "execution_count": 31,
   "id": "a7a17db8",
   "metadata": {},
   "outputs": [
    {
     "data": {
      "text/plain": [
       "['draw', 'win', 'win']"
      ]
     },
     "execution_count": 31,
     "metadata": {},
     "output_type": "execute_result"
    }
   ],
   "source": [
    "choices(['win','lose','draw'], k=3)"
   ]
  },
  {
   "cell_type": "code",
   "execution_count": 40,
   "id": "dca9ecb7",
   "metadata": {
    "scrolled": false
   },
   "outputs": [
    {
     "data": {
      "text/plain": [
       "['lose', 'lose', 'lose', 'lose', 'draw', 'lose', 'lose', 'lose', 'draw']"
      ]
     },
     "execution_count": 40,
     "metadata": {},
     "output_type": "execute_result"
    }
   ],
   "source": [
    "choices(['win','lose','draw'],[3,60,2], k=9)"
   ]
  },
  {
   "cell_type": "code",
   "execution_count": 46,
   "id": "6ce16f76",
   "metadata": {},
   "outputs": [
    {
     "data": {
      "text/plain": [
       "['2', '1', '3', '4']"
      ]
     },
     "execution_count": 46,
     "metadata": {},
     "output_type": "execute_result"
    }
   ],
   "source": [
    "newrand = ['1','2','3','4']\n",
    "shuffle(newrand)\n",
    "newrand"
   ]
  },
  {
   "cell_type": "code",
   "execution_count": 47,
   "id": "f9252d02",
   "metadata": {},
   "outputs": [
    {
     "data": {
      "text/plain": [
       "[1, 4, 6, 5, 2]"
      ]
     },
     "execution_count": 47,
     "metadata": {},
     "output_type": "execute_result"
    }
   ],
   "source": [
    "sample([1,2,3,4,5,6], k=5)"
   ]
  },
  {
   "cell_type": "markdown",
   "id": "59106c9e",
   "metadata": {},
   "source": [
    "### 概率分布——以高斯分布为例\n",
    "#### gauss(mean, std) ——产生一个符合高斯分布的随机数，mean 均值, std 标准差"
   ]
  },
  {
   "cell_type": "code",
   "execution_count": 48,
   "id": "a19a79d1",
   "metadata": {},
   "outputs": [
    {
     "data": {
      "text/plain": [
       "-0.03261104941810984"
      ]
     },
     "execution_count": 48,
     "metadata": {},
     "output_type": "execute_result"
    }
   ],
   "source": [
    "number = gauss(0, 1)\n",
    "number"
   ]
  },
  {
   "cell_type": "code",
   "execution_count": 53,
   "id": "b89b0eee",
   "metadata": {},
   "outputs": [
    {
     "data": {
      "image/png": "[encoded data removed]",
      "text/plain": [
       "<Figure size 432x288 with 1 Axes>"
      ]
     },
     "metadata": {
      "needs_background": "light"
     },
     "output_type": "display_data"
    }
   ],
   "source": [
    "import matplotlib.pyplot as plt\n",
    "\n",
    "res = [gauss(0, 1) for i in range(10000)]\n",
    "\n",
    "plt.hist(res, bins=100)\n",
    "plt.show()"
   ]
  },
  {
   "cell_type": "markdown",
   "id": "302b969a",
   "metadata": {},
   "source": [
    "#### 用random实现微信红包分配"
   ]
  },
  {
   "cell_type": "code",
   "execution_count": 75,
   "id": "0c9dc266",
   "metadata": {},
   "outputs": [
    {
     "data": {
      "text/plain": [
       "[0.22852521834275907,\n",
       " 3.5478215891438447,\n",
       " 2.8816859010893956,\n",
       " 1.964683550243539,\n",
       " 1.964683550243539]"
      ]
     },
     "execution_count": 75,
     "metadata": {},
     "output_type": "execute_result"
    }
   ],
   "source": [
    "def red_packet(total,num):\n",
    "    ls = []\n",
    "    for i in range(1,num):\n",
    "        per = uniform(0.01, total/(num-i+1)*2)\n",
    "        total = total - per\n",
    "        ls.append(per)\n",
    "        #print(\"第{}位红包金额: {:.2f}元\".format(i, per))\n",
    "    ls.append(per)\n",
    "    #print(\"第{}位红包金额: {:.2f}元\".format(num, total))\n",
    "    return ls\n",
    "    \n",
    "red_packet(10,5)"
   ]
  },
  {
   "cell_type": "markdown",
   "id": "56590229",
   "metadata": {},
   "source": [
    "检测每个红包的实际平均值是否接近期望"
   ]
  },
  {
   "cell_type": "code",
   "execution_count": 80,
   "id": "348edf6a",
   "metadata": {},
   "outputs": [
    {
     "name": "stdout",
     "output_type": "stream",
     "text": [
      "[[2.46768743 3.27711505 1.069912   2.97071262 2.97071262]\n",
      " [1.99285693 3.31108696 1.74868606 2.82823262 2.82823262]\n",
      " [3.62304007 3.11368103 0.80059476 2.3485078  2.3485078 ]\n",
      " [1.49857925 0.21298729 0.04382322 6.3843981  6.3843981 ]\n",
      " [3.41196838 1.0671965  1.75893711 2.27994273 2.27994273]\n",
      " [0.24447338 3.38317832 2.41941535 3.77423784 3.77423784]\n",
      " [2.43118979 0.91229935 3.76970681 2.67942442 2.67942442]\n",
      " [2.26810017 0.24662475 1.18961415 1.48702732 1.48702732]\n",
      " [0.40362489 4.18882361 3.4646638  0.02087231 0.02087231]\n",
      " [2.66290344 1.49781817 3.55696969 1.41021483 1.41021483]]\n"
     ]
    },
    {
     "data": {
      "text/plain": [
       "array([2.00586909, 2.00296727, 2.00234004, 1.99551322, 1.99551322])"
      ]
     },
     "execution_count": 80,
     "metadata": {},
     "output_type": "execute_result"
    }
   ],
   "source": [
    "import numpy as np\n",
    "\n",
    "res = []\n",
    "for i in range(100000):\n",
    "    ls  = red_packet(10,5)\n",
    "    res.append(ls)\n",
    "    \n",
    "res = np.array(res)\n",
    "print(res[:10])\n",
    "np.mean(res,axis=0)"
   ]
  },
  {
   "cell_type": "markdown",
   "id": "2a2cc33d",
   "metadata": {},
   "source": [
    "#### 生成随机验证码"
   ]
  },
  {
   "cell_type": "code",
   "execution_count": 83,
   "id": "8f10b0a0",
   "metadata": {},
   "outputs": [
    {
     "name": "stdout",
     "output_type": "stream",
     "text": [
      "0123456789\n",
      "abcdefghijklmnopqrstuvwxyzABCDEFGHIJKLMNOPQRSTUVWXYZ\n",
      "xWBC\n"
     ]
    }
   ],
   "source": [
    "import string\n",
    "\n",
    "print(string.digits)\n",
    "print(string.ascii_letters)\n",
    "\n",
    "s = string.digits+string.ascii_letters\n",
    "v = sample(s, 4)\n",
    "print(\"\".join(v))"
   ]
  },
  {
   "cell_type": "markdown",
   "id": "7d769fa4",
   "metadata": {},
   "source": [
    "## collection库——容器数据类型"
   ]
  },
  {
   "cell_type": "code",
   "execution_count": 84,
   "id": "94f509e9",
   "metadata": {},
   "outputs": [],
   "source": [
    "import collections"
   ]
  },
  {
   "cell_type": "markdown",
   "id": "17703828",
   "metadata": {},
   "source": [
    "### 1、具名元组 —— 有名字的元组\n",
    "    collections.namedtuple(typename, field_name, *, rename=False, defaults=None, module=None)\n",
    "    可以调用属性\n",
    "    有元组的性质，是元组的子类"
   ]
  },
  {
   "cell_type": "code",
   "execution_count": 85,
   "id": "87635aa6",
   "metadata": {},
   "outputs": [
    {
     "data": {
      "text/plain": [
       "Point(x=1, y=2)"
      ]
     },
     "execution_count": 85,
     "metadata": {},
     "output_type": "execute_result"
    }
   ],
   "source": [
    "point = collections.namedtuple(\"Point\",[\"x\",\"y\"])\n",
    "# point 为代表此种容器的变量\n",
    "p = point(1,2)\n",
    "# p 是point容器初始化后的具体实例\n",
    "p"
   ]
  },
  {
   "cell_type": "code",
   "execution_count": 87,
   "id": "1672a2c3",
   "metadata": {},
   "outputs": [
    {
     "name": "stdout",
     "output_type": "stream",
     "text": [
      "1 2\n",
      "2\n",
      "1 2\n",
      "True\n"
     ]
    }
   ],
   "source": [
    "print(p.x,p.y)\n",
    "print(p[1])\n",
    "x, y = p\n",
    "print(x,y)\n",
    "print(isinstance(p,tuple))"
   ]
  },
  {
   "cell_type": "markdown",
   "id": "1d5fbd08",
   "metadata": {},
   "source": [
    "【例】模拟扑克牌"
   ]
  },
  {
   "cell_type": "code",
   "execution_count": 93,
   "id": "ce54c4cf",
   "metadata": {},
   "outputs": [
    {
     "data": {
      "text/plain": [
       "[Card(rank='2', suit='spades'),\n",
       " Card(rank='2', suit='diamonds'),\n",
       " Card(rank='2', suit='clubs'),\n",
       " Card(rank='2', suit='hearts'),\n",
       " Card(rank='3', suit='spades'),\n",
       " Card(rank='3', suit='diamonds'),\n",
       " Card(rank='3', suit='clubs'),\n",
       " Card(rank='3', suit='hearts'),\n",
       " Card(rank='4', suit='spades'),\n",
       " Card(rank='4', suit='diamonds'),\n",
       " Card(rank='4', suit='clubs'),\n",
       " Card(rank='4', suit='hearts'),\n",
       " Card(rank='5', suit='spades'),\n",
       " Card(rank='5', suit='diamonds'),\n",
       " Card(rank='5', suit='clubs'),\n",
       " Card(rank='5', suit='hearts'),\n",
       " Card(rank='6', suit='spades'),\n",
       " Card(rank='6', suit='diamonds'),\n",
       " Card(rank='6', suit='clubs'),\n",
       " Card(rank='6', suit='hearts'),\n",
       " Card(rank='7', suit='spades'),\n",
       " Card(rank='7', suit='diamonds'),\n",
       " Card(rank='7', suit='clubs'),\n",
       " Card(rank='7', suit='hearts'),\n",
       " Card(rank='8', suit='spades'),\n",
       " Card(rank='8', suit='diamonds'),\n",
       " Card(rank='8', suit='clubs'),\n",
       " Card(rank='8', suit='hearts'),\n",
       " Card(rank='9', suit='spades'),\n",
       " Card(rank='9', suit='diamonds'),\n",
       " Card(rank='9', suit='clubs'),\n",
       " Card(rank='9', suit='hearts'),\n",
       " Card(rank='10', suit='spades'),\n",
       " Card(rank='10', suit='diamonds'),\n",
       " Card(rank='10', suit='clubs'),\n",
       " Card(rank='10', suit='hearts'),\n",
       " Card(rank='J', suit='spades'),\n",
       " Card(rank='J', suit='diamonds'),\n",
       " Card(rank='J', suit='clubs'),\n",
       " Card(rank='J', suit='hearts'),\n",
       " Card(rank='Q', suit='spades'),\n",
       " Card(rank='Q', suit='diamonds'),\n",
       " Card(rank='Q', suit='clubs'),\n",
       " Card(rank='Q', suit='hearts'),\n",
       " Card(rank='K', suit='spades'),\n",
       " Card(rank='K', suit='diamonds'),\n",
       " Card(rank='K', suit='clubs'),\n",
       " Card(rank='K', suit='hearts'),\n",
       " Card(rank='A', suit='spades'),\n",
       " Card(rank='A', suit='diamonds'),\n",
       " Card(rank='A', suit='clubs'),\n",
       " Card(rank='A', suit='hearts'),\n",
       " Card(rank='joker', suit='black'),\n",
       " Card(rank='joker', suit='red')]"
      ]
     },
     "execution_count": 93,
     "metadata": {},
     "output_type": "execute_result"
    }
   ],
   "source": [
    "card = collections.namedtuple(\"Card\", [\"rank\",\"suit\"])\n",
    "ranks = [str(n) for n in range(2,11)] + list(\"JQKA\")\n",
    "suits = \"spades diamonds clubs hearts\".split()\n",
    "cards = [card(rank,suit) for rank in ranks for suit in suits]\n",
    "cards.append(card(\"joker\",\"black\"))\n",
    "cards.append(card(\"joker\",\"red\"))\n",
    "cards"
   ]
  },
  {
   "cell_type": "code",
   "execution_count": 96,
   "id": "f16d6da6",
   "metadata": {},
   "outputs": [
    {
     "data": {
      "text/plain": [
       "[Card(rank='7', suit='clubs'),\n",
       " Card(rank='4', suit='diamonds'),\n",
       " Card(rank='5', suit='hearts'),\n",
       " Card(rank='5', suit='spades'),\n",
       " Card(rank='Q', suit='spades'),\n",
       " Card(rank='A', suit='diamonds'),\n",
       " Card(rank='A', suit='hearts'),\n",
       " Card(rank='9', suit='clubs'),\n",
       " Card(rank='8', suit='diamonds'),\n",
       " Card(rank='K', suit='hearts'),\n",
       " Card(rank='3', suit='diamonds'),\n",
       " Card(rank='K', suit='clubs'),\n",
       " Card(rank='joker', suit='red'),\n",
       " Card(rank='3', suit='clubs'),\n",
       " Card(rank='8', suit='hearts'),\n",
       " Card(rank='joker', suit='black'),\n",
       " Card(rank='5', suit='clubs'),\n",
       " Card(rank='7', suit='hearts'),\n",
       " Card(rank='2', suit='hearts'),\n",
       " Card(rank='7', suit='spades'),\n",
       " Card(rank='3', suit='spades'),\n",
       " Card(rank='A', suit='clubs'),\n",
       " Card(rank='6', suit='diamonds'),\n",
       " Card(rank='J', suit='clubs'),\n",
       " Card(rank='6', suit='hearts'),\n",
       " Card(rank='K', suit='spades'),\n",
       " Card(rank='2', suit='clubs'),\n",
       " Card(rank='Q', suit='diamonds'),\n",
       " Card(rank='Q', suit='hearts'),\n",
       " Card(rank='10', suit='hearts'),\n",
       " Card(rank='3', suit='hearts'),\n",
       " Card(rank='9', suit='hearts'),\n",
       " Card(rank='10', suit='diamonds'),\n",
       " Card(rank='10', suit='spades'),\n",
       " Card(rank='A', suit='spades'),\n",
       " Card(rank='J', suit='spades'),\n",
       " Card(rank='K', suit='diamonds'),\n",
       " Card(rank='7', suit='diamonds'),\n",
       " Card(rank='6', suit='spades'),\n",
       " Card(rank='J', suit='diamonds'),\n",
       " Card(rank='4', suit='spades'),\n",
       " Card(rank='10', suit='clubs'),\n",
       " Card(rank='5', suit='diamonds'),\n",
       " Card(rank='2', suit='diamonds'),\n",
       " Card(rank='8', suit='spades'),\n",
       " Card(rank='4', suit='hearts'),\n",
       " Card(rank='6', suit='clubs'),\n",
       " Card(rank='8', suit='clubs'),\n",
       " Card(rank='9', suit='spades'),\n",
       " Card(rank='4', suit='clubs'),\n",
       " Card(rank='Q', suit='clubs'),\n",
       " Card(rank='9', suit='diamonds'),\n",
       " Card(rank='2', suit='spades'),\n",
       " Card(rank='J', suit='hearts')]"
      ]
     },
     "execution_count": 96,
     "metadata": {},
     "output_type": "execute_result"
    }
   ],
   "source": [
    "shuffle(cards)\n",
    "cards"
   ]
  },
  {
   "cell_type": "code",
   "execution_count": 97,
   "id": "d4d404c5",
   "metadata": {},
   "outputs": [
    {
     "data": {
      "text/plain": [
       "Card(rank='A', suit='spades')"
      ]
     },
     "execution_count": 97,
     "metadata": {},
     "output_type": "execute_result"
    }
   ],
   "source": [
    "choice(cards)"
   ]
  },
  {
   "cell_type": "code",
   "execution_count": 103,
   "id": "49e5861f",
   "metadata": {},
   "outputs": [
    {
     "data": {
      "text/plain": [
       "[Card(rank='10', suit='clubs'),\n",
       " Card(rank='10', suit='diamonds'),\n",
       " Card(rank='3', suit='hearts'),\n",
       " Card(rank='Q', suit='hearts'),\n",
       " Card(rank='joker', suit='black')]"
      ]
     },
     "execution_count": 103,
     "metadata": {},
     "output_type": "execute_result"
    }
   ],
   "source": [
    "sample(cards,k=5)"
   ]
  },
  {
   "cell_type": "markdown",
   "id": "22c2560d",
   "metadata": {},
   "source": [
    "### Counter——计数器"
   ]
  },
  {
   "cell_type": "code",
   "execution_count": 1,
   "id": "732d29d3",
   "metadata": {},
   "outputs": [],
   "source": [
    "from collections import Counter"
   ]
  },
  {
   "cell_type": "code",
   "execution_count": 2,
   "id": "65abbe6a",
   "metadata": {},
   "outputs": [
    {
     "name": "stdout",
     "output_type": "stream",
     "text": [
      "Counter({'奶': 5, '牛': 2, '罩': 1, '刘': 1, '买': 1})\n",
      "Counter({'red': 3, 'blue': 2})\n"
     ]
    }
   ],
   "source": [
    "s = \"牛奶奶罩刘奶奶买牛奶\"\n",
    "colors = [\"red\",\"blue\",\"red\",\"red\",\"blue\"]\n",
    "cnt_s = Counter(s)\n",
    "cnt_color = Counter(colors)\n",
    "print(cnt_s)\n",
    "print(cnt_color)"
   ]
  },
  {
   "cell_type": "markdown",
   "id": "d560b493",
   "metadata": {},
   "source": [
    "Counter是字典的一个子类"
   ]
  },
  {
   "cell_type": "code",
   "execution_count": 3,
   "id": "dd843848",
   "metadata": {},
   "outputs": [
    {
     "name": "stdout",
     "output_type": "stream",
     "text": [
      "True\n"
     ]
    }
   ],
   "source": [
    "print(isinstance(Counter(),dict))"
   ]
  },
  {
   "cell_type": "markdown",
   "id": "13052331",
   "metadata": {},
   "source": [
    "最常见的统计——most_commom(n)\n",
    "提供n个频率最高的元素和计数"
   ]
  },
  {
   "cell_type": "code",
   "execution_count": 4,
   "id": "14d9748d",
   "metadata": {},
   "outputs": [
    {
     "data": {
      "text/plain": [
       "[('red', 3)]"
      ]
     },
     "execution_count": 4,
     "metadata": {},
     "output_type": "execute_result"
    }
   ],
   "source": [
    "cnt_color.most_common(1)"
   ]
  },
  {
   "cell_type": "markdown",
   "id": "415230c7",
   "metadata": {},
   "source": [
    "元素展开—— elements()"
   ]
  },
  {
   "cell_type": "code",
   "execution_count": 8,
   "id": "b5769846",
   "metadata": {},
   "outputs": [
    {
     "data": {
      "text/plain": [
       "['牛', '牛', '奶', '奶', '奶', '奶', '奶', '罩', '刘', '买']"
      ]
     },
     "execution_count": 8,
     "metadata": {},
     "output_type": "execute_result"
    }
   ],
   "source": [
    "list(cnt_s.elements())"
   ]
  },
  {
   "cell_type": "markdown",
   "id": "536a0c81",
   "metadata": {},
   "source": [
    "其他一些加减操作"
   ]
  },
  {
   "cell_type": "code",
   "execution_count": 10,
   "id": "fb762af0",
   "metadata": {},
   "outputs": [
    {
     "data": {
      "text/plain": [
       "Counter({'a': 4, 'b': 5})"
      ]
     },
     "execution_count": 10,
     "metadata": {},
     "output_type": "execute_result"
    }
   ],
   "source": [
    "c = Counter(a=3,b=1)\n",
    "d = Counter(a=1,b=4)\n",
    "c+d"
   ]
  },
  {
   "cell_type": "markdown",
   "id": "6315323a",
   "metadata": {},
   "source": [
    "[例] 从一副牌中取10张，大于10的比例由多少"
   ]
  },
  {
   "cell_type": "code",
   "execution_count": 16,
   "id": "4814cb20",
   "metadata": {},
   "outputs": [
    {
     "name": "stdout",
     "output_type": "stream",
     "text": [
      "['low_cards', 'low_cards', 'low_cards', 'low_cards', 'low_cards', 'low_cards', 'low_cards', 'low_cards', 'tens', 'low_cards', 'low_cards', 'tens', 'tens', 'low_cards', 'tens', 'low_cards', 'low_cards', 'tens', 'low_cards', 'tens']\n"
     ]
    },
    {
     "data": {
      "text/plain": [
       "0.3"
      ]
     },
     "execution_count": 16,
     "metadata": {},
     "output_type": "execute_result"
    }
   ],
   "source": [
    "import random\n",
    "cards = Counter(tens=16, low_cards=36)\n",
    "seen = random.sample(list(cards.elements()), k=20)\n",
    "print(seen)\n",
    "seen.count('tens') / 20"
   ]
  },
  {
   "cell_type": "markdown",
   "id": "f639d066",
   "metadata": {},
   "source": [
    "### deque——双向队列"
   ]
  },
  {
   "cell_type": "markdown",
   "id": "35cf3253",
   "metadata": {},
   "source": [
    "    列表访问数据非常快\n",
    "    \n",
    "    插入和删除操作非常慢——通过移动元素位置来实现\n",
    "    \n",
    "    特别是insert(0,v) 和 pop(0), 在列表开始进行插入和删除操作"
   ]
  },
  {
   "cell_type": "markdown",
   "id": "0c090bb8",
   "metadata": {},
   "source": [
    "#### 双向队列可以方便地在队列两边高效，快速地增加和删除元素"
   ]
  },
  {
   "cell_type": "code",
   "execution_count": 17,
   "id": "f79978bb",
   "metadata": {},
   "outputs": [
    {
     "data": {
      "text/plain": [
       "deque(['c', 'd', 'e'])"
      ]
     },
     "execution_count": 17,
     "metadata": {},
     "output_type": "execute_result"
    }
   ],
   "source": [
    "from collections import deque\n",
    "\n",
    "d = deque('cde')\n",
    "d"
   ]
  },
  {
   "cell_type": "code",
   "execution_count": 18,
   "id": "9b4836db",
   "metadata": {},
   "outputs": [
    {
     "data": {
      "text/plain": [
       "deque(['a', 'b', 'c', 'd', 'e', 'f', 'g'])"
      ]
     },
     "execution_count": 18,
     "metadata": {},
     "output_type": "execute_result"
    }
   ],
   "source": [
    "d.append(\"f\")\n",
    "d.append(\"g\")\n",
    "d.appendleft(\"b\")\n",
    "d.appendleft(\"a\")\n",
    "d"
   ]
  },
  {
   "cell_type": "markdown",
   "id": "1ca8332e",
   "metadata": {},
   "source": [
    "## itertools——迭代器"
   ]
  },
  {
   "cell_type": "markdown",
   "id": "c3d69607",
   "metadata": {},
   "source": [
    "### 排列组合迭代器"
   ]
  },
  {
   "cell_type": "markdown",
   "id": "977ccc70",
   "metadata": {},
   "source": [
    "product —— 笛卡尔积(各元素的排列组合)"
   ]
  },
  {
   "cell_type": "code",
   "execution_count": 2,
   "id": "ad80e2c4",
   "metadata": {},
   "outputs": [
    {
     "name": "stdout",
     "output_type": "stream",
     "text": [
      "('A', '0')\n",
      "('A', '1')\n",
      "('B', '0')\n",
      "('B', '1')\n",
      "('C', '0')\n",
      "('C', '1')\n"
     ]
    }
   ],
   "source": [
    "import itertools\n",
    "\n",
    "for i in itertools.product('ABC',\"01\"):\n",
    "    print(i)"
   ]
  },
  {
   "cell_type": "code",
   "execution_count": 2,
   "id": "fbf16e0b",
   "metadata": {},
   "outputs": [
    {
     "name": "stdout",
     "output_type": "stream",
     "text": [
      "('A', 'A', 'A')\n",
      "('A', 'A', 'B')\n",
      "('A', 'A', 'C')\n",
      "('A', 'B', 'A')\n",
      "('A', 'B', 'B')\n",
      "('A', 'B', 'C')\n",
      "('A', 'C', 'A')\n",
      "('A', 'C', 'B')\n",
      "('A', 'C', 'C')\n",
      "('B', 'A', 'A')\n",
      "('B', 'A', 'B')\n",
      "('B', 'A', 'C')\n",
      "('B', 'B', 'A')\n",
      "('B', 'B', 'B')\n",
      "('B', 'B', 'C')\n",
      "('B', 'C', 'A')\n",
      "('B', 'C', 'B')\n",
      "('B', 'C', 'C')\n",
      "('C', 'A', 'A')\n",
      "('C', 'A', 'B')\n",
      "('C', 'A', 'C')\n",
      "('C', 'B', 'A')\n",
      "('C', 'B', 'B')\n",
      "('C', 'B', 'C')\n",
      "('C', 'C', 'A')\n",
      "('C', 'C', 'B')\n",
      "('C', 'C', 'C')\n"
     ]
    }
   ],
   "source": [
    "for i in itertools.product('ABC',repeat=3):\n",
    "    print(i)"
   ]
  },
  {
   "cell_type": "markdown",
   "id": "baab8511",
   "metadata": {},
   "source": [
    "permutations——排列"
   ]
  },
  {
   "cell_type": "code",
   "execution_count": 3,
   "id": "9efd38b6",
   "metadata": {},
   "outputs": [
    {
     "name": "stdout",
     "output_type": "stream",
     "text": [
      "('A', 'B', 'C')\n",
      "('A', 'B', 'D')\n",
      "('A', 'C', 'B')\n",
      "('A', 'C', 'D')\n",
      "('A', 'D', 'B')\n",
      "('A', 'D', 'C')\n",
      "('B', 'A', 'C')\n",
      "('B', 'A', 'D')\n",
      "('B', 'C', 'A')\n",
      "('B', 'C', 'D')\n",
      "('B', 'D', 'A')\n",
      "('B', 'D', 'C')\n",
      "('C', 'A', 'B')\n",
      "('C', 'A', 'D')\n",
      "('C', 'B', 'A')\n",
      "('C', 'B', 'D')\n",
      "('C', 'D', 'A')\n",
      "('C', 'D', 'B')\n",
      "('D', 'A', 'B')\n",
      "('D', 'A', 'C')\n",
      "('D', 'B', 'A')\n",
      "('D', 'B', 'C')\n",
      "('D', 'C', 'A')\n",
      "('D', 'C', 'B')\n"
     ]
    }
   ],
   "source": [
    "for i in itertools.permutations(\"ABCD\",3):\n",
    "    print(i)"
   ]
  },
  {
   "cell_type": "markdown",
   "id": "1a38aedb",
   "metadata": {},
   "source": [
    "combinations——组合"
   ]
  },
  {
   "cell_type": "code",
   "execution_count": 4,
   "id": "804cc3ba",
   "metadata": {},
   "outputs": [
    {
     "name": "stdout",
     "output_type": "stream",
     "text": [
      "('A', 'B')\n",
      "('A', 'C')\n",
      "('A', 'D')\n",
      "('B', 'C')\n",
      "('B', 'D')\n",
      "('C', 'D')\n"
     ]
    }
   ],
   "source": [
    "for i in itertools.combinations('ABCD',2):\n",
    "    print(i)"
   ]
  },
  {
   "cell_type": "markdown",
   "id": "2d44b040",
   "metadata": {},
   "source": [
    "combinations_with_replacement——元素可重复"
   ]
  },
  {
   "cell_type": "code",
   "execution_count": 5,
   "id": "7735d563",
   "metadata": {},
   "outputs": [
    {
     "name": "stdout",
     "output_type": "stream",
     "text": [
      "('A', 'A')\n",
      "('A', 'B')\n",
      "('A', 'C')\n",
      "('B', 'B')\n",
      "('B', 'C')\n",
      "('C', 'C')\n"
     ]
    }
   ],
   "source": [
    "for i in itertools.combinations_with_replacement('ABC',2):\n",
    "    print(i)"
   ]
  },
  {
   "cell_type": "markdown",
   "id": "1ebb8b43",
   "metadata": {},
   "source": [
    "### 拉链"
   ]
  },
  {
   "cell_type": "markdown",
   "id": "d3baeefc",
   "metadata": {},
   "source": [
    "zip——短拉链 执行到最短的列表结束"
   ]
  },
  {
   "cell_type": "code",
   "execution_count": 6,
   "id": "b83f66a2",
   "metadata": {},
   "outputs": [
    {
     "name": "stdout",
     "output_type": "stream",
     "text": [
      "('a', '0', 'x')\n",
      "('b', '1', 'y')\n",
      "('c', '2', 'z')\n"
     ]
    }
   ],
   "source": [
    "for i in zip(\"abc\",'012','xyz'):\n",
    "    print(i)"
   ]
  },
  {
   "cell_type": "markdown",
   "id": "53969464",
   "metadata": {},
   "source": [
    "zip_longest——长拉链"
   ]
  },
  {
   "cell_type": "code",
   "execution_count": 7,
   "id": "fc4c813d",
   "metadata": {},
   "outputs": [
    {
     "name": "stdout",
     "output_type": "stream",
     "text": [
      "('a', '0')\n",
      "('b', '1')\n",
      "('c', '2')\n",
      "(None, '3')\n",
      "(None, '4')\n"
     ]
    }
   ],
   "source": [
    "for i in itertools.zip_longest(\"abc\",'01234'):\n",
    "    print(i)"
   ]
  },
  {
   "cell_type": "code",
   "execution_count": 8,
   "id": "61f3d5d6",
   "metadata": {},
   "outputs": [
    {
     "name": "stdout",
     "output_type": "stream",
     "text": [
      "('a', '0')\n",
      "('b', '1')\n",
      "('c', '2')\n",
      "('??', '3')\n",
      "('??', '4')\n"
     ]
    }
   ],
   "source": [
    "for i in itertools.zip_longest(\"abc\",'01234',fillvalue='??'):\n",
    "    print(i)"
   ]
  },
  {
   "cell_type": "markdown",
   "id": "bb2c31d3",
   "metadata": {},
   "source": [
    "### 无穷迭代器"
   ]
  },
  {
   "cell_type": "markdown",
   "id": "86b59403",
   "metadata": {
    "pycharm": {
     "name": "#%% md\n"
    }
   },
   "source": [
    "    count(start=0, step=1) ——计数\n",
    "    创建一个迭代器，它从start开始计数，返回均匀间隔的值"
   ]
  },
  {
   "cell_type": "markdown",
   "id": "fa870d2d",
   "metadata": {},
   "source": [
    "    cycle(iterable) ——循环\n",
    "    创建一个迭代器，返回 iterable 中所有元素，无限重复"
   ]
  },
  {
   "cell_type": "markdown",
   "id": "737301a4",
   "metadata": {},
   "source": [
    "    repeat(object[, times]) ——重复\n",
    "    创建一个迭代器，不断重复 object 。除非设定参数 times， 否则无限重复"
   ]
  },
  {
   "cell_type": "code",
   "execution_count": 3,
   "id": "4283da20",
   "metadata": {},
   "outputs": [
    {
     "name": "stdout",
     "output_type": "stream",
     "text": [
      "10\n",
      "10\n",
      "10\n",
      "10\n",
      "10\n"
     ]
    }
   ],
   "source": [
    "for i in itertools.repeat(10,5):\n",
    "    print(i)"
   ]
  },
  {
   "cell_type": "markdown",
   "id": "bfbb11df",
   "metadata": {},
   "source": [
    "### 其他"
   ]
  },
  {
   "cell_type": "markdown",
   "id": "b8f97989",
   "metadata": {},
   "source": [
    "(1)  chain(iterables) ——把几个小迭代器组合成一个大迭代器"
   ]
  },
  {
   "cell_type": "code",
   "execution_count": 4,
   "id": "f540dc23",
   "metadata": {},
   "outputs": [
    {
     "name": "stdout",
     "output_type": "stream",
     "text": [
      "A\n",
      "B\n",
      "C\n",
      "1\n",
      "3\n",
      "4\n"
     ]
    }
   ],
   "source": [
    "for i in itertools.chain('ABC',[1,3,4]):\n",
    "    print(i)"
   ]
  },
  {
   "cell_type": "markdown",
   "id": "eed46a17",
   "metadata": {},
   "source": [
    "(2) enumerate(iterable, start=0) ——枚举"
   ]
  },
  {
   "cell_type": "code",
   "execution_count": 7,
   "id": "c417fe69",
   "metadata": {},
   "outputs": [
    {
     "name": "stdout",
     "output_type": "stream",
     "text": [
      "(2, 'p')\n",
      "(3, 'y')\n",
      "(4, 't')\n",
      "(5, 'h')\n",
      "(6, 'o')\n",
      "(7, 'n')\n"
     ]
    }
   ],
   "source": [
    "for i in enumerate('python', start=2):\n",
    "    print(i)"
   ]
  },
  {
   "cell_type": "markdown",
   "id": "6c08cacf",
   "metadata": {},
   "source": [
    "groupby(iterable, key=None) ——分组\n",
    "\n",
    "    创建一个迭代器，按照key指定的方式，返回iterable中连续的键和组\n",
    "    一般来说，要预先对数据进行排序\n",
    "    key为None默认把连续重复元素分组"
   ]
  },
  {
   "cell_type": "code",
   "execution_count": 8,
   "id": "ab13aebf",
   "metadata": {},
   "outputs": [
    {
     "name": "stdout",
     "output_type": "stream",
     "text": [
      "A ['A', 'A', 'A']\n",
      "B ['B', 'B', 'B']\n",
      "C ['C', 'C']\n",
      "D ['D']\n",
      "A ['A', 'A']\n",
      "B ['B', 'B']\n",
      "C ['C', 'C', 'C']\n",
      "D ['D']\n"
     ]
    }
   ],
   "source": [
    "for key, group in itertools.groupby('AAABBBCCDAABBCCCD'):\n",
    "    print(key,list(group))"
   ]
  },
  {
   "cell_type": "code",
   "execution_count": 9,
   "id": "aa53a4b4",
   "metadata": {},
   "outputs": [
    {
     "name": "stdout",
     "output_type": "stream",
     "text": [
      "['rat', 'bat', 'duck', 'bear', 'lion', 'eagle', 'shark', 'giraffe', 'dolphin']\n",
      "3 ['rat', 'bat']\n",
      "4 ['duck', 'bear', 'lion']\n",
      "5 ['eagle', 'shark']\n",
      "7 ['giraffe', 'dolphin']\n"
     ]
    }
   ],
   "source": [
    "animals = ['duck', 'eagle', 'rat', 'giraffe', 'bear', 'bat', 'dolphin', 'shark', 'lion']\n",
    "animals.sort(key=len)\n",
    "print(animals)\n",
    "for key,group in itertools.groupby(animals,key=len):\n",
    "    print(key,list(group))"
   ]
  },
  {
   "cell_type": "code",
   "execution_count": 10,
   "id": "de970d10",
   "metadata": {},
   "outputs": [
    {
     "name": "stdout",
     "output_type": "stream",
     "text": [
      "b ['bat', 'bear']\n",
      "d ['duck', 'dolphin']\n",
      "e ['eagle']\n",
      "g ['giraffe']\n",
      "l ['lion']\n",
      "r ['rat']\n",
      "s ['shark']\n"
     ]
    }
   ],
   "source": [
    "animals.sort(key=lambda x: x[0])\n",
    "for key,group in itertools.groupby(animals,key=lambda x: x[0]):\n",
    "    print(key,list(group))"
   ]
  }
 ],
 "metadata": {
  "kernelspec": {
   "display_name": "Python 3 (ipykernel)",
   "language": "python",
   "name": "python3"
  },
  "language_info": {
   "codemirror_mode": {
    "name": "ipython",
    "version": 3
   },
   "file_extension": ".py",
   "mimetype": "text/x-python",
   "name": "python",
   "nbconvert_exporter": "python",
   "pygments_lexer": "ipython3",
   "version": "3.9.13"
  }
 },
 "nbformat": 4,
 "nbformat_minor": 5
}
