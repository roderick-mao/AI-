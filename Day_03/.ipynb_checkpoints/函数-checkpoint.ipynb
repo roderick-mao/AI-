{
 "cells": [
  {
   "cell_type": "markdown",
   "id": "19ebec64",
   "metadata": {},
   "source": [
    "## 4.1 函数的定义以及调用"
   ]
  },
  {
   "cell_type": "markdown",
   "id": "42526b63",
   "metadata": {},
   "source": [
    "### 4.1.1 函数的定义\n",
    "三要素：参数，函数体，返回值"
   ]
  },
  {
   "cell_type": "markdown",
   "id": "bdd0c7af",
   "metadata": {},
   "source": [
    "#### 1. 定义\n",
    "\n",
    "    def 函数名（参数）：  \n",
    "        函数体  \n",
    "        return 返回值"
   ]
  },
  {
   "cell_type": "markdown",
   "id": "35df3d77",
   "metadata": {},
   "source": [
    "#### 2. 调用\n",
    "    函数名（参数）"
   ]
  },
  {
   "cell_type": "markdown",
   "id": "52e06c11",
   "metadata": {},
   "source": [
    "## 4.1.2 参数传递\n"
   ]
  },
  {
   "cell_type": "markdown",
   "id": "aa294bfd",
   "metadata": {},
   "source": [
    "#### 1. 形参与实参\n",
    "    形参（形式参数）：函数定义时的参数，实际就是变量名\n",
    "    实参（实际参数）：函数调用时的参数，实际上就是变量的值"
   ]
  },
  {
   "cell_type": "markdown",
   "id": "8d0d2081",
   "metadata": {},
   "source": [
    "#### 2. 位置参数\n",
    "    严格按照位置顺序，用实参对形参进行赋值\n",
    "    一般用在参数较少的时候\n",
    "    实参和形参必须一一对应，一个不能多一个不能少"
   ]
  },
  {
   "cell_type": "markdown",
   "id": "0e01fa37",
   "metadata": {},
   "source": [
    "#### 3. 关键词参数\n",
    "    打破位置限制，直呼其名进行参数传递（形参=实参）\n",
    "    "
   ]
  },
  {
   "cell_type": "code",
   "execution_count": 2,
   "id": "35d3d3af",
   "metadata": {},
   "outputs": [
    {
     "name": "stdout",
     "output_type": "stream",
     "text": [
      "5 1 3\n"
     ]
    }
   ],
   "source": [
    "def demo_fun(x, y ,z):\n",
    "    print(x, y, z)\n",
    "    \n",
    "\n",
    "demo_fun(y=1, z=3, x=5)"
   ]
  },
  {
   "cell_type": "markdown",
   "id": "390ff3a5",
   "metadata": {},
   "source": [
    "##### 位置参数可以和关键词参数混合使用\n",
    "##### 但是位置参数必须放在关键词参数前面"
   ]
  },
  {
   "cell_type": "code",
   "execution_count": 3,
   "id": "34a9e05e",
   "metadata": {},
   "outputs": [
    {
     "name": "stdout",
     "output_type": "stream",
     "text": [
      "1 5 3\n"
     ]
    }
   ],
   "source": [
    "demo_fun(1, z=3, y=5)"
   ]
  },
  {
   "cell_type": "markdown",
   "id": "f14e5456",
   "metadata": {},
   "source": [
    "###### 不能为同一个形参重复传值"
   ]
  },
  {
   "cell_type": "code",
   "execution_count": 4,
   "id": "bcfc6036",
   "metadata": {},
   "outputs": [
    {
     "ename": "TypeError",
     "evalue": "demo_fun() got multiple values for argument 'x'",
     "output_type": "error",
     "traceback": [
      "\u001b[0;31m---------------------------------------------------------------------------\u001b[0m",
      "\u001b[0;31mTypeError\u001b[0m                                 Traceback (most recent call last)",
      "Input \u001b[0;32mIn [4]\u001b[0m, in \u001b[0;36m<cell line: 1>\u001b[0;34m()\u001b[0m\n\u001b[0;32m----> 1\u001b[0m \u001b[43mdemo_fun\u001b[49m\u001b[43m(\u001b[49m\u001b[38;5;241;43m1\u001b[39;49m\u001b[43m,\u001b[49m\u001b[43m \u001b[49m\u001b[43mz\u001b[49m\u001b[38;5;241;43m=\u001b[39;49m\u001b[38;5;241;43m3\u001b[39;49m\u001b[43m,\u001b[49m\u001b[43m \u001b[49m\u001b[43mx\u001b[49m\u001b[38;5;241;43m=\u001b[39;49m\u001b[38;5;241;43m5\u001b[39;49m\u001b[43m)\u001b[49m\n",
      "\u001b[0;31mTypeError\u001b[0m: demo_fun() got multiple values for argument 'x'"
     ]
    }
   ],
   "source": [
    "demo_fun(1, z=3, x=5)"
   ]
  },
  {
   "cell_type": "markdown",
   "id": "681081dc",
   "metadata": {},
   "source": [
    "#### 默认参数\n",
    "    在定义阶段就对参数确定值\n",
    "    默认参数应该当是不可变参数（数字，字符串，元组），否则函数调用时会根据调用的次数发生改变"
   ]
  },
  {
   "cell_type": "code",
   "execution_count": 7,
   "id": "03968b23",
   "metadata": {},
   "outputs": [
    {
     "name": "stdout",
     "output_type": "stream",
     "text": [
      "[1]\n",
      "[1, 1]\n"
     ]
    }
   ],
   "source": [
    "def function(ls=[]):\n",
    "    # print(id(ls))\n",
    "    ls.append(1)\n",
    "    print(ls)\n",
    "    \n",
    "\n",
    "function()\n",
    "function()"
   ]
  },
  {
   "cell_type": "markdown",
   "id": "edf5129e",
   "metadata": {},
   "source": [
    "默认参数传参如果是可变参数则会传入参数地址\n",
    "会导致默认参数变化"
   ]
  },
  {
   "cell_type": "markdown",
   "id": "010433b6",
   "metadata": {},
   "source": [
    "#### 让参数变为可选参数：\n",
    "#### 可变长参数 *args\n",
    "    不知道会传过来多少参数*args\n",
    "    *args 必须放在参数列表最后\n",
    "    \n",
    "    多出的参数会赋值给一个元组"
   ]
  },
  {
   "cell_type": "code",
   "execution_count": 9,
   "id": "1e9b7995",
   "metadata": {},
   "outputs": [
    {
     "name": "stdout",
     "output_type": "stream",
     "text": [
      "1 2 3\n",
      "(4, 5, 6)\n"
     ]
    }
   ],
   "source": [
    "def args_test(x,y,z,*args):\n",
    "    print(x,y,z)\n",
    "    print(args)\n",
    "\n",
    "    \n",
    "args_test(1,2,3,4,5,6)"
   ]
  },
  {
   "cell_type": "markdown",
   "id": "8b63dae2",
   "metadata": {},
   "source": [
    "#### 如果输入一个列表，列表会作为一个元组的元素，如果需要提取列表中的内容则需要使用 * \n",
    "    可以通过 * 读取  列表，字符串，元组，或是集合\n",
    "    "
   ]
  },
  {
   "cell_type": "code",
   "execution_count": 10,
   "id": "412ca47d",
   "metadata": {},
   "outputs": [
    {
     "name": "stdout",
     "output_type": "stream",
     "text": [
      "1 2 3\n",
      "(4, 5, 'a', 'b', 'c', 6, 7, 8, 9)\n"
     ]
    }
   ],
   "source": [
    "ls = [4,5]\n",
    "s = \"abc\"\n",
    "tup = (6,7)\n",
    "se = {8,9}\n",
    "\n",
    "args_test(1,2,3,*ls,*s,*tup,*se)"
   ]
  },
  {
   "cell_type": "markdown",
   "id": "08523b7e",
   "metadata": {},
   "source": [
    "#### 可变长度参数  **kwargs\n",
    "    用赋值的参数进行传递，会转换成字典形式"
   ]
  },
  {
   "cell_type": "code",
   "execution_count": 12,
   "id": "7b6d5840",
   "metadata": {},
   "outputs": [
    {
     "name": "stdout",
     "output_type": "stream",
     "text": [
      "1\n",
      "{'a': 3, 'b': 2, 'c': 5}\n"
     ]
    }
   ],
   "source": [
    "def kwargs_test(x,**kwargs):\n",
    "    print(x)\n",
    "    print(kwargs)\n",
    "    \n",
    "kwargs_test(1,a=3,b=2,c=5)"
   ]
  },
  {
   "cell_type": "markdown",
   "id": "43aec7b5",
   "metadata": {},
   "source": [
    "#### 如果需要传输字典本身为参数需要加 **\n"
   ]
  },
  {
   "cell_type": "code",
   "execution_count": 15,
   "id": "7a7f8de1",
   "metadata": {},
   "outputs": [
    {
     "name": "stdout",
     "output_type": "stream",
     "text": [
      "1\n",
      "{'a': 3, 'b': 4, 'c': 5}\n"
     ]
    }
   ],
   "source": [
    "dic = {'a':3,'b':4,'c':5}\n",
    "\n",
    "kwargs_test(1,**dic)"
   ]
  },
  {
   "cell_type": "markdown",
   "id": "e244a894",
   "metadata": {},
   "source": [
    "#### 一般可变长度会使用  args 以及 kwargs 组合"
   ]
  },
  {
   "cell_type": "markdown",
   "id": "6be65149",
   "metadata": {},
   "source": [
    "### 4.1.3 函数体与变量作用域\n",
    "\n",
    "    在函数体内部定义的变量为局部变量只能在函数体内进行访问和执行\n",
    "    \n",
    "    全局变量  定义在函数外部的变量，在函数体内外都可以调用\n",
    "            或者通过 global 在函数体内部定义全局变量\n",
    "            "
   ]
  },
  {
   "cell_type": "markdown",
   "id": "7da6fa72",
   "metadata": {},
   "source": [
    "### 4.1.4 返回值"
   ]
  },
  {
   "cell_type": "markdown",
   "id": "af937e95",
   "metadata": {},
   "source": [
    "    单个返回值正常返回\n",
    "    多个返回值以元组的形式返回"
   ]
  },
  {
   "cell_type": "code",
   "execution_count": 17,
   "id": "1e371b17",
   "metadata": {},
   "outputs": [
    {
     "data": {
      "text/plain": [
       "(1, 4, 4)"
      ]
     },
     "execution_count": 17,
     "metadata": {},
     "output_type": "execute_result"
    }
   ],
   "source": [
    "def multi_re(x):\n",
    "    return 1,x*2,x**2\n",
    "\n",
    "\n",
    "multi_re(2)"
   ]
  },
  {
   "cell_type": "markdown",
   "id": "82e3ef15",
   "metadata": {},
   "source": [
    "#### 多个返回值的函数可以直接解包赋值给新的变量"
   ]
  },
  {
   "cell_type": "code",
   "execution_count": 18,
   "id": "b095c5f7",
   "metadata": {},
   "outputs": [
    {
     "data": {
      "text/plain": [
       "(1, 10, 25)"
      ]
     },
     "execution_count": 18,
     "metadata": {},
     "output_type": "execute_result"
    }
   ],
   "source": [
    "a, b, c = multi_re(5)\n",
    "a, b, c"
   ]
  }
 ],
 "metadata": {
  "kernelspec": {
   "display_name": "Python 3 (ipykernel)",
   "language": "python",
   "name": "python3"
  },
  "language_info": {
   "codemirror_mode": {
    "name": "ipython",
    "version": 3
   },
   "file_extension": ".py",
   "mimetype": "text/x-python",
   "name": "python",
   "nbconvert_exporter": "python",
   "pygments_lexer": "ipython3",
   "version": "3.9.13"
  }
 },
 "nbformat": 4,
 "nbformat_minor": 5
}
